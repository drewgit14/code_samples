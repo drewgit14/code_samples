{
 "cells": [
  {
   "cell_type": "markdown",
   "metadata": {},
   "source": [
    "# INFS 774 Summer 2020 Assignment 1\n",
    "## Due 6/4/2020 + one-week grace period\n",
    "## In this assignment, you need to finish 3 different tasks. These tasks are not related. I provide code skeleton for these tasks. Wherever you see \"Your code here\", you need to add your code. \n",
    "## Please run your code and submit your notebook with the outputs to assignment 1 dropbox."
   ]
  },
  {
   "cell_type": "code",
   "execution_count": 65,
   "metadata": {},
   "outputs": [],
   "source": [
    "__author__ = 'Andrew Marshall' #please type your name"
   ]
  },
  {
   "cell_type": "markdown",
   "metadata": {},
   "source": [
    "## Task1: Implement the function list_ele_idx(li). \n",
    "The argument of the function is a list, li.The return value of the function should be a list of tuples. Each tuple includes an element in the list li and the index of the element. For example, if you have a list of two string [\"DSU\",\"MSA\"], this function should return a list of tuples [(\"DSU\",0), (\"MSA\",1)]."
   ]
  },
  {
   "cell_type": "code",
   "execution_count": 68,
   "metadata": {},
   "outputs": [],
   "source": [
    "def list_ele_idx(li):\n",
    "    index = 0 # index\n",
    "    lis = [] # initialze a list; you need to add a tuple that includes an element and its index to this list\n",
    "    # Your code here. You can use a \"for\" loop to read items in li and add (item,index)tuples to the list lis\n",
    "    lis = [(li[index],index) for index in range(len(li))] \n",
    "    return lis # return a list of tuples\n"
   ]
  },
  {
   "cell_type": "code",
   "execution_count": 69,
   "metadata": {},
   "outputs": [
    {
     "name": "stdout",
     "output_type": "stream",
     "text": [
      "---------------- task 1 test cases----------------\n",
      "[(5, 0), (3, 1), (2, 2), (6, 3)]\n"
     ]
    }
   ],
   "source": [
    "# I have written a test case for task 1\n",
    "print('---------------- task 1 test cases----------------')\n",
    "print(list_ele_idx([5,3,2,6])) # you code should output: [(5, 0), (3, 1), (2, 2), (6, 3)]"
   ]
  },
  {
   "cell_type": "markdown",
   "metadata": {},
   "source": [
    "## Task 2: Implement the function reverse_key_value(dict1)\n",
    "This function takes a dictionary as its argument. A example of such dictionary can be:\n",
    "\n",
    "{“John”: “A”, “Sarah”: “A”, “Karen”: “B”, “Ken”: “C”}\n",
    "\n",
    "This function needs to reverse each key/value pair in dict1 and returns a dictionary dict2 that includes the reversed key/value pairs:\n",
    "\n",
    "{“A”:[“John”, “Sarah”], “B”:[“Karen”], “C”:[“Ken”]}\n",
    "\n",
    "In Python, a dictionary includes key-value pairs. The keys must be unique, but we can can have duplicate values. In the example above, two students “John” and “Sarah” both got “A”. Hence, when you reverse the key/value pairs, the keys in the new dictinary dict2 include the grades (\"A\", \"B\", and \"C\"), and the values need to be lists. For example, the key “A” corresponds to a list that includes two students “John” and “Sarah” because both John and Sarah got an A, while the key \"B\" corrsponds to a list with one element \"Karen\". You can assume that the values in the dictionary are hashable, i.e., they can be used as keys in the reversed dictionary dict2. As we discussed in the python tutoral, numbers, strings and tuples are hashable, while lists, dictionaries, and objects are un-hashable since they are mutable.   "
   ]
  },
  {
   "cell_type": "code",
   "execution_count": 116,
   "metadata": {},
   "outputs": [],
   "source": [
    "def reverse_key_value(dict1):\n",
    "    dict2 = {} # initialize an empty list.\n",
    "    # Your code here - use for k,v in dict1.items() to read the key values pair and then reverse them and add to dict2\n",
    "    for k, v in dict1.items():\n",
    "        dict2.setdefault(v, list()).append(k)\n",
    "    return dict2"
   ]
  },
  {
   "cell_type": "code",
   "execution_count": 117,
   "metadata": {},
   "outputs": [
    {
     "name": "stdout",
     "output_type": "stream",
     "text": [
      "---------------- task 2 test cases----------------\n",
      "{'A': ['John', 'Sarah'], 'B': ['Karen'], 'C': ['Ken']}\n"
     ]
    }
   ],
   "source": [
    "# Test case for task 2\n",
    "print('---------------- task 2 test cases----------------')\n",
    "print(reverse_key_value({\"John\": \"A\", \"Sarah\": \"A\", \"Karen\": \"B\", \"Ken\": \"C\"}))# should print {'A': ['Sarah', 'John'], 'C': ['Ken'], 'B': ['Karen']}"
   ]
  },
  {
   "cell_type": "markdown",
   "metadata": {},
   "source": [
    "## Task 3 (Word Count). \n",
    "Please first download wordcount_data.zip from assignment 1 folder on D2L and unzip it to a folder called “wordcount_data” and add this folder to your ipython notebook working directory. In this folder, you should see three text files news1.txt, news2.txt and news3.txt. For each file, we want to find the words in the file and then count how many times each word appears in the file. Then we combine the results and count how many times each word appears in the folder/directory. For instance, the word “jpmorgan” appears 3 times in news1.txt and 3 times in news2.txt and does not appear in news3.txt; therefore, this word “jpmorgan” appear 3+3+0 =6 times in the folder. We will do this step by step."
   ]
  },
  {
   "cell_type": "markdown",
   "metadata": {},
   "source": [
    "### Task 3.1. Download NLTK, python's naturual language processing package "
   ]
  },
  {
   "cell_type": "code",
   "execution_count": 2,
   "metadata": {},
   "outputs": [
    {
     "name": "stderr",
     "output_type": "stream",
     "text": [
      "[nltk_data] Downloading package punkt to\n",
      "[nltk_data]     C:\\Users\\jliu2188\\AppData\\Roaming\\nltk_data...\n",
      "[nltk_data]   Package punkt is already up-to-date!\n"
     ]
    },
    {
     "data": {
      "text/plain": [
       "True"
      ]
     },
     "execution_count": 2,
     "metadata": {},
     "output_type": "execute_result"
    }
   ],
   "source": [
    "import nltk\n",
    "nltk.download('punkt') # when you run this line of code for the first time, the nltk package will be downloaded. You will see\n",
    "                       # a pop-up window and click download. "
   ]
  },
  {
   "cell_type": "code",
   "execution_count": 4,
   "metadata": {},
   "outputs": [],
   "source": [
    "# I have implemented this function tokensize. It takes a string as a input and splits this string into a list of words (i.e. tokens).\n",
    "# please run this function\n",
    "def tokenize(s):\n",
    "    tokens = [] # initialize the output list\n",
    "    tokens = nltk.word_tokenize(s)\n",
    "    import string  \n",
    "    tokens1 = []\n",
    "    for token in tokens:\n",
    "        if token not in string.punctuation: # remove tokens that are punctuations\n",
    "            tokens1.append(token)\n",
    "    return tokens1 # return a list of tokens"
   ]
  },
  {
   "cell_type": "markdown",
   "metadata": {},
   "source": [
    "### Task 3.2. Implement the function, count_list(li)\n",
    "\n",
    "This method counts how many times each element appears in the list. It outputs a dictionary. Each key-value pair show a list element and its number of occurrences."
   ]
  },
  {
   "cell_type": "code",
   "execution_count": 9,
   "metadata": {},
   "outputs": [],
   "source": [
    "def count_list(li):\n",
    "    dc = {}\n",
    "    # Your code here to do wordcount for each element in the list\n",
    "    return dc"
   ]
  },
  {
   "cell_type": "code",
   "execution_count": null,
   "metadata": {},
   "outputs": [],
   "source": [
    "# test case for task 3.2\n",
    "print(\"------ test cases for the method count_list() -------\")\n",
    "print(count_list([1, 3, 2, 1, 3, 3])) #output: {1: 2, 2: 1, 3: 3}\n",
    "print(count_list(['a', 'b', ' ', ' ', 'b', 'b'])) #output: {'a': 1, 'b': 3, ' ': 2} - The order of the keys does not matter'''"
   ]
  },
  {
   "cell_type": "markdown",
   "metadata": {},
   "source": [
    "### Task 3.3. Implement the function wordcount_file(file_path)\n",
    "You need to implement the function wordcount_file. This function take a file with its path as the argument and outputs a dictitonary. Each key in the dictionary is a unique word, and its value is the count of the word in the file. Within this function, you need to write code to lowercase all words read from the file."
   ]
  },
  {
   "cell_type": "code",
   "execution_count": null,
   "metadata": {},
   "outputs": [],
   "source": [
    "def wordcount_file(file_path):\n",
    "    s = \"\"\n",
    "    words = [] \n",
    "    dc = {}\n",
    "    f = open(file_path, 'r')\n",
    "    s = f.read() # this read function will read each file as a string\n",
    "    words = tokenize(s) # call the tokenize method defined previously and split the string into words\n",
    "    # Your code here. The list \"words\" may contain words in both uppercase and lowercase. Your code here to lowercase each word in the list. \n",
    "    dc = count_list(words) # Now, the variable words is a list that includes lowercase words. You call the count_list function you implemented previous to obtain a dictionary\n",
    "    return dc"
   ]
  },
  {
   "cell_type": "code",
   "execution_count": null,
   "metadata": {},
   "outputs": [],
   "source": [
    "# test case for task 3.3.\n",
    "print(wordcount_file(\"wordcount_data/news1.txt\"))\n",
    "# your output should be - the order of the keys does not matter:\n",
    "\"\"\"\n",
    "{'jpmorgan': 3,\n",
    " 'chase': 1,\n",
    " 'on': 3,\n",
    " 'wednesday': 1,\n",
    " 'reported': 2,\n",
    " 'an': 2,\n",
    " 'unexpected': 1,\n",
    " 'drop': 1,\n",
    " 'in': 5,\n",
    " 'profit': 4,\n",
    " 'during': 1,\n",
    " 'a': 9,\n",
    " 'sluggish': 1,\n",
    " 'fourth': 2,\n",
    " 'quarter': 2,\n",
    " 'the': 17,\n",
    " 'bank': 4,\n",
    " 'said': 1,\n",
    " 'its': 1,\n",
    " 'earnings': 1,\n",
    " 'fell': 2,\n",
    " '7': 1,\n",
    " 'percent': 4,\n",
    " 'to': 3,\n",
    " '4.9': 1,\n",
    " 'billion': 7,\n",
    " 'or': 3,\n",
    " '1.19': 1,\n",
    " 'share': 3,\n",
    " 'from': 2,\n",
    " '5.6': 1,\n",
    " '1.30': 1,\n",
    " 'period': 1,\n",
    " 'year': 1,\n",
    " 'earlier': 1,\n",
    " 'most': 1,\n",
    " 'recent': 1,\n",
    " 'results': 1,\n",
    " 'short': 1,\n",
    " 'of': 5,\n",
    " '1.31': 1,\n",
    " 'expected': 1,\n",
    " 'by': 6,\n",
    " 'analysts': 2,\n",
    " 'surveyed': 1,\n",
    " 'thomson': 1,\n",
    " 'reuters': 1,\n",
    " 'net': 1,\n",
    " 'revenue': 2,\n",
    " 'at': 1,\n",
    " 'dropped': 1,\n",
    " '3': 1,\n",
    " '22.5': 1,\n",
    " '2013': 1,\n",
    " 'so-called': 1,\n",
    " 'managed': 1,\n",
    " 'basis': 2,\n",
    " 'was': 2,\n",
    " '23.55': 1,\n",
    " 'slightly': 1,\n",
    " 'below': 1,\n",
    " '23.6': 1,\n",
    " 'anticipated': 1,\n",
    " '’': 2,\n",
    " 's': 2,\n",
    " 'shares': 1,\n",
    " 'were': 1,\n",
    " 'down': 1,\n",
    " '4': 1,\n",
    " 'midmorning': 1,\n",
    " 'trading': 1,\n",
    " 'for': 2,\n",
    " '2014': 1,\n",
    " 'as': 2,\n",
    " 'whole': 1,\n",
    " '21.8': 1,\n",
    " '21': 1,\n",
    " 'increase': 1,\n",
    " 'and': 1,\n",
    " 'highest': 1,\n",
    " 'ever': 1,\n",
    " 'annual': 1,\n",
    " 'company': 2,\n",
    " 'quarterly': 1,\n",
    " 'hurt': 1,\n",
    " '900': 1,\n",
    " 'million': 1,\n",
    " 'new': 1,\n",
    " 'legal': 2,\n",
    " 'expenses': 1,\n",
    " '1.1': 1,\n",
    " 'pretax': 1,\n",
    " 'prepared': 1,\n",
    " 'settle': 1,\n",
    " 'investigation': 1,\n",
    " 'into': 1,\n",
    " 'manipulation': 1,\n",
    " 'foreign': 1,\n",
    " 'currency': 1,\n",
    " 'markets': 1,\n",
    " 'big': 2,\n",
    " 'banks': 1,\n",
    " 'these': 1,\n",
    " 'are': 1,\n",
    " 'latest': 1,\n",
    " 'costs': 1,\n",
    " 'being': 1,\n",
    " 'absorbed': 1,\n",
    " 'wake': 1,\n",
    " 'financial': 1,\n",
    " 'crisis': 1}\n",
    "\"\"\""
   ]
  },
  {
   "cell_type": "markdown",
   "metadata": {},
   "source": [
    "### Task 3.4. Implement the function wordcount_dictionary(dictionary) "
   ]
  },
  {
   "cell_type": "code",
   "execution_count": null,
   "metadata": {},
   "outputs": [],
   "source": [
    "import os\n",
    "def wordcount_dictionary(dictionary):\n",
    "    dc= {}\n",
    "    ### Your code here\n",
    "    # 1. you need to first look at how to find the filenames of all files in the directory: hint: look at the OS module see tutorual\n",
    "    # 2. read files in the directory one by one. You use dictionary + \"/\" + filename to get the path for reading a file \n",
    "    # 3. After you read a file, call the \"wordcount_file\" method to do wordcount for the file. You are going to get\n",
    "    #    a dictionary for each file\n",
    "    # 4. you need to combine the wordcount results for all files in the directory.\n",
    "    #    the idea is that after reading the first file, you will get a dictionary that shows wordcounts for the file,\n",
    "    #    You need to add results stored in the dictionary to \"dc\", the output dictionary. Then you read the second file, and you again get a dictionary.\n",
    "    #    You need to add the results stored in the dictionary again to \"dict\", and so on.\n",
    "    #    How to add the contents in a dictionary to another dictionary? you need to take out a key-value pair from the former and check to see if\n",
    "    #    the latter already has the key, if yes, you need to modify the value associated with the key,\n",
    "    #    if no, you just add the key-value pair to the latter.\n",
    "    #\n",
    "    return dc\n",
    "\n",
    "# The function call below will show you the wordcounts in the dictionary \"word_data\"\n",
    "print(wordcount_dictionary(\"word_data\"))"
   ]
  }
 ],
 "metadata": {
  "kernelspec": {
   "display_name": "Python 3",
   "language": "python",
   "name": "python3"
  },
  "language_info": {
   "codemirror_mode": {
    "name": "ipython",
    "version": 3
   },
   "file_extension": ".py",
   "mimetype": "text/x-python",
   "name": "python",
   "nbconvert_exporter": "python",
   "pygments_lexer": "ipython3",
   "version": "3.7.7"
  }
 },
 "nbformat": 4,
 "nbformat_minor": 2
}
