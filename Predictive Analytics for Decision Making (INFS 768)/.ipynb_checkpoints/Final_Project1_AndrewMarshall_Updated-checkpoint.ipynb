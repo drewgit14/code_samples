{
 "cells": [
  {
   "cell_type": "code",
   "execution_count": null,
   "metadata": {},
   "outputs": [],
   "source": [
    "# Built-in/Generic Imports\n",
    "import os\n",
    "import sys\n",
    "#\n",
    "\n",
    "# Libraries\n",
    "#import xgboost as xgb\n",
    "import numpy as np\n",
    "import pandas as pd\n",
    "import scipy as sp\n",
    "#\n",
    "\n",
    "# Modules\n",
    "from sklearn import preprocessing\n",
    "from sklearn.preprocessing import LabelEncoder\n",
    "from sklearn.model_selection import train_test_split\n",
    "from sklearn import tree\n",
    "from sklearn.tree import DecisionTreeClassifier\n",
    "from sklearn.tree import export_graphviz\n",
    "#from sklearn.metrics import classification_report,confusion_matrix\n",
    "#from sklearn.cross_validation import cross_val_score\n",
    "#from sklearn.metrics import precision_score\n",
    "from sklearn.model_selection import GridSearchCV\n",
    "\n",
    "#Suppress scientific notation\n",
    "np.set_printoptions(suppress=True)\n",
    "\n",
    "\n"
   ]
  },
  {
   "cell_type": "code",
   "execution_count": null,
   "metadata": {},
   "outputs": [],
   "source": [
    "#import file for dataset\n",
    "vgsales = pd.read_csv('R:/Project Files/videogamesales/vgsales.csv')\n",
    "vgsales"
   ]
  },
  {
   "cell_type": "code",
   "execution_count": null,
   "metadata": {},
   "outputs": [],
   "source": [
    "# separate the data from the target attributes\n",
    "X = vgsales.drop(['Publisher','Genre','Year'],axis=1)\n",
    "y = vgsales.Genre\n"
   ]
  },
  {
   "cell_type": "code",
   "execution_count": null,
   "metadata": {},
   "outputs": [],
   "source": [
    "#Generate feature name array\n",
    "X_featurenames = np.asarray(X.columns.values)\n",
    "\n",
    "X_featurenames\n",
    "\n"
   ]
  },
  {
   "cell_type": "code",
   "execution_count": null,
   "metadata": {},
   "outputs": [],
   "source": [
    "#Generate class names array\n",
    "classnames = y.unique()\n",
    "\n",
    "classnames\n"
   ]
  },
  {
   "cell_type": "code",
   "execution_count": null,
   "metadata": {},
   "outputs": [],
   "source": [
    "le = LabelEncoder()\n",
    "\n",
    "#Encoding Rank\n",
    "#le.fit(X.Rank)\n",
    "#X.Rank = le.transform(X.Rank)\n",
    "\n",
    "#Encoding Name\n",
    "le.fit(X.Name)\n",
    "X.Name = le.transform(X.Name)\n",
    "\n",
    "#Encoding Platform\n",
    "le.fit(X.Platform)\n",
    "X.Platform = le.transform(X.Platform)\n",
    "\n",
    "#Encoding Genre - y\n",
    "le.fit(y)\n",
    "y = le.transform(y)\n",
    "\n"
   ]
  },
  {
   "cell_type": "code",
   "execution_count": null,
   "metadata": {},
   "outputs": [],
   "source": [
    "# standardize the data attributes\n",
    "X = preprocessing.scale(X)\n",
    "\n",
    "X\n"
   ]
  },
  {
   "cell_type": "code",
   "execution_count": null,
   "metadata": {},
   "outputs": [],
   "source": [
    "# The relevant dataset is imported and split into its training and test sets in this cell.\n",
    "#from sklearn.model_selection import train_test_split\n",
    "X_train, X_test, y_train, y_test = train_test_split(X, y,stratify=y, test_size=0.20, random_state=42)"
   ]
  },
  {
   "cell_type": "code",
   "execution_count": null,
   "metadata": {},
   "outputs": [],
   "source": [
    "#tree = DecisionTreeClassifier(max_depth=25, random_state=42)\n",
    "\n",
    "parameters = {'max_depth':range(3,20)}\n",
    "clf = GridSearchCV(tree.DecisionTreeClassifier(), parameters, cv=5, n_jobs=1)\n",
    "clf.fit(X=X_train, y=y_train)\n",
    "tree_model = clf.best_estimator_\n",
    "print (clf.best_score_, clf.best_params_) \n",
    "\n",
    "tree_model.fit(X_train, y_train)\n",
    "print(\"Accuracy on training set: {:.3f}\".format(tree_model.score(X_train, y_train)))\n",
    "print(\"Accuracy on test set: {:.3f}\".format(tree_model.score(X_test, y_test)))"
   ]
  },
  {
   "cell_type": "code",
   "execution_count": null,
   "metadata": {},
   "outputs": [],
   "source": [
    "import graphviz"
   ]
  },
  {
   "cell_type": "code",
   "execution_count": null,
   "metadata": {},
   "outputs": [],
   "source": [
    "#In this cell, the data is exported out to a dot file in preparation of visualizing the generated decision tree.\n",
    "\n",
    "tree.export_graphviz(tree_model, out_file=\"tree.dot\", class_names=classnames,feature_names=X_featurenames, impurity=False, filled=True)"
   ]
  },
  {
   "cell_type": "code",
   "execution_count": null,
   "metadata": {
    "scrolled": false
   },
   "outputs": [],
   "source": [
    "#In this cell, the previously imported dot file is processed using graphviz\n",
    "\n",
    "#import graphviz\n",
    "with open(\"tree.dot\") as f:\n",
    " dot_graph = f.read()\n",
    "display(graphviz.Source(dot_graph))"
   ]
  }
 ],
 "metadata": {
  "kernelspec": {
   "display_name": "Python 3",
   "language": "python",
   "name": "python3"
  },
  "language_info": {
   "codemirror_mode": {
    "name": "ipython",
    "version": 3
   },
   "file_extension": ".py",
   "mimetype": "text/x-python",
   "name": "python",
   "nbconvert_exporter": "python",
   "pygments_lexer": "ipython3",
   "version": "3.7.7"
  }
 },
 "nbformat": 4,
 "nbformat_minor": 2
}
