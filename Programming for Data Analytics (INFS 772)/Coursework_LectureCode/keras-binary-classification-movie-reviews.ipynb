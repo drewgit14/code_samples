{
 "cells": [
  {
   "cell_type": "markdown",
   "metadata": {},
   "source": [
    "<p style=\"font-family: Arial; font-size:3em;color:purple; font-style:bold\"><br>\n",
    "Binary Classification of Movie Reviews with Keras<br><br>\n",
    "<br><br>INFS 772 Spring 2019 ~ Week 15-16<br></p>\n",
    "\n",
    "<p style=\"font-family: Arial; font-size:1.5em;color:#2462C0; font-style:bold\"><br>\n",
    "IMDB Movie reviews sentiment classification</p>\n",
    "\n",
    "- Load the IMDB dataset\n",
    "- Define Training Data: input tensors and target tensors\n",
    "- Define a network of layers (a \"model\") that map inputs to targets\n",
    "- Configue the learning process by picking a loss function, an optimizer, and some metrics to monitor\n",
    "- Iterate on the training data\n",
    "- Verify accuracy\n",
    "- Optimize\n",
    "- Predict\n",
    "\n",
    "<p style=\"font-family: Arial; font-size:1.5em;color:#2462C0; font-style:bold\"><br>\n",
    "One-Dimensional Convolutional Neural Network Model for the IMDB Dataset</p>\n",
    "<p style=\"font-family: Arial; font-size:1.5em;color:#2462C0; font-style:bold\"><br>\n",
    "A LSTM Model on the IMDB Sentiment Classification</p>\n",
    "<p style=\"font-family: Arial; font-size:1.5em;color:#2462C0; font-style:bold\"><br>\n",
    "LSTM and Convolutional Neural Network For Sequence Classification</p>\n",
    "<p style=\"font-family: Arial; font-size:1.5em;color:#2462C0; font-style:bold\"><br>\n",
    "Summary</p>\n",
    "\n",
    "\n",
    "\n",
    "\n",
    "\n",
    "<center>\n",
    "    <br>\n",
    "    <p style=\"font-family: Arial; font-size:1.5em;color:#2462C0; font-style:bold\"></p><br><br>\n",
    "    <br><br>\n",
    "    <img src='https://opensource.com/sites/default/files/u128651/1tensorflow.png' width=40%>\n",
    "</center>"
   ]
  },
  {
   "cell_type": "markdown",
   "metadata": {},
   "source": [
    "## IMDB Movie reviews sentiment classification\n",
    "\n",
    "#### After this last part of the workshop, you will know:\n",
    "\n",
    "- About the IMDB dataset for sentiment analysis and how to load it in Keras.\n",
    "- How to use word embedding in Keras for natural language problems.\n",
    "- How to develop and evaluate a multi-layer neural network model for the IMDB problem.\n",
    "- How to develop a one-dimensional convolutional neural network model for the IMDB problem.\n",
    "\n",
    "In this tutorial we will use the IMDB Movie Review Dataset (from Stanford University) which consists of 50,000 movie reviews (50% negative and 50% positive). The set is divided to training and test datasets (each with 25000 movie reviews with equal number of positive and negative reviews).\n",
    "\n",
    "Our objective is to create a neural network (as a Keras model) that can predict if a given movie review is positive or negative. This type of computation is also called Sentiment Analysis, as we try to train our neural network to predict the sentimental value of a movie review (negative or positive?).\n",
    "\n",
    "Reviews have been preprocessed, and each review is encoded as a sequence of word indexes (integers). For convenience, words are indexed by overall frequency in the dataset, so that for instance the integer \"3\" encodes the 3rd most frequent word in the data. This allows for quick filtering operations such as: \"only consider the top 10,000 most common words\".\n",
    "\n",
    "The data was collected by Stanford researchers and was used in a 2011 paper where a split of 50/50 of the data was used for training and test. An accuracy of 88.89% was achieved.\n",
    "\n",
    "The data was also used as the basis for a Kaggle competition titled “Bag of Words Meets Bags of Popcorn” in late 2014 to early 2015. Accuracy was achieved above 97% with winners achieving 99%.\n",
    "\n",
    "## Load the IMDB dataset\n",
    "\n",
    "### conda install tensorflow\n",
    "### conda install -c conda-forge keras"
   ]
  },
  {
   "cell_type": "code",
   "execution_count": 17,
   "metadata": {
    "scrolled": false
   },
   "outputs": [],
   "source": [
    "from keras.datasets import imdb"
   ]
  },
  {
   "cell_type": "markdown",
   "metadata": {},
   "source": [
    "The variables train_data and test_data are lists of movie reviews. Each review is a\n",
    "list of word indices (encoding a sequence of words). train_labels and test_labels\n",
    "are lists of 0's and 1's. 0 stands for \"negative\" and 1 stands for \"positive\"."
   ]
  },
  {
   "cell_type": "code",
   "execution_count": 18,
   "metadata": {},
   "outputs": [
    {
     "name": "stdout",
     "output_type": "stream",
     "text": [
      " Volume in drive C has no label.\n",
      " Volume Serial Number is 644B-57E9\n",
      "\n",
      " Directory of C:\\Users\\dzeng\\.keras\n",
      "\n",
      "09/20/2017  02:29 PM    <DIR>          .\n",
      "09/20/2017  02:29 PM    <DIR>          ..\n",
      "02/05/2018  12:16 PM    <DIR>          datasets\n",
      "09/20/2017  02:26 PM               125 keras.json\n",
      "               1 File(s)            125 bytes\n",
      "               3 Dir(s)  419,874,766,848 bytes free\n"
     ]
    }
   ],
   "source": [
    "!dir C:\\Users\\dzeng\\.keras"
   ]
  },
  {
   "cell_type": "markdown",
   "metadata": {},
   "source": [
    "The argument num_words=10000 means to only keep the 10,000 most frequently occurring words in the training data."
   ]
  },
  {
   "cell_type": "code",
   "execution_count": 19,
   "metadata": {
    "scrolled": true
   },
   "outputs": [],
   "source": [
    "(train_data, train_labels), (test_data, test_labels) = imdb.load_data(num_words=10000)"
   ]
  },
  {
   "cell_type": "markdown",
   "metadata": {},
   "source": [
    "**imdb.load_data returns:**\n",
    "\n",
    "train_data, test_data: list of sequences, which are lists of indexes (integers). If the num_words argument was specific, the maximum possible index value is num_words-1.\n",
    "train_labels, test_labels: list of integer labels (1 or 0).\n",
    "\n",
    "Here's the first record in train_data...."
   ]
  },
  {
   "cell_type": "code",
   "execution_count": 20,
   "metadata": {
    "scrolled": true
   },
   "outputs": [
    {
     "name": "stdout",
     "output_type": "stream",
     "text": [
      "[1, 4, 9941, 132, 1184, 5622, 1935, 9, 34, 57, 817, 6, 52, 20, 21, 13, 191, 66, 135, 45, 31, 13, 2598, 149, 13, 100, 140, 23, 5, 23, 44, 4, 1566, 1409, 7, 4, 20, 40, 4, 394, 116, 5, 4, 4673, 139, 121, 1935, 9, 267, 18, 4, 250, 47, 6, 2, 1477, 34, 160, 2, 1477, 34, 6, 925, 720, 19, 6, 2, 525, 21, 45, 43, 24, 290, 2, 23, 54, 12, 266, 8, 6, 20, 40, 14, 305, 1977, 677, 1007, 138, 25, 144, 106, 4, 9941, 132, 60, 151, 45, 78, 10, 10, 457, 45, 254, 8, 6110, 15, 12, 47, 49, 2070, 948, 1008, 8, 12, 4, 64, 439, 9, 11, 94, 954, 3386, 163, 2603, 48, 164, 334, 14, 9, 6, 20, 15, 203, 6021, 25, 8, 67, 4, 204, 4827, 22, 42, 60, 332, 4, 346, 65, 23, 63, 12, 9, 448, 10, 10, 470, 18, 6, 954, 189, 708, 12, 9, 66, 2, 5754, 45, 184, 578, 15, 12, 16, 814, 23, 1622, 305, 7, 772, 1419, 268, 42, 3761, 732, 38, 75, 79, 8, 67, 49, 55, 87, 1385, 50, 26, 82, 111, 1780, 3946, 665, 12, 9, 6, 55, 52, 267, 20, 10, 10, 342, 5622, 1935, 9, 24, 38, 76, 35, 284, 17, 29, 9, 6, 1147, 7, 876, 726, 335, 6, 337, 7, 27, 42, 24, 12, 186, 17, 48, 45, 1167, 18, 1935, 8, 297, 6, 1280, 232, 50, 9, 210, 49, 243, 7, 2, 42, 2, 29, 961, 8, 4, 105, 29, 299, 5, 1276, 13, 244, 210, 4733, 34, 149, 90, 11, 101, 20, 29, 127, 726, 5622, 1935, 9, 87, 42, 394, 29, 210, 961, 27, 955, 1708, 83, 297, 5, 29, 9, 115, 357, 8, 106, 29, 9, 394, 11, 4, 9941, 132, 21, 11, 4, 91, 389, 243, 7, 96, 10, 10, 241, 6, 1475, 100, 242, 901, 6, 609, 7, 6, 2300, 23, 14, 20, 17, 12, 186, 8, 30, 4, 5655, 1210, 4944, 20, 126, 93, 67, 25, 100, 901, 14, 9, 51, 571, 54, 372, 26, 1668, 8, 521, 6, 926, 82, 4, 4351, 200, 14, 2, 926, 5, 6, 2, 8184, 26, 184, 221, 5, 290, 8102, 10, 10, 300, 48, 335, 886, 14, 225, 242, 6, 52, 580, 25, 203, 28, 110, 6, 6221, 374, 15, 47, 413, 55, 1063, 6, 1594, 7, 3568, 39, 4, 20, 587, 1935, 620, 187, 11, 6, 2123, 1735, 5, 7, 265, 4, 3149, 2, 4, 2, 61, 523, 347, 134, 139, 26, 642, 46, 7, 2008, 5, 36, 26, 131, 1018, 163, 137, 149, 98, 11, 4, 598, 6274, 10, 10, 13, 1247, 4, 343, 288, 33, 2645, 18, 44, 457, 2512, 54, 25, 157, 15, 46, 45, 44, 6, 2863, 3113, 282, 45, 6, 184, 52, 855, 10, 10, 854, 4, 2, 310, 7, 4, 20, 9, 4, 118, 8, 106, 5, 45, 128, 8, 106, 4, 2253, 310, 43, 18, 94, 117, 1283, 23, 2, 63, 944, 6, 2055, 39, 592, 4748]\n"
     ]
    }
   ],
   "source": [
    "print(train_data[0])"
   ]
  },
  {
   "cell_type": "markdown",
   "metadata": {},
   "source": [
    "What we see is a list of integers. Each integer represents one word in a movie review. That is, our movie review has been converted to a list of integers. Each word in our movie review vocabulary has been indexed by a unique integer. Here is the text of an example review from our dataset:\n",
    "<img src='http://www.samyzaf.com/ML/imdb/review1.png' width=70%>\n",
    "\n",
    "A simple parsing and indexing can map each word in our movie review database to a unique integer like in this example:\n",
    "<img src='http://www.samyzaf.com/ML/imdb/review2.png' width=70%>\n"
   ]
  },
  {
   "cell_type": "code",
   "execution_count": 21,
   "metadata": {},
   "outputs": [
    {
     "data": {
      "text/plain": [
       "((25000,), (25000,))"
      ]
     },
     "execution_count": 21,
     "metadata": {},
     "output_type": "execute_result"
    }
   ],
   "source": [
    "train_data.shape, test_data.shape"
   ]
  },
  {
   "cell_type": "markdown",
   "metadata": {},
   "source": [
    "And the first label in train_labels...."
   ]
  },
  {
   "cell_type": "code",
   "execution_count": null,
   "metadata": {
    "scrolled": false
   },
   "outputs": [],
   "source": [
    "train_data[0]"
   ]
  },
  {
   "cell_type": "markdown",
   "metadata": {},
   "source": [
    "## Define Training Data: input tensors and target tensors\n",
    "We can't feed lists of integers into a neural network. The lists must be converted to tensors. Here's one approach to do that."
   ]
  },
  {
   "cell_type": "code",
   "execution_count": 23,
   "metadata": {
    "collapsed": true
   },
   "outputs": [],
   "source": [
    "import numpy as np\n",
    "\n",
    "def vectorize_sequences(sequences, dimension=10000):\n",
    "    # first initialize a tensor of shape (len(sequences), dimension) with all zeros\n",
    "    results = np.zeros((len(sequences), dimension))\n",
    "    \n",
    "    # now loop through and set integers (i.e. words) to 1.\n",
    "    for i, sequence in enumerate(sequences):\n",
    "        results[i, sequence] = 1. \n",
    "    \n",
    "    return results\n",
    "\n",
    "# vectorized training data\n",
    "x_train = vectorize_sequences(train_data)\n",
    "\n",
    "# vectorized test data\n",
    "x_test = vectorize_sequences(test_data)"
   ]
  },
  {
   "cell_type": "markdown",
   "metadata": {},
   "source": [
    "Here's the first integer sequence encoded into a binary tensor."
   ]
  },
  {
   "cell_type": "code",
   "execution_count": 24,
   "metadata": {
    "scrolled": true
   },
   "outputs": [
    {
     "data": {
      "text/plain": [
       "array([ 0.,  1.,  1., ...,  0.,  0.,  0.])"
      ]
     },
     "execution_count": 24,
     "metadata": {},
     "output_type": "execute_result"
    }
   ],
   "source": [
    "x_train[0]"
   ]
  },
  {
   "cell_type": "code",
   "execution_count": 25,
   "metadata": {},
   "outputs": [
    {
     "data": {
      "text/plain": [
       "10000"
      ]
     },
     "execution_count": 25,
     "metadata": {},
     "output_type": "execute_result"
    }
   ],
   "source": [
    "len(x_train[0])"
   ]
  },
  {
   "cell_type": "markdown",
   "metadata": {},
   "source": [
    "We also need to vectorize the labels."
   ]
  },
  {
   "cell_type": "code",
   "execution_count": 26,
   "metadata": {
    "collapsed": true
   },
   "outputs": [],
   "source": [
    "y_train = np.asarray(train_labels).astype('float32')\n",
    "y_test = np.asarray(test_labels).astype('float32')"
   ]
  },
  {
   "cell_type": "markdown",
   "metadata": {},
   "source": [
    "<img src='http://deeplearning.lipingyang.org/wp-content/uploads/2017/02/img_589a484724625.png' width=25%>\n",
    "## Define a network of layers (a \"model\") that map inputs to targets\n",
    "Now we can create a network model. In this example, we'll try two intermediate layers with 16 hidden units each, and a third layer which will output the scalar prediction of the sentiment (positive or negative) of the current review. The intermediate layers will use relu as the activation function. The final layer will use sigmoid activation to generate a probability (a score between 0 and 1) which indicates how likely the sample is be a positive review (the closer the score is to 1, the higher the probability that the review is positive)."
   ]
  },
  {
   "cell_type": "code",
   "execution_count": 27,
   "metadata": {},
   "outputs": [
    {
     "name": "stdout",
     "output_type": "stream",
     "text": [
      "_________________________________________________________________\n",
      "Layer (type)                 Output Shape              Param #   \n",
      "=================================================================\n",
      "dense_4 (Dense)              (None, 16)                160016    \n",
      "_________________________________________________________________\n",
      "dense_5 (Dense)              (None, 16)                272       \n",
      "_________________________________________________________________\n",
      "dense_6 (Dense)              (None, 1)                 17        \n",
      "=================================================================\n",
      "Total params: 160,305\n",
      "Trainable params: 160,305\n",
      "Non-trainable params: 0\n",
      "_________________________________________________________________\n",
      "None\n"
     ]
    }
   ],
   "source": [
    "from keras.models import Sequential\n",
    "from keras.layers import Dense\n",
    "\n",
    "model = Sequential()\n",
    "model.add(Dense(16, activation='relu', input_dim=10000))\n",
    "model.add(Dense(16, activation='relu'))\n",
    "model.add(Dense(1, activation='sigmoid'))\n",
    "print(model.summary())"
   ]
  },
  {
   "cell_type": "markdown",
   "metadata": {},
   "source": [
    "<img src='https://cdn-images-1.medium.com/max/1200/1*FcEfcrucAFymCr0gMFQ0QA@2x.png' width=40%>\n",
    "<center style=\"font-family: Arial; font-size:1.3em;color:blue; font-style:bold\">The structure of one neuron connecting to the inputs<br>n = 10000 in our model</center><br><br><br><br>\n",
    "<img src='https://cdn-images-1.medium.com/max/1200/1*Gh5PS4R_A5drl5ebd_gNrg@2x.png' width=50%>\n",
    "<center style=\"font-family: Arial; font-size:1.3em;color:blue; font-style:bold\">The network architecture<br>We have 16 and 16 nodes for the two hidden layers in our model</center><br><br><br><br>\n",
    "<img src='https://cdn-images-1.medium.com/max/1200/1*4u9oFYoxIwqHzOfGY-4W-w.png' width=60%><br>\n",
    "<img src='https://cdn-images-1.medium.com/max/1200/1*scEV0vy3N-bQBVlv2pjdoQ.png' width=60%>\n",
    "<center style=\"font-family: Arial; font-size:1.3em;color:blue; font-style:bold\">The data transformation<br>We have 10000X16 + 16X16 +16X1 = 160,272 weights, and total 160,305 parameters in our model</center><br><br><br><br>\n",
    "\n",
    "\n",
    "## Configue the learning process by picking a loss function, an optimizer, and some metrics to monitor\n",
    "\n",
    "\n",
    "We also need to select a loss function and an optimizer for the network. We'll choose the rmsprop optimizer and the binary_crossentropy loss function. We also want to measure accuracy."
   ]
  },
  {
   "cell_type": "code",
   "execution_count": 28,
   "metadata": {
    "collapsed": true
   },
   "outputs": [],
   "source": [
    "model.compile(optimizer='rmsprop', loss='binary_crossentropy', metrics=['accuracy'])"
   ]
  },
  {
   "cell_type": "markdown",
   "metadata": {},
   "source": [
    "We'll also configure the optimizer."
   ]
  },
  {
   "cell_type": "code",
   "execution_count": 29,
   "metadata": {
    "collapsed": true
   },
   "outputs": [],
   "source": [
    "from keras.optimizers import RMSprop\n",
    "\n",
    "model.compile(optimizer=RMSprop(lr=0.001), loss='binary_crossentropy', metrics=['accuracy'])"
   ]
  },
  {
   "cell_type": "markdown",
   "metadata": {},
   "source": [
    "We also want binary accuracy."
   ]
  },
  {
   "cell_type": "code",
   "execution_count": 30,
   "metadata": {
    "collapsed": true
   },
   "outputs": [],
   "source": [
    "from keras.objectives import binary_crossentropy\n",
    "from keras.metrics import binary_accuracy\n",
    "\n",
    "model.compile(optimizer=RMSprop(lr=0.001), loss=binary_crossentropy, metrics=[binary_accuracy])"
   ]
  },
  {
   "cell_type": "markdown",
   "metadata": {},
   "source": [
    "Now we'll create a set of validation data by with 10,000 samples from the original training data."
   ]
  },
  {
   "cell_type": "code",
   "execution_count": 31,
   "metadata": {},
   "outputs": [],
   "source": [
    "x_val = x_train[:10000]\n",
    "partial_x_train = x_train[10000:]\n",
    "\n",
    "y_val = y_train[:10000]\n",
    "partial_y_train = y_train[10000:]"
   ]
  },
  {
   "cell_type": "markdown",
   "metadata": {},
   "source": [
    "## Iterate on the training data\n",
    "Now we'll train our model for 20 epochs (i.e., 20 iterations over all samples in the x_train and y_train tensors), in batches of 512 samples. We'll also monitor loss and accuracy on the 10,000 samples by passing the validation data as the validation_data argument.\n",
    "<br>**During each iteration, there are 160,305 parameter updates. To complete 20 epochs on the 15,000 training samples, there are about 94 million parameter updates!**"
   ]
  },
  {
   "cell_type": "code",
   "execution_count": null,
   "metadata": {
    "scrolled": true
   },
   "outputs": [],
   "source": [
    "history = model.fit(partial_x_train, partial_y_train, epochs=20, batch_size=512, validation_data=(x_val, y_val))"
   ]
  },
  {
   "cell_type": "markdown",
   "metadata": {},
   "source": [
    "## Verify accuracy\n",
    "Now we can look at the training metrics."
   ]
  },
  {
   "cell_type": "code",
   "execution_count": 79,
   "metadata": {},
   "outputs": [
    {
     "data": {
      "text/plain": [
       "dict_keys(['val_loss', 'val_binary_accuracy', 'loss', 'binary_accuracy'])"
      ]
     },
     "execution_count": 79,
     "metadata": {},
     "output_type": "execute_result"
    }
   ],
   "source": [
    "history_dict = history.history\n",
    "history_dict.keys()"
   ]
  },
  {
   "cell_type": "code",
   "execution_count": 80,
   "metadata": {},
   "outputs": [
    {
     "data": {
      "image/png": "[encoded data removed]",
      "text/plain": [
       "<matplotlib.figure.Figure at 0x1ee196d1048>"
      ]
     },
     "metadata": {},
     "output_type": "display_data"
    }
   ],
   "source": [
    "import matplotlib.pyplot as plt\n",
    "%matplotlib inline\n",
    "\n",
    "loss_values = history_dict['loss']\n",
    "val_loss_values = history_dict['val_loss']\n",
    "epochs = range(1, len(loss_values) + 1)\n",
    "\n",
    "plt.plot(epochs, loss_values, 'bo')\n",
    "plt.plot(epochs, val_loss_values, 'b+')\n",
    "plt.xlabel('Epochs')\n",
    "plt.ylabel('Loss')\n",
    "plt.show()"
   ]
  },
  {
   "cell_type": "code",
   "execution_count": 81,
   "metadata": {},
   "outputs": [
    {
     "data": {
      "image/png": "[encoded data removed]",
      "text/plain": [
       "<matplotlib.figure.Figure at 0x1ef45966e80>"
      ]
     },
     "metadata": {},
     "output_type": "display_data"
    }
   ],
   "source": [
    "plt.clf() \n",
    "\n",
    "acc_values = history_dict['binary_accuracy']\n",
    "val_acc_values = history_dict['val_binary_accuracy']\n",
    "plt.plot(epochs, acc_values, 'bo')\n",
    "plt.plot(epochs, val_acc_values, 'b+')\n",
    "plt.xlabel('Epochs')\n",
    "plt.ylabel('Accuracy')\n",
    "plt.show()"
   ]
  },
  {
   "cell_type": "markdown",
   "metadata": {},
   "source": [
    "## Optimize\n",
    "\n",
    "The graphs above show that the network is overfitting the training data after the fourth epoch. We'll try re-running the network with only four epochs this time."
   ]
  },
  {
   "cell_type": "code",
   "execution_count": 82,
   "metadata": {
    "scrolled": true
   },
   "outputs": [
    {
     "name": "stdout",
     "output_type": "stream",
     "text": [
      "Epoch 1/4\n",
      "25000/25000 [==============================] - 4s 174us/step - loss: 0.4356 - acc: 0.8269\n",
      "Epoch 2/4\n",
      "25000/25000 [==============================] - 3s 140us/step - loss: 0.2483 - acc: 0.9112\n",
      "Epoch 3/4\n",
      "25000/25000 [==============================] - 3s 138us/step - loss: 0.1953 - acc: 0.9304\n",
      "Epoch 4/4\n",
      "25000/25000 [==============================] - 4s 145us/step - loss: 0.1625 - acc: 0.9423\n",
      "25000/25000 [==============================] - 6s 226us/step\n"
     ]
    }
   ],
   "source": [
    "model = Sequential()\n",
    "\n",
    "model.add(Dense(16, activation='relu', input_dim=10000))\n",
    "model.add(Dense(16, activation='relu'))\n",
    "model.add(Dense(1, activation='sigmoid'))\n",
    "\n",
    "model.compile(optimizer='rmsprop', loss='binary_crossentropy', metrics=['accuracy'])\n",
    "model.fit(x_train, y_train, epochs=4, batch_size=512)\n",
    "\n",
    "results = model.evaluate(x_test, y_test)"
   ]
  },
  {
   "cell_type": "markdown",
   "metadata": {},
   "source": [
    "model.evaluate returns the loss value & metrics values for the model in test mode."
   ]
  },
  {
   "cell_type": "code",
   "execution_count": 83,
   "metadata": {},
   "outputs": [
    {
     "data": {
      "text/plain": [
       "[0.32758539591312408, 0.87212000000000001]"
      ]
     },
     "execution_count": 83,
     "metadata": {},
     "output_type": "execute_result"
    }
   ],
   "source": [
    "results"
   ]
  },
  {
   "cell_type": "markdown",
   "metadata": {},
   "source": [
    "## Predict\n",
    "We can see each prediction in the test data. The closer the score is to 1, the higher the probability that the review is positive."
   ]
  },
  {
   "cell_type": "code",
   "execution_count": 84,
   "metadata": {
    "scrolled": false
   },
   "outputs": [
    {
     "data": {
      "text/plain": [
       "array([[ 0.97499543],\n",
       "       [ 0.02684157],\n",
       "       [ 0.87513351],\n",
       "       ..., \n",
       "       [ 0.00159326],\n",
       "       [ 0.0013807 ],\n",
       "       [ 0.98734295]], dtype=float32)"
      ]
     },
     "execution_count": 84,
     "metadata": {},
     "output_type": "execute_result"
    }
   ],
   "source": [
    "model.predict(x_test)"
   ]
  },
  {
   "cell_type": "markdown",
   "metadata": {},
   "source": [
    "## One-Dimensional Convolutional Neural Network Model for the IMDB Dataset\n",
    "<p style=\"font-family: Arial; font-size:1.5em;color:#2462C0; font-style:bold\"><br>\n",
    "Advanced Topic</p>\n",
    "\n",
    "<img src='http://cs231n.github.io/assets/nn1/neural_net2.jpeg' width=40%><img src='http://cs231n.github.io/assets/cnn/cnn.jpeg'>\n",
    "<center>Top: A regular 3-layer Neural Network. Bottom: A ConvNet arranges its neurons in three dimensions (width, height, depth), as visualized in one of the layers. Every layer of a ConvNet transforms the 3D input volume to a 3D output volume of neuron activations. In this example, the red input layer holds the image, so its width and height would be the dimensions of the image, and the depth would be 3 (Red, Green, Blue channels).</center><br><br>"
   ]
  },
  {
   "cell_type": "markdown",
   "metadata": {},
   "source": [
    "Convolutional neural networks were designed to honor the spatial structure in image data whilst being robust to the position and orientation of learned objects in the scene.\n",
    "\n",
    "This same principle can be used on sequences, such as the one-dimensional sequence of words in a movie review. The same properties that make the CNN model attractive for learning to recognize objects in images can help to learn structure in paragraphs of words, namely the techniques invariance to the specific position of features.\n",
    "\n",
    "Keras supports one-dimensional convolutions and pooling by the Conv1D and MaxPooling1D classes respectively.\n",
    "\n",
    "Again, let’s import the classes and functions needed for this example."
   ]
  },
  {
   "cell_type": "code",
   "execution_count": 85,
   "metadata": {
    "collapsed": true
   },
   "outputs": [],
   "source": [
    "# CNN for the IMDB problem\n",
    "#import numpy\n",
    "from keras.datasets import imdb\n",
    "from keras.models import Sequential\n",
    "from keras.layers import Dense, Dropout, Activation\n",
    "from keras.layers import Flatten\n",
    "from keras.layers.convolutional import Conv1D\n",
    "from keras.layers.convolutional import MaxPooling1D\n",
    "from keras.layers.embeddings import Embedding\n",
    "from keras.preprocessing import sequence\n"
   ]
  },
  {
   "cell_type": "markdown",
   "metadata": {},
   "source": [
    "**We are only interested in the first 10,000 most used words in the dataset. Therefore our vocabulary size will be 10,000. We can choose to use a 32-dimension vector to represent each word. Finally, we may choose to cap the maximum review length at 500 words, truncating reviews longer than that and padding reviews shorter than that with 0s.**"
   ]
  },
  {
   "cell_type": "code",
   "execution_count": 86,
   "metadata": {
    "collapsed": true
   },
   "outputs": [],
   "source": [
    "# load the dataset but only keep the top n words, zero the rest\n",
    "top_words = 10000\n",
    "(X_train, y_train), (X_test, y_test) = imdb.load_data(num_words=top_words)\n",
    "\n",
    "# pad dataset to a maximum review length in words\n",
    "# We would then use the Keras utility to truncate or pad the dataset to a length of 500 for each observation\n",
    "# using the sequence.pad_sequences() function.\n",
    "\n",
    "max_words = 500\n",
    "X_train = sequence.pad_sequences(X_train, maxlen=max_words)\n",
    "X_test = sequence.pad_sequences(X_test, maxlen=max_words)"
   ]
  },
  {
   "cell_type": "markdown",
   "metadata": {},
   "source": [
    "We can now define our convolutional neural network model. This time, after the Embedding input layer, we insert a Conv1D layer. This convolutional layer has 32 feature maps and reads embedded word representations 3 vector elements of the word embedding at a time.\n",
    "\n",
    "The first layer is an embedding layer in which word indices that come from the input layer are converted to word vectors (word2vec). This is an important conversion which enables a more efficient and faster processing of textual data. Each word integer is mapped into a one dimensional vector of floats which captures its syntactical properties within the movie reviews text corpus.\n",
    "\n",
    "After the embedding layer, comes convolutional layer. Since our word vectors are one dimensional, we only need 1-dim convolutions. Keras provides us with a built-in method for doing it elegantly. Note that we need to specify a convolution kernel length and number of filters to use.\n",
    "\n",
    "The 1d convolutional layer transforms an input 2D matrix (500X32) to an output 2D matrix (500X32) with some differentiable function.\n",
    "\n",
    "The convolutional layer is followed by a 1D max pooling layer with a length and stride of 2 that halves the size of the feature maps from the convolutional layer. The rest of the network is similar to the regular neural network above."
   ]
  },
  {
   "cell_type": "code",
   "execution_count": 87,
   "metadata": {},
   "outputs": [
    {
     "name": "stdout",
     "output_type": "stream",
     "text": [
      "_________________________________________________________________\n",
      "Layer (type)                 Output Shape              Param #   \n",
      "=================================================================\n",
      "embedding_4 (Embedding)      (None, 500, 32)           320000    \n",
      "_________________________________________________________________\n",
      "conv1d_4 (Conv1D)            (None, 500, 32)           3104      \n",
      "_________________________________________________________________\n",
      "max_pooling1d_4 (MaxPooling1 (None, 250, 32)           0         \n",
      "_________________________________________________________________\n",
      "flatten_4 (Flatten)          (None, 8000)              0         \n",
      "_________________________________________________________________\n",
      "dense_25 (Dense)             (None, 250)               2000250   \n",
      "_________________________________________________________________\n",
      "dropout_4 (Dropout)          (None, 250)               0         \n",
      "_________________________________________________________________\n",
      "activation_4 (Activation)    (None, 250)               0         \n",
      "_________________________________________________________________\n",
      "dense_26 (Dense)             (None, 1)                 251       \n",
      "=================================================================\n",
      "Total params: 2,323,605\n",
      "Trainable params: 2,323,605\n",
      "Non-trainable params: 0\n",
      "_________________________________________________________________\n",
      "None\n"
     ]
    }
   ],
   "source": [
    "# create the model\n",
    "model = Sequential()\n",
    "\n",
    "#Embedding Layer\n",
    "#The output of this embedding layer would be a matrix with the size 500X32\n",
    "#for a given review training or test pattern in integer format.\n",
    "model.add(Embedding(top_words, 32, input_length=max_words))\n",
    "\n",
    "#Convolution1D Layer\n",
    "#This convolutional layer has 32 feature maps and reads embedded word representations:\n",
    "#3 vector elements of the word embedding at a time.\n",
    "model.add(Conv1D(filters=32, kernel_size=3, padding='same', activation='relu'))\n",
    "\n",
    "#Maxpooling Layer\n",
    "model.add(MaxPooling1D(pool_size=2))\n",
    "model.add(Flatten())\n",
    "\n",
    "#Dense Layer\n",
    "model.add(Dense(250))\n",
    "model.add(Dropout(0.2))\n",
    "model.add(Activation('relu'))\n",
    "\n",
    "#Output Layer\n",
    "model.add(Dense(1, activation='sigmoid'))\n",
    "\n",
    "model.compile(loss='binary_crossentropy', optimizer='adam', metrics=['accuracy'])\n",
    "print(model.summary())"
   ]
  },
  {
   "cell_type": "markdown",
   "metadata": {},
   "source": [
    "**We defined a Keras sequential model (feed forward neural network) with four hidden layers as in the following diagram:**\n",
    "<img src='http://www.samyzaf.com/ML/imdb/cnn4.png' width=60%>\n",
    "<center style=\"font-family: Arial; font-size:1.3em;color:blue; font-style:bold\">The data transformation<br>10000X1 -> 500X32 -> 500X32 -> 250X32 -> 8000X1 -> 250X1 -> 1</center><br><br><br><br>"
   ]
  },
  {
   "cell_type": "code",
   "execution_count": 88,
   "metadata": {
    "scrolled": false
   },
   "outputs": [
    {
     "name": "stdout",
     "output_type": "stream",
     "text": [
      "Train on 25000 samples, validate on 25000 samples\n",
      "Epoch 1/2\n",
      " - 58s - loss: 0.4320 - acc: 0.7690 - val_loss: 0.2658 - val_acc: 0.8891\n",
      "Epoch 2/2\n",
      " - 58s - loss: 0.1887 - acc: 0.9286 - val_loss: 0.3248 - val_acc: 0.8658\n",
      "Accuracy: 86.58%\n"
     ]
    }
   ],
   "source": [
    "# Fit the model\n",
    "model.fit(X_train, y_train, validation_data=(X_test, y_test), epochs=2, batch_size=128, verbose=2)\n",
    "# Final evaluation of the model\n",
    "scores = model.evaluate(X_test, y_test, verbose=0)\n",
    "print(\"Accuracy: %.2f%%\" % (scores[1]*100))"
   ]
  },
  {
   "cell_type": "markdown",
   "metadata": {},
   "source": [
    "Running the example, we first presented with a summary of the network structure. We can see our convolutional layer preserves the dimensionality of our Embedding input layer of 32-dimensional input with a maximum of 500 words. The pooling layer compresses this representation by halving it."
   ]
  },
  {
   "cell_type": "markdown",
   "metadata": {},
   "source": [
    "## A LSTM Model on the IMDB Sentiment Classification\n",
    "<p style=\"font-family: Arial; font-size:1.5em;color:#2462C0; font-style:bold\"><br>\n",
    "Advanced Topic</p>\n",
    "\n",
    "### Recurrent neural networks contain cycles that feed the network activations from a previous time step as inputs to the network to influence predictions at the current time step. These activations are stored in the internal states of the network which can in principle hold long-term temporal contextual information. This mechanism allows RNNs to exploit a dynamically changing contextual window over the input sequence history.\n",
    "\n",
    "\n",
    "We can now define, compile and fit our LSTM model.\n",
    "\n",
    "The first layer is the Embedded layer that uses 128 length vectors to represent each word. The next layer is the LSTM layer with 128 memory units (smart neurons). Finally, because this is a classification problem we use a Dense output layer with a single neuron and a sigmoid activation function to make 0 or 1 predictions for the two classes (good and bad) in the problem.\n",
    "\n",
    "Because it is a binary classification problem, log loss is used as the loss function (binary_crossentropy in Keras). The efficient ADAM optimization algorithm is used. The model is fit for only 2 epochs because it quickly overfits the problem. A batch size of 32 reviews is used to space out weight updates."
   ]
  },
  {
   "cell_type": "code",
   "execution_count": 11,
   "metadata": {
    "scrolled": false
   },
   "outputs": [
    {
     "name": "stdout",
     "output_type": "stream",
     "text": [
      "Loading data...\n",
      "25000 train sequences\n",
      "25000 test sequences\n",
      "Pad sequences (samples x time)\n",
      "x_train shape: (25000, 80)\n",
      "x_test shape: (25000, 80)\n",
      "Build model...\n",
      "_________________________________________________________________\n",
      "Layer (type)                 Output Shape              Param #   \n",
      "=================================================================\n",
      "embedding_6 (Embedding)      (None, None, 128)         2560000   \n",
      "_________________________________________________________________\n",
      "lstm_6 (LSTM)                (None, 128)               131584    \n",
      "_________________________________________________________________\n",
      "dense_6 (Dense)              (None, 1)                 129       \n",
      "=================================================================\n",
      "Total params: 2,691,713\n",
      "Trainable params: 2,691,713\n",
      "Non-trainable params: 0\n",
      "_________________________________________________________________\n"
     ]
    }
   ],
   "source": [
    "'''Trains an LSTM model on the IMDB sentiment classification task.\n",
    "The dataset is actually too small for LSTM to be of any advantage\n",
    "compared to simpler, much faster methods such as TF-IDF + LogReg.\n",
    "e.g. sklearn.feature_extraction.text.TfidfVectorizer\n",
    "# Notes\n",
    "- RNNs are tricky. Choice of batch size is important,\n",
    "choice of loss and optimizer is critical, etc.\n",
    "Some configurations won't converge.\n",
    "- LSTM loss decrease patterns during training can be quite different\n",
    "from what you see with CNNs/MLPs/etc.\n",
    "'''\n",
    "from __future__ import print_function\n",
    "\n",
    "from keras.preprocessing import sequence\n",
    "from keras.models import Sequential\n",
    "from keras.layers import Dense, Embedding\n",
    "from keras.layers import LSTM\n",
    "from keras.datasets import imdb\n",
    "\n",
    "max_features = 20000\n",
    "maxlen = 80  # cut texts after this number of words (among top max_features most common words)\n",
    "batch_size = 128\n",
    "\n",
    "print('Loading data...')\n",
    "(x_train, y_train), (x_test, y_test) = imdb.load_data(num_words=max_features)\n",
    "print(len(x_train), 'train sequences')\n",
    "print(len(x_test), 'test sequences')\n",
    "\n",
    "print('Pad sequences (samples x time)')\n",
    "x_train = sequence.pad_sequences(x_train, maxlen=maxlen)\n",
    "x_test = sequence.pad_sequences(x_test, maxlen=maxlen)\n",
    "print('x_train shape:', x_train.shape)\n",
    "print('x_test shape:', x_test.shape)\n",
    "\n",
    "print('Build model...')\n",
    "model = Sequential()\n",
    "model.add(Embedding(max_features, 128))\n",
    "model.add(LSTM(128, dropout=0.2, recurrent_dropout=0.2))\n",
    "model.add(Dense(1, activation='sigmoid'))\n",
    "\n",
    "# try using different optimizers and different optimizer configs\n",
    "model.compile(loss='binary_crossentropy',\n",
    "              optimizer='adam',\n",
    "              metrics=['accuracy'])\n",
    "\n",
    "model.summary()"
   ]
  },
  {
   "cell_type": "code",
   "execution_count": 12,
   "metadata": {
    "scrolled": true
   },
   "outputs": [
    {
     "name": "stdout",
     "output_type": "stream",
     "text": [
      "Train on 25000 samples, validate on 25000 samples\n",
      "Epoch 1/2\n",
      "25000/25000 [==============================] - 150s 6ms/step - loss: 0.4772 - acc: 0.7651 - val_loss: 0.3810 - val_acc: 0.8323\n",
      "Epoch 2/2\n",
      "25000/25000 [==============================] - 144s 6ms/step - loss: 0.3041 - acc: 0.8768 - val_loss: 0.3769 - val_acc: 0.8317\n",
      "25000/25000 [==============================] - 31s 1ms/step\n",
      "Test score: 0.3769398599052429\n",
      "Test accuracy: 0.8317199999809265\n"
     ]
    }
   ],
   "source": [
    "model.fit(x_train, y_train,\n",
    "          batch_size=batch_size,\n",
    "          epochs=2,\n",
    "          validation_data=(x_test, y_test))\n",
    "score, acc = model.evaluate(x_test, y_test,\n",
    "                            batch_size=batch_size)\n",
    "print('Test score:', score)\n",
    "print('Test accuracy:', acc)"
   ]
  },
  {
   "cell_type": "markdown",
   "metadata": {},
   "source": [
    "## LSTM and Convolutional Neural Network For Sequence Classification\n",
    "<p style=\"font-family: Arial; font-size:1.5em;color:#2462C0; font-style:bold\"><br>\n",
    "Advanced Topic</p>\n",
    "\n",
    "Convolutional neural networks excel at learning the spatial structure in input data.\n",
    "\n",
    "The IMDB review data does have a one-dimensional spatial structure in the sequence of words in reviews and the CNN may be able to pick out invariant features for good and bad sentiment. This learned spatial features may then be learned as sequences by an LSTM layer.\n",
    "\n",
    "We can easily add a one-dimensional CNN and max pooling layers after the Embedding layer which then feed the consolidated features to the LSTM. We can use a smallish set of 32 features with a small filter length of 3. The pooling layer can use the standard length of 2 to halve the feature map size."
   ]
  },
  {
   "cell_type": "code",
   "execution_count": 5,
   "metadata": {},
   "outputs": [
    {
     "name": "stdout",
     "output_type": "stream",
     "text": [
      "_________________________________________________________________\n",
      "Layer (type)                 Output Shape              Param #   \n",
      "=================================================================\n",
      "embedding_3 (Embedding)      (None, 500, 32)           320000    \n",
      "_________________________________________________________________\n",
      "conv1d_2 (Conv1D)            (None, 500, 32)           3104      \n",
      "_________________________________________________________________\n",
      "max_pooling1d_2 (MaxPooling1 (None, 250, 32)           0         \n",
      "_________________________________________________________________\n",
      "lstm_3 (LSTM)                (None, 100)               53200     \n",
      "_________________________________________________________________\n",
      "dense_3 (Dense)              (None, 1)                 101       \n",
      "=================================================================\n",
      "Total params: 376,405\n",
      "Trainable params: 376,405\n",
      "Non-trainable params: 0\n",
      "_________________________________________________________________\n",
      "None\n"
     ]
    }
   ],
   "source": [
    "# LSTM and CNN for sequence classification in the IMDB dataset\n",
    "import numpy\n",
    "from keras.datasets import imdb\n",
    "from keras.models import Sequential\n",
    "from keras.layers import Dense\n",
    "from keras.layers import LSTM\n",
    "from keras.layers.convolutional import Conv1D\n",
    "from keras.layers.convolutional import MaxPooling1D\n",
    "from keras.layers.embeddings import Embedding\n",
    "from keras.preprocessing import sequence\n",
    "# fix random seed for reproducibility\n",
    "numpy.random.seed(7)\n",
    "# load the dataset but only keep the top n words, zero the rest\n",
    "top_words = 10000\n",
    "(X_train, y_train), (X_test, y_test) = imdb.load_data(num_words=top_words)\n",
    "# truncate and pad input sequences\n",
    "max_review_length = 500\n",
    "X_train = sequence.pad_sequences(X_train, maxlen=max_review_length)\n",
    "X_test = sequence.pad_sequences(X_test, maxlen=max_review_length)\n",
    "# create the model\n",
    "embedding_vecor_length = 32\n",
    "model = Sequential()\n",
    "model.add(Embedding(top_words, embedding_vecor_length, input_length=max_review_length))\n",
    "model.add(Conv1D(filters=32, kernel_size=3, padding='same', activation='relu'))\n",
    "model.add(MaxPooling1D(pool_size=2))\n",
    "model.add(LSTM(100))\n",
    "model.add(Dense(1, activation='sigmoid'))\n",
    "model.compile(loss='binary_crossentropy', optimizer='adam', metrics=['accuracy'])\n",
    "print(model.summary())"
   ]
  },
  {
   "cell_type": "code",
   "execution_count": 6,
   "metadata": {},
   "outputs": [
    {
     "name": "stdout",
     "output_type": "stream",
     "text": [
      "Epoch 1/2\n",
      "25000/25000 [==============================] - 165s 7ms/step - loss: 0.4496 - acc: 0.7674\n",
      "Epoch 2/2\n",
      "25000/25000 [==============================] - 165s 7ms/step - loss: 0.2255 - acc: 0.9132\n",
      "Accuracy: 88.13%\n"
     ]
    }
   ],
   "source": [
    "model.fit(X_train, y_train, epochs=2, batch_size=64)\n",
    "# Final evaluation of the model\n",
    "scores = model.evaluate(X_test, y_test, verbose=0)\n",
    "print(\"Accuracy: %.2f%%\" % (scores[1]*100))"
   ]
  },
  {
   "cell_type": "markdown",
   "metadata": {},
   "source": [
    "There are a lot of opportunities for further optimization, such as the use of deeper and/or larger convolutional layers. However, do not make the model unnecessarily complex.\n",
    "\n",
    "You learned how to develop deep learning models for sentiment analysis including:\n",
    "\n",
    "- How to load and review the IMDB dataset within Keras.\n",
    "- How to develop a large neural network model for sentiment analysis.\n",
    "- How to develop a one-dimensional convolutional neural network model for sentiment analysis."
   ]
  },
  {
   "cell_type": "markdown",
   "metadata": {},
   "source": [
    "## Summary\n",
    "\n",
    "- Keras provides high-level building blocks for developing deep learning models. \n",
    "- It doesn't handle low-level operations such as tensor manipulations and differentiation.\n",
    "- Instead, it relies on TensorFlow or Theano as the \"backend engine\".\n",
    "- So far, it is the most promising high-level library for Deep Learning!\n",
    "- Congratulations!"
   ]
  }
 ],
 "metadata": {
  "anaconda-cloud": {},
  "kernelspec": {
   "display_name": "Python 3",
   "language": "python",
   "name": "python3"
  },
  "language_info": {
   "codemirror_mode": {
    "name": "ipython",
    "version": 3
   },
   "file_extension": ".py",
   "mimetype": "text/x-python",
   "name": "python",
   "nbconvert_exporter": "python",
   "pygments_lexer": "ipython3",
   "version": "3.6.3"
  }
 },
 "nbformat": 4,
 "nbformat_minor": 1
}
