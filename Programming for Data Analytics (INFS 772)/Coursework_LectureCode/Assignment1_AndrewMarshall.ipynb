{
 "cells": [
  {
   "cell_type": "markdown",
   "metadata": {},
   "source": [
    "Andrew Marshall\n",
    "Assignment 1\n",
    "2/8/2019"
   ]
  },
  {
   "cell_type": "code",
   "execution_count": 1,
   "metadata": {},
   "outputs": [],
   "source": [
    "# Built-in/Generic Imports\n",
    "import os\n",
    "import sys\n",
    "#\n",
    "\n",
    "# Libraries\n",
    "import pandas as pd\n",
    "import numpy as np\n",
    "\n",
    "#Suppress scientific notation\n",
    "np.set_printoptions(suppress=True)"
   ]
  },
  {
   "cell_type": "code",
   "execution_count": 2,
   "metadata": {},
   "outputs": [
    {
     "data": {
      "text/plain": [
       "'C:\\\\Users\\\\drewm\\\\Documents\\\\GitHub\\\\INFS772'"
      ]
     },
     "execution_count": 2,
     "metadata": {},
     "output_type": "execute_result"
    }
   ],
   "source": [
    "import simple_ml\n",
    "os.getcwd()\n",
    "#os.path.dirname(simple_ml.__file__)\n",
    "#simple_ml.__file__"
   ]
  },
  {
   "cell_type": "markdown",
   "metadata": {},
   "source": [
    "1. and 2."
   ]
  },
  {
   "cell_type": "code",
   "execution_count": 3,
   "metadata": {},
   "outputs": [],
   "source": [
    "attribute_names = ['class', \n",
    "                   'cap-shape', 'cap-surface', 'cap-color', \n",
    "                   'bruises?', \n",
    "                   'odor', \n",
    "                   'gill-attachment', 'gill-spacing', 'gill-size', 'gill-color', \n",
    "                   'stalk-shape', 'stalk-root', \n",
    "                   'stalk-surface-above-ring', 'stalk-surface-below-ring', \n",
    "                   'stalk-color-above-ring', 'stalk-color-below-ring',\n",
    "                   'veil-type', 'veil-color', \n",
    "                   'ring-number', 'ring-type', \n",
    "                   'spore-print-color', \n",
    "                   'population', \n",
    "                   'habitat']"
   ]
  },
  {
   "cell_type": "code",
   "execution_count": 4,
   "metadata": {},
   "outputs": [],
   "source": [
    "single_instance_str = 'p,k,f,n,f,n,f,c,n,w,e,?,k,y,w,n,p,w,o,e,w,v,d'\n",
    "single_instance_list = single_instance_str.split(',')\n",
    "#print(single_instance_str)"
   ]
  },
  {
   "cell_type": "code",
   "execution_count": 5,
   "metadata": {},
   "outputs": [],
   "source": [
    "#function to help generate instance and attribute name list\n",
    "def attribute_value(instance, attribute, attribute_names):\n",
    "    '''Returns the value of attribute in instance, \n",
    "        based on its position in attribute_names'''\n",
    "    for i in range(len(attribute_names)):\n",
    "            i = attribute_names.index(attribute)\n",
    "            return instance[i]  # using the parameter name here"
   ]
  },
  {
   "cell_type": "markdown",
   "metadata": {},
   "source": [
    "3."
   ]
  },
  {
   "cell_type": "code",
   "execution_count": 6,
   "metadata": {},
   "outputs": [
    {
     "name": "stdout",
     "output_type": "stream",
     "text": [
      "Values for the 23 attributes:\n",
      "\n",
      "class = p\n",
      "cap-shape = k\n",
      "cap-surface = f\n",
      "cap-color = n\n",
      "bruises? = f\n",
      "odor = n\n",
      "gill-attachment = f\n",
      "gill-spacing = c\n",
      "gill-size = n\n",
      "gill-color = w\n",
      "stalk-shape = e\n",
      "stalk-root = ?\n",
      "stalk-surface-above-ring = k\n",
      "stalk-surface-below-ring = y\n",
      "stalk-color-above-ring = w\n",
      "stalk-color-below-ring = n\n",
      "veil-type = p\n",
      "veil-color = w\n",
      "ring-number = o\n",
      "ring-type = e\n",
      "spore-print-color = w\n",
      "population = v\n",
      "habitat = d\n"
     ]
    }
   ],
   "source": [
    "def print_attribute_names_and_values(instance, attribute_names):\n",
    "    '''Prints the attribute names and values for an instance'''\n",
    "    print('Values for the', len(attribute_names), 'attributes:', end='\\n\\n')  # adds a blank line\n",
    "    for i in range(len(attribute_names)):\n",
    "      print(attribute_names[i], '=', attribute_value(instance,attribute_names[i], attribute_names))\n",
    "    return\n",
    "\n",
    "#import simple_ml  # this module contains my solutions to exercises\n",
    "\n",
    "# delete 'simple_ml.' in the function call below to test your function\n",
    "#simple_ml.print_attribute_names_and_values(single_instance_list, attribute_names)\n",
    "print_attribute_names_and_values(single_instance_list, attribute_names)"
   ]
  },
  {
   "cell_type": "code",
   "execution_count": 7,
   "metadata": {},
   "outputs": [
    {
     "name": "stdout",
     "output_type": "stream",
     "text": [
      "Read 8124 instances from agaricus-lepiota.data\n",
      "First instance: ['p', 'x', 's', 'n', 't', 'p', 'f', 'c', 'n', 'k', 'e', 'e', 's', 's', 'w', 'w', 'p', 'w', 'o', 'p', 'k', 's', 'u']\n"
     ]
    }
   ],
   "source": [
    "\n",
    "def load_instances(filename):\n",
    "    '''Returns a list of instances stored in a file.\n",
    "    \n",
    "    filename is expected to have a series of comma-separated attribute values per line, e.g.,\n",
    "        p,k,f,n,f,n,f,c,n,w,e,?,k,y,w,n,p,w,o,e,w,v,d\n",
    "    '''\n",
    "    all_instances = []\n",
    "    with open(filename, 'r') as f:\n",
    "        for line in f:  # 'line' will be bound to the next line in f in each for loop iteration\n",
    "            all_instances.append(line.strip().split(','))\n",
    "        # The strip() method returns a copy of the string \n",
    "        # with both leading and trailing characters removed \n",
    "        # based on the string argument passed.\n",
    "        \n",
    "        #print('Read', len(all_instances), 'instances from', filename)\n",
    "    return all_instances\n",
    "\n",
    "data_filename = 'agaricus-lepiota.data'\n",
    "# delete 'simple_ml.' in the function call below to test your function\n",
    "all_instances_2 = load_instances(data_filename)\n",
    "print('Read', len(all_instances_2), 'instances from', data_filename)\n",
    "print('First instance:', all_instances_2[0])"
   ]
  },
  {
   "cell_type": "code",
   "execution_count": 8,
   "metadata": {},
   "outputs": [
    {
     "data": {
      "text/plain": [
       "[{'e': 'edible', 'p': 'poisonous'},\n",
       " {'b': 'bell',\n",
       "  'c': 'conical',\n",
       "  'x': 'convex',\n",
       "  'f': 'flat',\n",
       "  'k': 'knobbed',\n",
       "  's': 'sunken'},\n",
       " {'f': 'fibrous', 'g': 'grooves', 'y': 'scaly', 's': 'smooth'},\n",
       " {'n': 'brown',\n",
       "  'b': 'buff',\n",
       "  'c': 'cinnamon',\n",
       "  'g': 'gray',\n",
       "  'r': 'green',\n",
       "  'p': 'pink',\n",
       "  'u': 'purple',\n",
       "  'e': 'red',\n",
       "  'w': 'white',\n",
       "  'y': 'yellow'},\n",
       " {'t': 'bruises', 'f': 'no'},\n",
       " {'a': 'almond',\n",
       "  'l': 'anise',\n",
       "  'c': 'creosote',\n",
       "  'y': 'fishy',\n",
       "  'f': 'foul',\n",
       "  'm': 'musty',\n",
       "  'n': 'none',\n",
       "  'p': 'pungent',\n",
       "  's': 'spicy'},\n",
       " {'a': 'attached', 'd': 'descending', 'f': 'free', 'n': 'notched'},\n",
       " {'c': 'close', 'w': 'crowded', 'd': 'distant'},\n",
       " {'b': 'broad', 'n': 'narrow'},\n",
       " {'k': 'black',\n",
       "  'n': 'brown',\n",
       "  'b': 'buff',\n",
       "  'h': 'chocolate',\n",
       "  'g': 'gray',\n",
       "  'r': 'green',\n",
       "  'o': 'orange',\n",
       "  'p': 'pink',\n",
       "  'u': 'purple',\n",
       "  'e': 'red',\n",
       "  'w': 'white',\n",
       "  'y': 'yellow'},\n",
       " {'e': 'enlarging', 't': 'tapering'},\n",
       " {'b': 'bulbous',\n",
       "  'c': 'club',\n",
       "  'u': 'cup',\n",
       "  'e': 'equal',\n",
       "  'z': 'rhizomorphs',\n",
       "  'r': 'rooted',\n",
       "  '?': 'missing'},\n",
       " {'f': 'fibrous', 'y': 'scaly', 'k': 'silky', 's': 'smooth'},\n",
       " {'f': 'fibrous', 'y': 'scaly', 'k': 'silky', 's': 'smooth'},\n",
       " {'n': 'brown',\n",
       "  'b': 'buff',\n",
       "  'c': 'cinnamon',\n",
       "  'g': 'gray',\n",
       "  'o': 'orange',\n",
       "  'p': 'pink',\n",
       "  'e': 'red',\n",
       "  'w': 'white',\n",
       "  'y': 'yellow'},\n",
       " {'n': 'brown',\n",
       "  'b': 'buff',\n",
       "  'c': 'cinnamon',\n",
       "  'g': 'gray',\n",
       "  'o': 'orange',\n",
       "  'p': 'pink',\n",
       "  'e': 'red',\n",
       "  'w': 'white',\n",
       "  'y': 'yellow'},\n",
       " {'p': 'partial', 'u': 'universal'},\n",
       " {'n': 'brown', 'o': 'orange', 'w': 'white', 'y': 'yellow'},\n",
       " {'n': 'none', 'o': 'one', 't': 'two'},\n",
       " {'c': 'cobwebby',\n",
       "  'e': 'evanescent',\n",
       "  'f': 'flaring',\n",
       "  'l': 'large',\n",
       "  'n': 'none',\n",
       "  'p': 'pendant',\n",
       "  's': 'sheathing',\n",
       "  'z': 'zone'},\n",
       " {'k': 'black',\n",
       "  'n': 'brown',\n",
       "  'b': 'buff',\n",
       "  'h': 'chocolate',\n",
       "  'r': 'green',\n",
       "  'o': 'orange',\n",
       "  'u': 'purple',\n",
       "  'w': 'white',\n",
       "  'y': 'yellow'},\n",
       " {'a': 'abundant',\n",
       "  'c': 'clustered',\n",
       "  'n': 'numerous',\n",
       "  's': 'scattered',\n",
       "  'v': 'several',\n",
       "  'y': 'solitary'},\n",
       " {'g': 'grasses',\n",
       "  'l': 'leaves',\n",
       "  'm': 'meadows',\n",
       "  'p': 'paths',\n",
       "  'u': 'urban',\n",
       "  'w': 'waste',\n",
       "  'd': 'woods'}]"
      ]
     },
     "execution_count": 8,
     "metadata": {},
     "output_type": "execute_result"
    }
   ],
   "source": [
    "def load_attribute_values(attribute_filename):\n",
    "    '''Returns a list of attribute values in filename.\n",
    "    \n",
    "    The attribute values are represented as dictionaries, \n",
    "    wherein the keys are abbreviations and the values are descriptions.\n",
    "    \n",
    "    filename is expected to have one attribute name and set of values per line, \n",
    "    with the following format:\n",
    "        name: value_description=value_abbreviation[,value_description=value_abbreviation]*\n",
    "    for example\n",
    "        cap-shape: bell=b, conical=c, convex=x, flat=f, knobbed=k, sunken=s\n",
    "    The attribute value description dictionary created from this line would be the following:\n",
    "        {'c': 'conical', 'b': 'bell', 'f': 'flat', 'k': 'knobbed', 's': 'sunken', 'x': 'convex'}'''\n",
    "    attribute_values = []\n",
    "    with open(attribute_filename) as f:\n",
    "        for line in f:\n",
    "            attribute_name_and_value_string_list = line.strip().split(':')\n",
    "            attribute_name = attribute_name_and_value_string_list[0]\n",
    "            if len(attribute_name_and_value_string_list) < 2:\n",
    "                attribute_values.append({}) # no values for this attribute\n",
    "            else:\n",
    "                value_abbreviation_description_dict = {}\n",
    "                description_and_abbreviation_string_list = attribute_name_and_value_string_list[1].strip().split(',')\n",
    "                for description_and_abbreviation_string in description_and_abbreviation_string_list:\n",
    "                    description_and_abbreviation = description_and_abbreviation_string.strip().split('=')\n",
    "                    description = description_and_abbreviation[0]\n",
    "                    if len(description_and_abbreviation) < 2: # assumption: no more than 1 value is missing an abbreviation\n",
    "                        value_abbreviation_description_dict[None] = description\n",
    "                    else:\n",
    "                        abbreviation = description_and_abbreviation[1]\n",
    "                        value_abbreviation_description_dict[abbreviation] = description\n",
    "                attribute_values.append(value_abbreviation_description_dict)\n",
    "    return attribute_values\n",
    "\n",
    "attribute_filename = 'agaricus-lepiota.attributes'\n",
    "load_attribute_values(attribute_filename)"
   ]
  },
  {
   "cell_type": "markdown",
   "metadata": {},
   "source": [
    "4."
   ]
  },
  {
   "cell_type": "code",
   "execution_count": 9,
   "metadata": {},
   "outputs": [
    {
     "name": "stdout",
     "output_type": "stream",
     "text": [
      "5644 clean instances\n"
     ]
    }
   ],
   "source": [
    "# version 2: using an equivalent list comprehension\n",
    "UNKNOWN_VALUE = '?'\n",
    "clean_instances = [instance\n",
    "                   for instance in all_instances_2\n",
    "                   if UNKNOWN_VALUE not in instance]\n",
    "\n",
    "print(len(clean_instances), 'clean instances')"
   ]
  },
  {
   "cell_type": "code",
   "execution_count": 10,
   "metadata": {},
   "outputs": [
    {
     "name": "stdout",
     "output_type": "stream",
     "text": [
      "There are 3488 edible mushrooms among the 5644 clean instances\n"
     ]
    }
   ],
   "source": [
    "edible_count = 0\n",
    "for instance in clean_instances:\n",
    "    if instance[0] == 'e':\n",
    "        edible_count += 1  # this is shorthand for edible_count = edible_count + 1\n",
    "\n",
    "print('There are', edible_count, 'edible mushrooms among the', \n",
    "      len(clean_instances), 'clean instances')"
   ]
  },
  {
   "cell_type": "code",
   "execution_count": 11,
   "metadata": {},
   "outputs": [
    {
     "name": "stdout",
     "output_type": "stream",
     "text": [
      "Counts for each value of cap-state:\n",
      "x : 2840\n",
      "b : 300\n",
      "s : 32\n",
      "f : 2432\n",
      "k : 36\n",
      "c : 4\n"
     ]
    }
   ],
   "source": [
    "from collections import Counter\n",
    "\n",
    "cap_state_value_counts = Counter([instance[1] for instance in clean_instances])\n",
    "\n",
    "print('Counts for each value of cap-state:')\n",
    "for value in cap_state_value_counts:\n",
    "    print(value, ':', cap_state_value_counts[value])"
   ]
  },
  {
   "cell_type": "code",
   "execution_count": 12,
   "metadata": {},
   "outputs": [
    {
     "name": "stdout",
     "output_type": "stream",
     "text": [
      "Counts for each value of cap-shape :\n",
      "x : 2840\n",
      "b : 300\n",
      "s : 32\n",
      "f : 2432\n",
      "k : 36\n",
      "c : 4\n"
     ]
    }
   ],
   "source": [
    "def attribute_value_counts(instances, attribute, attribute_names):\n",
    "    '''Returns a Counter containing the counts of occurrences\n",
    "     of each value of attribute in the list of instances.\n",
    "    attribute_names is a list of names of attributes.'''\n",
    "    i = attribute_names.index(attribute)\n",
    "    return Counter([instance[i] for instance in instances])\n",
    "\n",
    "\n",
    "attribute = 'cap-shape'\n",
    "# delete 'simple_ml.' in the function call below to test your function\n",
    "my_attribute_value_counts = simple_ml.attribute_value_counts(clean_instances, \n",
    "                                                          attribute, \n",
    "                                                          attribute_names)\n",
    "\n",
    "print('Counts for each value of', attribute, ':')\n",
    "for value in my_attribute_value_counts:\n",
    "    print(value, ':', my_attribute_value_counts[value])"
   ]
  },
  {
   "cell_type": "markdown",
   "metadata": {},
   "source": [
    "5."
   ]
  },
  {
   "cell_type": "code",
   "execution_count": 13,
   "metadata": {},
   "outputs": [],
   "source": [
    "import operator"
   ]
  },
  {
   "cell_type": "code",
   "execution_count": 14,
   "metadata": {},
   "outputs": [
    {
     "name": "stdout",
     "output_type": "stream",
     "text": [
      "\n",
      "Counts for all attributes and values:\n",
      "\n",
      "class: e = 3488 (0.618),\n",
      "p = 2156 (0.382),\n",
      "cap-shape: x = 2840 (0.503),\n",
      "f = 2432 (0.431),\n",
      "b = 300 (0.053),\n",
      "k = 36 (0.006),\n",
      "s = 32 (0.006),\n",
      "c = 4 (0.001),\n",
      "cap-surface: y = 2220 (0.393),\n",
      "f = 2160 (0.383),\n",
      "s = 1260 (0.223),\n",
      "g = 4 (0.001),\n",
      "cap-color: g = 1696 (0.300),\n",
      "n = 1164 (0.206),\n",
      "y = 1056 (0.187),\n",
      "w = 880 (0.156),\n",
      "e = 588 (0.104),\n",
      "b = 120 (0.021),\n",
      "p = 96 (0.017),\n",
      "c = 44 (0.008),\n",
      "bruises?: t = 3184 (0.564),\n",
      "f = 2460 (0.436),\n",
      "odor: n = 2776 (0.492),\n",
      "f = 1584 (0.281),\n",
      "a = 400 (0.071),\n",
      "l = 400 (0.071),\n",
      "p = 256 (0.045),\n",
      "c = 192 (0.034),\n",
      "m = 36 (0.006),\n",
      "gill-attachment: f = 5626 (0.997),\n",
      "a = 18 (0.003),\n",
      "gill-spacing: c = 4620 (0.819),\n",
      "w = 1024 (0.181),\n",
      "gill-size: b = 4940 (0.875),\n",
      "n = 704 (0.125),\n",
      "gill-color: p = 1384 (0.245),\n",
      "n = 984 (0.174),\n",
      "w = 966 (0.171),\n",
      "h = 720 (0.128),\n",
      "g = 656 (0.116),\n",
      "u = 480 (0.085),\n",
      "k = 408 (0.072),\n",
      "r = 24 (0.004),\n",
      "y = 22 (0.004),\n",
      "stalk-shape: t = 2880 (0.510),\n",
      "e = 2764 (0.490),\n",
      "stalk-root: b = 3776 (0.669),\n",
      "e = 1120 (0.198),\n",
      "c = 556 (0.099),\n",
      "r = 192 (0.034),\n",
      "stalk-surface-above-ring: s = 3736 (0.662),\n",
      "k = 1332 (0.236),\n",
      "f = 552 (0.098),\n",
      "y = 24 (0.004),\n",
      "stalk-surface-below-ring: s = 3544 (0.628),\n",
      "k = 1296 (0.230),\n",
      "f = 552 (0.098),\n",
      "y = 252 (0.045),\n",
      "stalk-color-above-ring: w = 3136 (0.556),\n",
      "p = 1008 (0.179),\n",
      "g = 576 (0.102),\n",
      "n = 448 (0.079),\n",
      "b = 432 (0.077),\n",
      "c = 36 (0.006),\n",
      "y = 8 (0.001),\n",
      "stalk-color-below-ring: w = 3088 (0.547),\n",
      "p = 1008 (0.179),\n",
      "g = 576 (0.102),\n",
      "n = 496 (0.088),\n",
      "b = 432 (0.077),\n",
      "c = 36 (0.006),\n",
      "y = 8 (0.001),\n",
      "veil-type: p = 5644 (1.000),\n",
      "veil-color: w = 5636 (0.999),\n",
      "y = 8 (0.001),\n",
      "ring-number: o = 5488 (0.972),\n",
      "t = 120 (0.021),\n",
      "n = 36 (0.006),\n",
      "ring-type: p = 3488 (0.618),\n",
      "l = 1296 (0.230),\n",
      "e = 824 (0.146),\n",
      "n = 36 (0.006),\n",
      "spore-print-color: n = 1920 (0.340),\n",
      "k = 1872 (0.332),\n",
      "h = 1584 (0.281),\n",
      "w = 148 (0.026),\n",
      "r = 72 (0.013),\n",
      "u = 48 (0.009),\n",
      "population: v = 2160 (0.383),\n",
      "y = 1688 (0.299),\n",
      "s = 1104 (0.196),\n",
      "a = 384 (0.068),\n",
      "n = 256 (0.045),\n",
      "c = 52 (0.009),\n",
      "habitat: d = 2492 (0.442),\n",
      "g = 1860 (0.330),\n",
      "p = 568 (0.101),\n",
      "u = 368 (0.065),\n",
      "m = 292 (0.052),\n",
      "l = 64 (0.011),\n",
      "\n"
     ]
    }
   ],
   "source": [
    "def print_all_attribute_value_counts(instances, attribute_names):\n",
    "    '''Returns a list of Counters containing the counts of occurrences \n",
    "    of each value of each attribute in the list of instances.\n",
    "    attribute_names is a list of names of attributes.'''\n",
    "    num_instances = len(instances)\n",
    "    for attribute in attribute_names:\n",
    "        value_counts = attribute_value_counts(instances, attribute, attribute_names)\n",
    "        print('{}:'.format(attribute), end=' ')\n",
    "        for value, count in sorted(value_counts.items(), key=operator.itemgetter(1), reverse=True):\n",
    "            print('{} = {} ({:5.3f}),'.format(value, count, count / num_instances), end='\\n')\n",
    "    print()\n",
    "\n",
    "print('\\nCounts for all attributes and values:\\n')\n",
    "# delete 'simple_ml.' in the function call below to test your function\n",
    "#import simple_ml\n",
    "print_all_attribute_value_counts(clean_instances, attribute_names)"
   ]
  },
  {
   "cell_type": "markdown",
   "metadata": {},
   "source": [
    "6."
   ]
  },
  {
   "cell_type": "code",
   "execution_count": 15,
   "metadata": {},
   "outputs": [],
   "source": [
    "from collections import defaultdict\n",
    "import math"
   ]
  },
  {
   "cell_type": "code",
   "execution_count": 16,
   "metadata": {},
   "outputs": [
    {
     "name": "stdout",
     "output_type": "stream",
     "text": [
      "0.9594413373534086\n"
     ]
    }
   ],
   "source": [
    "def entropy(instances, class_index=0, attribute_name=None, value_name=None):\n",
    "    '''Calculate the entropy of attribute in position attribute_index for the list of instances.'''\n",
    "    num_instances = len(instances)\n",
    "    if num_instances <= 1:\n",
    "        return 0\n",
    "    value_counts = defaultdict(int)\n",
    "    for instance in instances:\n",
    "        value_counts[instance[class_index]] += 1\n",
    "    num_values = len(value_counts)\n",
    "    if num_values <= 1:\n",
    "        return 0\n",
    "    attribute_entropy = 0.0\n",
    "    if attribute_name:\n",
    "        print('entropy({}{}) = '.format(attribute_name, \n",
    "        \t'={}'.format(value_name) if value_name else ''))\n",
    "    for value in value_counts:\n",
    "        value_probability = value_counts[value] / num_instances\n",
    "        child_entropy = value_probability * math.log(value_probability, 2)\n",
    "        attribute_entropy -= child_entropy\n",
    "        if attribute_name:\n",
    "            print('  - p({0}) x log(p({0}), {1})  =  - {2:5.3f} x log({2:5.3f})  =  {3:5.3f}'.format(\n",
    "                value, num_values, value_probability, child_entropy))\n",
    "    if attribute_name:\n",
    "        print('  = {:5.3f}'.format(attribute_entropy))\n",
    "    return attribute_entropy\n",
    "\n",
    "# delete 'simple_ml.' in the function call below to test your function\n",
    "print(entropy(clean_instances))"
   ]
  },
  {
   "cell_type": "markdown",
   "metadata": {},
   "source": [
    "7."
   ]
  },
  {
   "cell_type": "code",
   "execution_count": 17,
   "metadata": {
    "scrolled": true
   },
   "outputs": [
    {
     "name": "stdout",
     "output_type": "stream",
     "text": [
      "Information gain for different attributes:\n",
      "\n",
      "0.860   5 odor\n",
      "0.583  20 spore-print-color\n",
      "0.463  19 ring-type\n",
      "0.425  12 stalk-surface-above-ring\n",
      "0.409  13 stalk-surface-below-ring\n",
      "0.306  14 stalk-color-above-ring\n",
      "0.279  15 stalk-color-below-ring\n",
      "0.275  10 stalk-shape\n",
      "0.213   9 gill-color\n",
      "0.195   3 cap-color\n",
      "0.140   4 bruises?\n",
      "0.110  21 population\n",
      "0.101  22 habitat\n",
      "0.097  11 stalk-root\n",
      "0.058   7 gill-spacing\n",
      "0.032   8 gill-size\n",
      "0.017   1 cap-shape\n",
      "0.012  18 ring-number\n",
      "0.005   2 cap-surface\n",
      "0.004   6 gill-attachment\n",
      "0.002  17 veil-color\n",
      "0.000  16 veil-type\n"
     ]
    }
   ],
   "source": [
    "def information_gain(instances, parent_index, class_index=0, attribute_name=False):\n",
    "    '''Return the information gain of splitting the instances based on the attribute parent_index'''\n",
    "    parent_entropy = entropy(instances, class_index, attribute_name)\n",
    "    child_instances = defaultdict(list)\n",
    "    for instance in instances:\n",
    "        child_instances[instance[parent_index]].append(instance)\n",
    "    children_entropy = 0.0\n",
    "    num_instances = len(instances)\n",
    "    for child_value in child_instances:\n",
    "        child_probability = len(child_instances[child_value]) / num_instances\n",
    "        children_entropy += child_probability * entropy(\n",
    "        \tchild_instances[child_value], class_index, attribute_name, child_value)\n",
    "    return parent_entropy - children_entropy\n",
    "\n",
    "# delete 'simple_ml.' in the function call below to test your function\n",
    "sorted_information_gain_indexes = sorted([(information_gain(clean_instances, i), i) \n",
    "                                          for i in range(1, len(attribute_names))], \n",
    "                                         reverse=True)\n",
    "\n",
    "print('Information gain for different attributes:', end='\\n\\n')\n",
    "for gain, i in sorted_information_gain_indexes:\n",
    "    print('{:5.3f}  {:2} {}'.format(gain, i, attribute_names[i]))"
   ]
  },
  {
   "cell_type": "code",
   "execution_count": null,
   "metadata": {},
   "outputs": [],
   "source": []
  }
 ],
 "metadata": {
  "kernelspec": {
   "display_name": "Python 3",
   "language": "python",
   "name": "python3"
  },
  "language_info": {
   "codemirror_mode": {
    "name": "ipython",
    "version": 3
   },
   "file_extension": ".py",
   "mimetype": "text/x-python",
   "name": "python",
   "nbconvert_exporter": "python",
   "pygments_lexer": "ipython3",
   "version": "3.6.8"
  }
 },
 "nbformat": 4,
 "nbformat_minor": 2
}
