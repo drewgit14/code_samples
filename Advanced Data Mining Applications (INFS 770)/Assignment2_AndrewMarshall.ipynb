{
 "cells": [
  {
   "cell_type": "markdown",
   "metadata": {},
   "source": [
    "Andrew Marshall\n",
    "INFS 770\n",
    "Assignment 2\n",
    "3/18/2019"
   ]
  },
  {
   "cell_type": "code",
   "execution_count": null,
   "metadata": {},
   "outputs": [],
   "source": [
    "# Built-in/Generic Imports\n",
    "import os\n",
    "import sys\n",
    "#\n",
    "\n",
    "# Libraries\n",
    "import pandas as pd\n",
    "import numpy as np\n",
    "#\n",
    "\n",
    "# Modules\n",
    "from sklearn import tree\n",
    "from sklearn.model_selection import train_test_split\n",
    "# import the functions for cosine distance, euclidean distance, and the correlation distance\n",
    "from scipy.spatial.distance import cosine, euclidean\n",
    "#\n",
    "\n",
    "#Suppress scientific notation\n",
    "np.set_printoptions(suppress=True)"
   ]
  },
  {
   "cell_type": "code",
   "execution_count": null,
   "metadata": {},
   "outputs": [],
   "source": [
    "df_data1 = pd.read_csv(\"DBbook_train_ratings.tsv\", # the location to the data file\n",
    "                       sep=\"\\t\", # for tab delimited documents, use \"\\t\" as the seperator\n",
    "                       #names=[\"userID\", \"itemID\", \"rate\"] # define the names for the four columns\n",
    "                       )\n",
    "print(df_data1.head())"
   ]
  },
  {
   "cell_type": "markdown",
   "metadata": {},
   "source": [
    "Question 1"
   ]
  },
  {
   "cell_type": "code",
   "execution_count": null,
   "metadata": {},
   "outputs": [],
   "source": [
    "# df_data1[\"user\"].unique() returns the unique values in the \"user\" column\n",
    "# the len function returns the length of a list-like object\n",
    "print(\"Ratings: %d\" % len(df_data1))\n",
    "print(\"Unique users: %d\" % len(df_data1[\"userID\"].unique()))\n",
    "print(\"Unique Books: %d\" % len(df_data1[\"itemID\"].unique()))"
   ]
  },
  {
   "cell_type": "markdown",
   "metadata": {},
   "source": [
    "Question 2"
   ]
  },
  {
   "cell_type": "code",
   "execution_count": null,
   "metadata": {},
   "outputs": [],
   "source": [
    "#Creating Utility Matrix\n",
    "dense_matrix = df_data1.pivot_table(values=\"rate\", index=[\"userID\"], columns=[\"itemID\"])\n",
    "print(\"Shape of the user-item matrix: %d x %d\" % dense_matrix.shape)\n",
    "print(dense_matrix.head(10))"
   ]
  },
  {
   "cell_type": "code",
   "execution_count": null,
   "metadata": {},
   "outputs": [],
   "source": [
    "#Number of unpopulated columns per row\n",
    "NaNCount = dense_matrix.isna().sum()\n",
    "NaNCount"
   ]
  },
  {
   "cell_type": "code",
   "execution_count": null,
   "metadata": {},
   "outputs": [],
   "source": [
    "#Percentage of unpopulated columns per row\n",
    "prcntNaN = 1 - dense_matrix.count()/len(dense_matrix.index)\n",
    "prcntNaN"
   ]
  },
  {
   "cell_type": "code",
   "execution_count": null,
   "metadata": {},
   "outputs": [],
   "source": [
    "#Top 10 items in matrix with empty cells populated with zeros.\n",
    "dense_matrix = dense_matrix.fillna(0)\n",
    "dense_matrix.head(10)\n"
   ]
  },
  {
   "cell_type": "markdown",
   "metadata": {},
   "source": [
    "Question 3"
   ]
  },
  {
   "cell_type": "code",
   "execution_count": null,
   "metadata": {},
   "outputs": [],
   "source": [
    "# define a functions, which takes the given item number (integer) as the input and returns the top K similar items (in a data frame)\n",
    "def top_k_items(item_number, k):\n",
    "    # copy the dense matrix and transpose it so each row represents an item\n",
    "    df_sim = dense_matrix.transpose()\n",
    "    # remove the active item \n",
    "    df_sim = df_sim.loc[df_sim.index != item_number]\n",
    "    # calculate the distance between the given item for each row (apply the function to each row if axis = 1)\n",
    "    df_sim[\"distance\"] = df_sim.apply(lambda x: euclidean(dense_matrix[item_number], x), axis=1)\n",
    "    # return the top k from the sorted distances\n",
    "    return df_sim.sort_values(by=\"distance\").head(k)[\"distance\"]   "
   ]
  },
  {
   "cell_type": "code",
   "execution_count": null,
   "metadata": {},
   "outputs": [],
   "source": [
    "#Top 5 similar users to userID 2 based on Euclidean distance\n",
    "top_k_items(2,5)"
   ]
  },
  {
   "cell_type": "markdown",
   "metadata": {},
   "source": [
    "Question 4"
   ]
  },
  {
   "cell_type": "code",
   "execution_count": null,
   "metadata": {},
   "outputs": [],
   "source": [
    "#Euclidean distance between ItemID 18 and itemID 1\n",
    "# a user's Euclidean distance to itself (0)\n",
    "euclidean(dense_matrix[[18]], dense_matrix[[1]])\n"
   ]
  },
  {
   "cell_type": "code",
   "execution_count": null,
   "metadata": {},
   "outputs": [],
   "source": [
    "#Enclidean distance between ItemID 36 and itemID 1\n",
    "euclidean(dense_matrix[[36]], dense_matrix[[1]])"
   ]
  },
  {
   "cell_type": "code",
   "execution_count": null,
   "metadata": {},
   "outputs": [],
   "source": [
    "print(\"ItemId 36 is more similar to ItemId 1 because the Euclidean distance between the two is shorter.\")"
   ]
  },
  {
   "cell_type": "markdown",
   "metadata": {},
   "source": [
    "Question 5"
   ]
  },
  {
   "cell_type": "code",
   "execution_count": null,
   "metadata": {},
   "outputs": [],
   "source": [
    "#The top 5 similar items to itemID 8010.\n",
    "top_k_items(8010,5)"
   ]
  },
  {
   "cell_type": "markdown",
   "metadata": {},
   "source": [
    "Question 6"
   ]
  },
  {
   "cell_type": "code",
   "execution_count": null,
   "metadata": {},
   "outputs": [],
   "source": [
    "#Removing books and users with less than 20 rating scores from the utility matrix \n",
    "df_item_freq = df_data1.groupby(\"itemID\").count()\n",
    "df_user_freq = df_data1.groupby(\"userID\").count()\n",
    "selected_items = df_item_freq[df_item_freq[\"userID\"]>20].index\n",
    "dense_matrix = dense_matrix[selected_items]\n",
    "selected_users = df_user_freq[df_user_freq[\"itemID\"]>20].index\n",
    "dense_matrix = dense_matrix.loc[selected_users]\n",
    "dense_matrix.shape"
   ]
  },
  {
   "cell_type": "markdown",
   "metadata": {},
   "source": [
    "Question 7"
   ]
  },
  {
   "cell_type": "code",
   "execution_count": null,
   "metadata": {},
   "outputs": [],
   "source": [
    "#Removing users that have not rated ItemID 8010\n",
    "dense_matrix = dense_matrix[dense_matrix[[8010]].values>0]\n"
   ]
  },
  {
   "cell_type": "code",
   "execution_count": null,
   "metadata": {},
   "outputs": [],
   "source": [
    "#The counts of the different rating scores of ItemID 8010\n",
    "dense_matrix[8010].value_counts()"
   ]
  },
  {
   "cell_type": "code",
   "execution_count": null,
   "metadata": {},
   "outputs": [],
   "source": [
    "#Current shape of dataset\n",
    "dense_matrix.shape"
   ]
  },
  {
   "cell_type": "markdown",
   "metadata": {},
   "source": [
    "Question 8"
   ]
  },
  {
   "cell_type": "code",
   "execution_count": null,
   "metadata": {},
   "outputs": [],
   "source": [
    "# create a data frame for the predictors\n",
    "df_x = dense_matrix[[col for col in dense_matrix.columns if col != 8010]]\n",
    "print(df_x.shape)\n",
    "\n",
    "# create a series for the outcome\n",
    "df_y = dense_matrix[[8010]]\n",
    "print(df_y.shape)\n",
    "\n",
    "train_x, test_x, train_y, test_y = train_test_split(df_x, df_y, test_size=0.25, random_state=0)\n",
    "df_train_x = pd.DataFrame(train_x, columns=df_x.columns)\n",
    "df_test_x = pd.DataFrame(test_x, columns=df_x.columns)\n",
    "df_train_y = pd.DataFrame(train_y, columns=[8010])\n",
    "df_test_y = pd.DataFrame(test_y, columns=[8010])\n",
    "print(\"shapes\")\n",
    "print(df_train_x.shape)\n",
    "print(df_test_x.shape)\n",
    "print(df_train_y.shape)\n",
    "print(df_test_y.shape)\n",
    "print() \n",
    "print(\"class counts\")\n",
    "print(df_train_y[8010].value_counts())\n",
    "print(df_test_y[8010].value_counts())"
   ]
  },
  {
   "cell_type": "code",
   "execution_count": null,
   "metadata": {},
   "outputs": [],
   "source": [
    "#Training set mean\n",
    "df_train_y[8010].mean() "
   ]
  }
 ],
 "metadata": {
  "kernelspec": {
   "display_name": "Python 3",
   "language": "python",
   "name": "python3"
  },
  "language_info": {
   "codemirror_mode": {
    "name": "ipython",
    "version": 3
   },
   "file_extension": ".py",
   "mimetype": "text/x-python",
   "name": "python",
   "nbconvert_exporter": "python",
   "pygments_lexer": "ipython3",
   "version": "3.7.7"
  }
 },
 "nbformat": 4,
 "nbformat_minor": 2
}
