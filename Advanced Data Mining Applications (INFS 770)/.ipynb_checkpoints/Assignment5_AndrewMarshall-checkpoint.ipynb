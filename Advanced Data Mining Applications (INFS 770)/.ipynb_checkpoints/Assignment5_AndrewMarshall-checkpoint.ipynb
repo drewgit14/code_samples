{
 "cells": [
  {
   "cell_type": "markdown",
   "metadata": {},
   "source": [
    "Andrew Marshall\n",
    "INFS 770\n",
    "Assignment 5\n",
    "05/03/2019"
   ]
  },
  {
   "cell_type": "code",
   "execution_count": null,
   "metadata": {},
   "outputs": [],
   "source": [
    "# Built-in/Generic Imports\n",
    "import os\n",
    "import sys\n",
    "#\n",
    "\n",
    "# Libraries\n",
    "import pandas as pd\n",
    "import numpy as np\n",
    "import networkx as nx\n",
    "\n",
    "\n",
    "# Modules\n",
    "from matplotlib import pyplot as plt\n",
    "from networkx.algorithms.approximation import clique\n",
    "#\n",
    "\n",
    "#Suppress scientific notation\n",
    "np.set_printoptions(suppress=True)\n",
    "\n",
    "%matplotlib inline\n",
    "\n"
   ]
  },
  {
   "cell_type": "code",
   "execution_count": null,
   "metadata": {},
   "outputs": [],
   "source": [
    "# specify the file location\n",
    "file_name = \"C:\\\\Users\\\\drewm\\\\Documents\\\\GitHub\\\\INFS770\\\\Assignment 5\\\\Email-Enron.txt\"\n",
    "\n",
    "# read an edge list into a networkx graph\n",
    "g = nx.read_edgelist(file_name, # file location\n",
    "                     comments=\"#\", # the character used to indicate the start of a comment\n",
    "                     delimiter=\"\\t\", # the character that separates values in a line\n",
    "                     create_using=nx.Graph() # create as undirected graph\n",
    "                    )\n"
   ]
  },
  {
   "cell_type": "markdown",
   "metadata": {},
   "source": [
    "Q1"
   ]
  },
  {
   "cell_type": "code",
   "execution_count": null,
   "metadata": {},
   "outputs": [],
   "source": [
    "print(nx.info(g))"
   ]
  },
  {
   "cell_type": "code",
   "execution_count": null,
   "metadata": {},
   "outputs": [],
   "source": [
    "print(nx.density(g))"
   ]
  },
  {
   "cell_type": "markdown",
   "metadata": {},
   "source": [
    "Q2"
   ]
  },
  {
   "cell_type": "markdown",
   "metadata": {},
   "source": [
    "1) The nodes represent people; The edges represent the relationship between those people or nodes\n",
    "2) Yes, unless specified, all edges have a weight of at least 1\n",
    "3) The network density is the number of ties that are present in the network"
   ]
  },
  {
   "cell_type": "markdown",
   "metadata": {},
   "source": [
    "Q3"
   ]
  },
  {
   "cell_type": "code",
   "execution_count": null,
   "metadata": {},
   "outputs": [],
   "source": [
    "# compute node degrees of a graph\n",
    "degree = nx.degree(g)\n",
    "print(degree)\n",
    "# convert it to pandas dataframe\n",
    "df_degree = pd.DataFrame([x for x in degree], columns=[\"node\", \"degree\"])\n",
    "# sort nodes by degree in descending order\n",
    "df_degree = df_degree.sort_values(\"degree\", ascending=False)\n",
    "print(df_degree)"
   ]
  },
  {
   "cell_type": "code",
   "execution_count": null,
   "metadata": {},
   "outputs": [],
   "source": [
    "# degree histogram\n",
    "\n",
    "plt.hist([y for (x, y) in degree], bins=100);"
   ]
  },
  {
   "cell_type": "markdown",
   "metadata": {},
   "source": [
    "A majority of the nodes have 0 to few edges connected , while a few have more between 0 and less that 200 edges connected to them."
   ]
  },
  {
   "cell_type": "markdown",
   "metadata": {},
   "source": [
    "Q4"
   ]
  },
  {
   "cell_type": "code",
   "execution_count": null,
   "metadata": {},
   "outputs": [],
   "source": [
    "components = list(nx.connected_component_subgraphs(g))\n",
    "print(\"number of component:\", len(components))\n",
    "df_comp = pd.DataFrame()\n",
    "df_comp[\"n_nodes\"] = [c.number_of_nodes() for c in components]\n",
    "print(df_comp.head())"
   ]
  },
  {
   "cell_type": "markdown",
   "metadata": {},
   "source": [
    "Q5"
   ]
  },
  {
   "cell_type": "code",
   "execution_count": null,
   "metadata": {},
   "outputs": [],
   "source": [
    "#Locating components with 16 and 14 nodes\n",
    "CompA = df_comp[df_comp['n_nodes'] == 16]\n",
    "CompB = df_comp[df_comp['n_nodes'] == 14]"
   ]
  },
  {
   "cell_type": "code",
   "execution_count": null,
   "metadata": {},
   "outputs": [],
   "source": [
    "print(CompA)"
   ]
  },
  {
   "cell_type": "code",
   "execution_count": null,
   "metadata": {},
   "outputs": [],
   "source": [
    "print(CompB)"
   ]
  },
  {
   "cell_type": "code",
   "execution_count": null,
   "metadata": {},
   "outputs": [],
   "source": [
    "#Visualize Comp_A\n",
    "Comp_A = components[754]\n",
    "nx.draw(Comp_A,with_labels=True)\n",
    "plt.show()\n"
   ]
  },
  {
   "cell_type": "code",
   "execution_count": null,
   "metadata": {},
   "outputs": [],
   "source": [
    "Comp_B = components[920]\n",
    "nx.draw(Comp_B,with_labels=True)\n",
    "plt.show()"
   ]
  },
  {
   "cell_type": "markdown",
   "metadata": {},
   "source": [
    "Q6"
   ]
  },
  {
   "cell_type": "markdown",
   "metadata": {},
   "source": [
    "Based on the visualizations, Comp_A has a higher average density, while Comp_B has a higher average degree"
   ]
  },
  {
   "cell_type": "markdown",
   "metadata": {},
   "source": [
    "Q7"
   ]
  },
  {
   "cell_type": "code",
   "execution_count": null,
   "metadata": {},
   "outputs": [],
   "source": [
    "# in order to run the louvain community detection algorithm, you need to Anaconda Prompt and type:\n",
    "# pip install --upgrade --force-reinstall python-louvain\n",
    "import community\n",
    "partition = community.best_partition(Comp_A)\n",
    "#drawing\n",
    "size = float(len(set(partition.values())))\n",
    "pos = nx.spring_layout(Comp_A)\n",
    "count = 0\n",
    "colors = [\"r\", \"b\", \"k\", \"y\"]\n",
    "for com in set(partition.values()) :  \n",
    "    list_nodes = [nodes for nodes in partition.keys()if partition[nodes] == com]\n",
    "    nx.draw_networkx_nodes(Comp_A, pos, list_nodes, node_size = 20, node_color = colors[count])\n",
    "    count += 1\n",
    "nx.draw_networkx_edges(Comp_A, pos, alpha=0.5)\n",
    "plt.show()\n",
    "values = [(node, partition.get(node)) for node in Comp_A.nodes()]\n",
    "print(values)"
   ]
  },
  {
   "cell_type": "markdown",
   "metadata": {},
   "source": [
    "Q8"
   ]
  },
  {
   "cell_type": "code",
   "execution_count": null,
   "metadata": {},
   "outputs": [],
   "source": [
    "# find cliques\n",
    "for cliq in nx.find_cliques(Comp_A):\n",
    "    print(cliq)\n"
   ]
  },
  {
   "cell_type": "code",
   "execution_count": null,
   "metadata": {},
   "outputs": [],
   "source": [
    "#Locate largest clique\n",
    "clique.max_clique(Comp_A)"
   ]
  },
  {
   "cell_type": "markdown",
   "metadata": {},
   "source": [
    "Q9"
   ]
  },
  {
   "cell_type": "markdown",
   "metadata": {},
   "source": [
    "Based on the clique breakdown, nodes 34597 and 34598 most likely have similar opinions since they are in a number of cliques together; Nodes 34590 and 34602 most likely have different opinions since they are not in any cliques together."
   ]
  },
  {
   "cell_type": "markdown",
   "metadata": {},
   "source": [
    "Q10"
   ]
  },
  {
   "cell_type": "code",
   "execution_count": null,
   "metadata": {},
   "outputs": [],
   "source": [
    "# compute node betweenness of a graph\n",
    "between = nx.betweenness_centrality(Comp_A)\n",
    "# convert it to pandas dataframe\n",
    "df_between = pd.DataFrame(list(between.items()), columns=[\"node\", \"betweenness\"])\n",
    "# sort nodes by betweenness in descending order\n",
    "df_between = df_between.sort_values(\"betweenness\", ascending=False)\n",
    "print(df_between)"
   ]
  },
  {
   "cell_type": "code",
   "execution_count": null,
   "metadata": {},
   "outputs": [],
   "source": [
    "# compute node closeness of a graph\n",
    "closeness = nx.closeness_centrality(Comp_A)\n",
    "\n",
    "# convert it to pandas dataframe\n",
    "df_closeness = pd.DataFrame(list(closeness.items()), columns=[\"node\", \"closeness\"])\n",
    "\n",
    "# sort nodes by closeness in descending order\n",
    "df_closeness=df_closeness.sort_values(\"closeness\", ascending=False)\n",
    "print(df_closeness)"
   ]
  },
  {
   "cell_type": "code",
   "execution_count": null,
   "metadata": {},
   "outputs": [],
   "source": [
    "# compute node eigenvector centrality of a graph\n",
    "eigen = nx.eigenvector_centrality(Comp_A)\n",
    "\n",
    "# convert it to pandas dataframe\n",
    "df_eigen = pd.DataFrame(list(eigen.items()), columns=[\"node\", \"eigenvector centrality\"])\n",
    "\n",
    "# sort nodes by eivenvector centrality in descending order\n",
    "df_eigen=df_eigen.sort_values(\"eigenvector centrality\", ascending=False)\n",
    "print(df_eigen)"
   ]
  }
 ],
 "metadata": {
  "kernelspec": {
   "display_name": "Python 3",
   "language": "python",
   "name": "python3"
  },
  "language_info": {
   "codemirror_mode": {
    "name": "ipython",
    "version": 3
   },
   "file_extension": ".py",
   "mimetype": "text/x-python",
   "name": "python",
   "nbconvert_exporter": "python",
   "pygments_lexer": "ipython3",
   "version": "3.7.7"
  }
 },
 "nbformat": 4,
 "nbformat_minor": 2
}
