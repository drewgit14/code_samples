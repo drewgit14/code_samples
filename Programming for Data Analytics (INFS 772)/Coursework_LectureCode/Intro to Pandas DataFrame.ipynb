{
 "cells": [
  {
   "cell_type": "markdown",
   "metadata": {},
   "source": [
    "<p style=\"font-family: Arial; font-size:3em;color:purple; font-style:bold\"><br>\n",
    "Introduction to Pandas DataFrame<br><br>Week 4\n",
    "</p><br>\n",
    "\n",
    "\n",
    "### Pandas consists of:\n",
    "\n",
    "• A set of labeled array data structures, the primary of which are Series/TimeSeries and DataFrame\n",
    "\n",
    "• Index objects enabling both simple axis indexing and multi-level (lookups, data alignment, and reindexing)\n",
    "\n",
    "• An integrated group by engine for aggregating and transforming data sets\n",
    "\n",
    "• Date range generation (date_range) \n",
    "\n",
    "• Input/Output tools: loading tabular data from flat files (CSV, delimited, Excel), and saving and loading\n",
    "pandas objects from the fast and efficient PyTables/HDF5 format.\n",
    "\n",
    "• Memory-efficent “sparse” versions of the standard data structures for storing data that is mostly missing or\n",
    "mostly constant (some fixed value)\n",
    "\n",
    "• Moving window statistics (rolling mean, rolling standard deviation, etc.)\n",
    "\n",
    "• Static and moving window linear and panel regression"
   ]
  },
  {
   "cell_type": "markdown",
   "metadata": {},
   "source": [
    "- [Pandas documentation](http://pandas.pydata.org/pandas-docs/dev)\n",
    "- [Pandas code repository](https://github.com/pydata/pandas)\n",
    "- [Pandas code example: Stock price analysis](https://github.com/pydata/pandas/blob/master/examples/finance.py)\n",
    "- [Pandas code example: Stock price regression](https://github.com/pydata/pandas/blob/master/examples/regressions.py)\n",
    "- [Clean data with Google Refine](http://code.google.com/p/google-refine/)"
   ]
  },
  {
   "cell_type": "markdown",
   "metadata": {},
   "source": [
    "## Two types of Data\n",
    "\n",
    "Numerical \n",
    "\n",
    "+ continious\n",
    "\n",
    "+ discrete\n",
    "\n",
    "+ interval (calendar, units of temprature)\n",
    "\n",
    "+ ratio \n",
    "\n",
    "Categorical\n",
    "\n",
    "+ Nominal: Differentiated by names...examples include gender, nationality. Think = or !=\n",
    "\n",
    "+ Ordinal: Rank Order, Think =, !=, <, >\n",
    "\n",
    "Can data be sorted...\n",
    "Blue, Red, Green => [-1, 0, 1] \n",
    "\n",
    "The data type is not inherent in the data — it only arises from its context. Think average of 2 zip codes...\n",
    "\n",
    "### Types of Data\n",
    "Univariate: single variable\n",
    "\n",
    "    We typically want to know how individual points are distributed, shape of disribution, whether its symmetric, does it have outliers!\n",
    "\n",
    "\n",
    "Bivariate: Two variables. \n",
    "\n",
    "    We usually want to know whether there is a relationship between 2 quantities. \n",
    "\n",
    "\n",
    "Multivariate: > 2 variables.\n",
    "\n",
    "    We typically want to find a smaller group of variables that still contains most of the info in the data set.\n"
   ]
  },
  {
   "cell_type": "markdown",
   "metadata": {},
   "source": [
    "## Questions about data sets\n",
    "\n",
    "Num of records\n",
    "\n",
    "Num of data fields\n",
    "\n",
    "Does data fit into memory? single disk? disk array? \n",
    "\n",
    "How many missing values? Junk values?\n",
    "\n",
    "How many duplicates?\n",
    "\n",
    "Are there labels (for dependent variable)?\n",
    "\n",
    "Are there keys?\n",
    "\n",
    "** May have to format & normalize data (timezones, monetary unit values etc...)\n",
    "\n",
    "\n",
    "## Questions about data fields\n",
    "\n",
    "### Data fields\n",
    "What is the mean, variance, mode, median...?\n",
    "\n",
    "What is the distribution? Hint: Plot historgram\n",
    "\n",
    "What are extreme values, missing values, unusual values?\n",
    "\n",
    "\n",
    "### Pairs of data fields\n",
    "What is the correlation? Plot scatter plot\n",
    "\n",
    "### Visualize the data  \n",
    "\n",
    "Histograms, scatter plots, etc...\n",
    "You can produce plots, but not be able to print them\n",
    "\n",
    "\n",
    "Sample Data\n",
    "\n",
    "Randomly pick some of the records.\n",
    "\n",
    "### Take care of your data\n",
    "All data sets are self-explanatory and reproducible.\n",
    "\n",
    "To ensure data is self-explanatory, include all the information necessary to make sense of it.\n",
    " \n",
    "To ensure data is reproducible, keep track of its source and the cleaning and conditioning transformations (original data set if you have merged data sets).\n",
    "  \n",
    "\n",
    "### Data Analysis Motivation\n",
    "\n",
    "#### Use Case Fraud Detection\n",
    "\n",
    "Events: Credit card transactions\n",
    "\n",
    "Entities: Credit card accounts\n",
    "\n",
    "Features: # of transactions past 10 minutes\n",
    "\n",
    "Models: CART (Classification and regression trees)\n",
    "\n",
    "Scores: Likelihood of fraudulent account\n",
    "\n",
    "\n",
    "\n",
    "### Use Case Online Adv\n",
    "\n",
    "Events: Impressions & clicks\n",
    "\n",
    "Entities: Cookies, user IDs\n",
    "\n",
    "Features: # of impressions per category\n",
    "\n",
    "Models: Clusters, trees, recommendation\n",
    "\n",
    "Scores: Likelihood of clicking \n",
    "\n",
    "Ask for more Data\n",
    "\n",
    "Ask for more Orthogonal Data"
   ]
  },
  {
   "cell_type": "code",
   "execution_count": 1,
   "metadata": {},
   "outputs": [
    {
     "name": "stdout",
     "output_type": "stream",
     "text": [
      "988\n",
      "Hello World!\n"
     ]
    }
   ],
   "source": [
    "x = 34 - 23 # A comment.\n",
    "y = \"Hello\" # Another one.\n",
    "z = 3.45 \n",
    "if z == 3.45 or y == \"Hello\":\n",
    "    x = x + 977\n",
    "    y = y + \" World!\" # String concat.\n",
    "print(x)\n",
    "print(y)"
   ]
  },
  {
   "cell_type": "code",
   "execution_count": 2,
   "metadata": {},
   "outputs": [],
   "source": [
    "import pandas as pd\n",
    "import numpy as np\n",
    "import matplotlib.pyplot as plt"
   ]
  },
  {
   "cell_type": "markdown",
   "metadata": {},
   "source": [
    "## Series"
   ]
  },
  {
   "cell_type": "code",
   "execution_count": 4,
   "metadata": {},
   "outputs": [
    {
     "data": {
      "text/plain": [
       "-0.721181585932467"
      ]
     },
     "execution_count": 4,
     "metadata": {},
     "output_type": "execute_result"
    }
   ],
   "source": [
    "np.random.randn() # Return a sample (or samples) from the “standard normal” distribution."
   ]
  },
  {
   "cell_type": "code",
   "execution_count": 3,
   "metadata": {},
   "outputs": [
    {
     "data": {
      "text/plain": [
       "array([[-0.39593776,  1.63837973,  0.19476416,  1.55366562],\n",
       "       [ 2.12739552,  6.57377803,  5.36650589,  7.47989246]])"
      ]
     },
     "execution_count": 3,
     "metadata": {},
     "output_type": "execute_result"
    }
   ],
   "source": [
    "## For random samples from N(mu,sigma^2), use:\n",
    "## sigma * np.random.randn(...) + mu\n",
    "### Two-by-four array of samples from N(3, 6.25):\n",
    "2.5 * np.random.randn(2, 4) + 3"
   ]
  },
  {
   "cell_type": "markdown",
   "metadata": {},
   "source": [
    "#### Series\n",
    "\n",
    "Series is a one-dimensional labeled array capable of holding any data type (integers, strings, floating point numbers, Python objects, etc.). The axis labels are collectively referred to as the index. The basic method to create a Series is to call:\n",
    "\n",
    "s = Series(data, index=index)"
   ]
  },
  {
   "cell_type": "code",
   "execution_count": 6,
   "metadata": {},
   "outputs": [
    {
     "data": {
      "text/plain": [
       "val 1    0.922560\n",
       "val 2    1.041456\n",
       "val 3   -0.632418\n",
       "val 4    0.254739\n",
       "val 5   -0.740740\n",
       "dtype: float64"
      ]
     },
     "execution_count": 6,
     "metadata": {},
     "output_type": "execute_result"
    }
   ],
   "source": [
    "\n",
    "# data => a Python dict, an ndarray, a scalar value \n",
    "# NaN for missing data\n",
    "sample_series = pd.Series(np.random.randn(5), index=['val 1', 'val 2', 'val 3', 'val 4', 'val 5'])\n",
    "sample_series"
   ]
  },
  {
   "cell_type": "code",
   "execution_count": 7,
   "metadata": {},
   "outputs": [
    {
     "data": {
      "text/plain": [
       "array([ 0.92255959,  1.04145642, -0.63241786,  0.25473932, -0.74073976])"
      ]
     },
     "execution_count": 7,
     "metadata": {},
     "output_type": "execute_result"
    }
   ],
   "source": [
    "sample_series.values"
   ]
  },
  {
   "cell_type": "markdown",
   "metadata": {},
   "source": [
    "### From dict\n",
    "\n",
    "If data is a dict, if index is passed the values in data corresponding to the labels in the index will be pulled out. Otherwise, an index will be constructed from the sorted keys of the dict, if possible."
   ]
  },
  {
   "cell_type": "code",
   "execution_count": 10,
   "metadata": {},
   "outputs": [
    {
     "name": "stdout",
     "output_type": "stream",
     "text": [
      "val 1    0.0\n",
      "val 2    1.0\n",
      "val 3    2.0\n",
      "dtype: float64\n",
      "\n"
     ]
    },
    {
     "data": {
      "text/plain": [
       "Index(['val 1', 'val 2', 'val 3'], dtype='object')"
      ]
     },
     "execution_count": 10,
     "metadata": {},
     "output_type": "execute_result"
    }
   ],
   "source": [
    "d = {'val 1' : 0., 'val 2' : 1., 'val 3' : 2.}\n",
    "s1= pd.Series(d)\n",
    "print(s1)\n",
    "print()\n",
    "s1.index"
   ]
  },
  {
   "cell_type": "code",
   "execution_count": 10,
   "metadata": {},
   "outputs": [
    {
     "data": {
      "text/plain": [
       "1.583715550039045"
      ]
     },
     "execution_count": 10,
     "metadata": {},
     "output_type": "execute_result"
    }
   ],
   "source": [
    "sample_series[0]"
   ]
  },
  {
   "cell_type": "code",
   "execution_count": 11,
   "metadata": {},
   "outputs": [
    {
     "data": {
      "text/plain": [
       "val 1    1.583716\n",
       "val 5    0.941874\n",
       "dtype: float64"
      ]
     },
     "execution_count": 11,
     "metadata": {},
     "output_type": "execute_result"
    }
   ],
   "source": [
    "sample_series[sample_series > sample_series.median()]"
   ]
  },
  {
   "cell_type": "code",
   "execution_count": 12,
   "metadata": {},
   "outputs": [
    {
     "data": {
      "text/plain": [
       "val 1    4.873028\n",
       "val 2    0.969607\n",
       "val 3    0.503371\n",
       "val 4    2.299809\n",
       "val 5    2.564783\n",
       "dtype: float64"
      ]
     },
     "execution_count": 12,
     "metadata": {},
     "output_type": "execute_result"
    }
   ],
   "source": [
    "np.exp(sample_series)"
   ]
  },
  {
   "cell_type": "code",
   "execution_count": 13,
   "metadata": {},
   "outputs": [
    {
     "data": {
      "text/plain": [
       "val 1    1.583716\n",
       "val 2   -0.030864\n",
       "val 3   -0.686428\n",
       "val 4    0.832826\n",
       "val 5    0.941874\n",
       "dtype: float64"
      ]
     },
     "execution_count": 13,
     "metadata": {},
     "output_type": "execute_result"
    }
   ],
   "source": [
    "sample_series"
   ]
  },
  {
   "cell_type": "code",
   "execution_count": 14,
   "metadata": {},
   "outputs": [
    {
     "data": {
      "text/plain": [
       "val 1          NaN\n",
       "val 2    -1.019488\n",
       "val 3    21.240301\n",
       "val 4    -2.213274\n",
       "val 5     0.130937\n",
       "dtype: float64"
      ]
     },
     "execution_count": 14,
     "metadata": {},
     "output_type": "execute_result"
    }
   ],
   "source": [
    "# compute the percent change over a given number of periods\n",
    "sample_series.pct_change()"
   ]
  },
  {
   "cell_type": "code",
   "execution_count": 15,
   "metadata": {},
   "outputs": [
    {
     "data": {
      "text/plain": [
       "0.8603487111080218"
      ]
     },
     "execution_count": 15,
     "metadata": {},
     "output_type": "execute_result"
    }
   ],
   "source": [
    "sample_series2 = pd.Series(randn(6))\n",
    "sample_series3 = pd.Series(randn(6))\n",
    "sample_series2.cov(sample_series3)"
   ]
  },
  {
   "cell_type": "markdown",
   "metadata": {},
   "source": [
    "## DataFrame\n",
    "\n",
    "#### DataFrame is a 2-dimensional labeled data structure with columns of potentially different types. You can think of it like a spreadsheet or SQL table, or a dict of Series objects. It is generally the most commonly used pandas object.\n",
    "\n",
    "DataFrame is one of : \n",
    "*  Dict of 1D ndarrays, lists, dicts, or Series\n",
    "*  2-D numpy.ndarray\n",
    "*  Structured or record ndarray\n",
    "*  A Series\n",
    "*  Another DataFrame"
   ]
  },
  {
   "cell_type": "code",
   "execution_count": 14,
   "metadata": {},
   "outputs": [
    {
     "name": "stdout",
     "output_type": "stream",
     "text": [
      "{'one': a    1.0\n",
      "b    2.0\n",
      "c    3.0\n",
      "dtype: float64, 'two': a    1.0\n",
      "b    2.0\n",
      "c    3.0\n",
      "d    4.0\n",
      "dtype: float64}\n"
     ]
    },
    {
     "data": {
      "text/plain": [
       "dict"
      ]
     },
     "execution_count": 14,
     "metadata": {},
     "output_type": "execute_result"
    }
   ],
   "source": [
    "d = {'one' : pd.Series([1., 2., 3.], index=['a', 'b', 'c']),\n",
    "     'two' : pd.Series([1., 2., 3., 4.], index=['a', 'b', 'c', 'd'])}\n",
    "print(d)\n",
    "type(d)"
   ]
  },
  {
   "cell_type": "code",
   "execution_count": 15,
   "metadata": {},
   "outputs": [
    {
     "data": {
      "text/html": [
       "<div>\n",
       "<table border=\"1\" class=\"dataframe\">\n",
       "  <thead>\n",
       "    <tr style=\"text-align: right;\">\n",
       "      <th></th>\n",
       "      <th>one</th>\n",
       "      <th>two</th>\n",
       "    </tr>\n",
       "  </thead>\n",
       "  <tbody>\n",
       "    <tr>\n",
       "      <th>d</th>\n",
       "      <td>NaN</td>\n",
       "      <td>4.0</td>\n",
       "    </tr>\n",
       "    <tr>\n",
       "      <th>b</th>\n",
       "      <td>2.0</td>\n",
       "      <td>2.0</td>\n",
       "    </tr>\n",
       "    <tr>\n",
       "      <th>a</th>\n",
       "      <td>1.0</td>\n",
       "      <td>1.0</td>\n",
       "    </tr>\n",
       "    <tr>\n",
       "      <th>c</th>\n",
       "      <td>3.0</td>\n",
       "      <td>3.0</td>\n",
       "    </tr>\n",
       "  </tbody>\n",
       "</table>\n",
       "</div>"
      ],
      "text/plain": [
       "   one  two\n",
       "d  NaN  4.0\n",
       "b  2.0  2.0\n",
       "a  1.0  1.0\n",
       "c  3.0  3.0"
      ]
     },
     "execution_count": 15,
     "metadata": {},
     "output_type": "execute_result"
    }
   ],
   "source": [
    "df = pd.DataFrame(d, index=['d', 'b', 'a','c'], columns=['one', 'two'])\n",
    "df"
   ]
  },
  {
   "cell_type": "code",
   "execution_count": 16,
   "metadata": {},
   "outputs": [
    {
     "data": {
      "text/plain": [
       "Index(['d', 'b', 'a', 'c'], dtype='object')"
      ]
     },
     "execution_count": 16,
     "metadata": {},
     "output_type": "execute_result"
    }
   ],
   "source": [
    "df.index"
   ]
  },
  {
   "cell_type": "code",
   "execution_count": 39,
   "metadata": {},
   "outputs": [
    {
     "data": {
      "text/plain": [
       "Index([one, two], dtype=object)"
      ]
     },
     "execution_count": 39,
     "metadata": {},
     "output_type": "execute_result"
    }
   ],
   "source": [
    "df.columns"
   ]
  },
  {
   "cell_type": "code",
   "execution_count": 47,
   "metadata": {},
   "outputs": [
    {
     "data": {
      "image/png": "[encoded data removed]",
      "text/plain": [
       "<IPython.core.display.Image at 0x10ea87cd0>"
      ]
     },
     "execution_count": 47,
     "metadata": {},
     "output_type": "execute_result"
    }
   ],
   "source": [
    "# Column selection, addition, deletion\n",
    "Image(filename='data/ind_sel.png')"
   ]
  },
  {
   "cell_type": "code",
   "execution_count": 41,
   "metadata": {},
   "outputs": [
    {
     "data": {
      "image/png": "[encoded data removed]",
      "text/plain": [
       "<IPython.core.display.Image at 0x10ea87850>"
      ]
     },
     "execution_count": 41,
     "metadata": {},
     "output_type": "execute_result"
    }
   ],
   "source": [
    "Image(filename='data/correlation.png')"
   ]
  },
  {
   "cell_type": "code",
   "execution_count": 48,
   "metadata": {},
   "outputs": [
    {
     "data": {
      "text/html": [
       "<div style=\"max-height:1000px;max-width:1500px;overflow:auto;\">\n",
       "<table border=\"1\" class=\"dataframe\">\n",
       "  <thead>\n",
       "    <tr style=\"text-align: right;\">\n",
       "      <th></th>\n",
       "      <th>one</th>\n",
       "      <th>two</th>\n",
       "      <th>three</th>\n",
       "    </tr>\n",
       "  </thead>\n",
       "  <tbody>\n",
       "    <tr>\n",
       "      <th>d</th>\n",
       "      <td>NaN</td>\n",
       "      <td> 4</td>\n",
       "      <td> 8</td>\n",
       "    </tr>\n",
       "    <tr>\n",
       "      <th>b</th>\n",
       "      <td>  2</td>\n",
       "      <td> 2</td>\n",
       "      <td> 4</td>\n",
       "    </tr>\n",
       "    <tr>\n",
       "      <th>a</th>\n",
       "      <td>  1</td>\n",
       "      <td> 1</td>\n",
       "      <td> 2</td>\n",
       "    </tr>\n",
       "  </tbody>\n",
       "</table>\n",
       "</div>"
      ],
      "text/plain": [
       "   one  two  three\n",
       "d  NaN    4      8\n",
       "b    2    2      4\n",
       "a    1    1      2"
      ]
     },
     "execution_count": 48,
     "metadata": {},
     "output_type": "execute_result"
    }
   ],
   "source": [
    "df['three'] = df['two'] * 2\n",
    "df"
   ]
  },
  {
   "cell_type": "code",
   "execution_count": 49,
   "metadata": {},
   "outputs": [
    {
     "data": {
      "text/html": [
       "<div style=\"max-height:1000px;max-width:1500px;overflow:auto;\">\n",
       "<table border=\"1\" class=\"dataframe\">\n",
       "  <thead>\n",
       "    <tr style=\"text-align: right;\">\n",
       "      <th></th>\n",
       "      <th>one</th>\n",
       "      <th>two</th>\n",
       "      <th>three</th>\n",
       "      <th>flag</th>\n",
       "    </tr>\n",
       "  </thead>\n",
       "  <tbody>\n",
       "    <tr>\n",
       "      <th>d</th>\n",
       "      <td>NaN</td>\n",
       "      <td> 4</td>\n",
       "      <td> 8</td>\n",
       "      <td>  True</td>\n",
       "    </tr>\n",
       "    <tr>\n",
       "      <th>b</th>\n",
       "      <td>  2</td>\n",
       "      <td> 2</td>\n",
       "      <td> 4</td>\n",
       "      <td> False</td>\n",
       "    </tr>\n",
       "    <tr>\n",
       "      <th>a</th>\n",
       "      <td>  1</td>\n",
       "      <td> 1</td>\n",
       "      <td> 2</td>\n",
       "      <td> False</td>\n",
       "    </tr>\n",
       "  </tbody>\n",
       "</table>\n",
       "</div>"
      ],
      "text/plain": [
       "   one  two  three   flag\n",
       "d  NaN    4      8   True\n",
       "b    2    2      4  False\n",
       "a    1    1      2  False"
      ]
     },
     "execution_count": 49,
     "metadata": {},
     "output_type": "execute_result"
    }
   ],
   "source": [
    "df['flag'] = df['two'] > 2\n",
    "df"
   ]
  },
  {
   "cell_type": "code",
   "execution_count": 50,
   "metadata": {},
   "outputs": [
    {
     "data": {
      "text/html": [
       "<div style=\"max-height:1000px;max-width:1500px;overflow:auto;\">\n",
       "<table border=\"1\" class=\"dataframe\">\n",
       "  <thead>\n",
       "    <tr style=\"text-align: right;\">\n",
       "      <th></th>\n",
       "      <th>A</th>\n",
       "      <th>B</th>\n",
       "      <th>C</th>\n",
       "      <th>D</th>\n",
       "    </tr>\n",
       "  </thead>\n",
       "  <tbody>\n",
       "    <tr>\n",
       "      <th>0</th>\n",
       "      <td>-0.837710</td>\n",
       "      <td> 1.362020</td>\n",
       "      <td> 2.190839</td>\n",
       "      <td>NaN</td>\n",
       "    </tr>\n",
       "    <tr>\n",
       "      <th>1</th>\n",
       "      <td>-0.561747</td>\n",
       "      <td>-0.205782</td>\n",
       "      <td>-3.197528</td>\n",
       "      <td>NaN</td>\n",
       "    </tr>\n",
       "    <tr>\n",
       "      <th>2</th>\n",
       "      <td> 0.290202</td>\n",
       "      <td>-0.389255</td>\n",
       "      <td>-1.146254</td>\n",
       "      <td>NaN</td>\n",
       "    </tr>\n",
       "    <tr>\n",
       "      <th>3</th>\n",
       "      <td>-0.099179</td>\n",
       "      <td> 0.221975</td>\n",
       "      <td>-1.525860</td>\n",
       "      <td>NaN</td>\n",
       "    </tr>\n",
       "    <tr>\n",
       "      <th>4</th>\n",
       "      <td>-1.216379</td>\n",
       "      <td>-0.186940</td>\n",
       "      <td> 0.258686</td>\n",
       "      <td>NaN</td>\n",
       "    </tr>\n",
       "    <tr>\n",
       "      <th>5</th>\n",
       "      <td>-0.754142</td>\n",
       "      <td>-1.810639</td>\n",
       "      <td> 0.508232</td>\n",
       "      <td>NaN</td>\n",
       "    </tr>\n",
       "    <tr>\n",
       "      <th>6</th>\n",
       "      <td> 0.515946</td>\n",
       "      <td>-0.239984</td>\n",
       "      <td> 0.747752</td>\n",
       "      <td>NaN</td>\n",
       "    </tr>\n",
       "    <tr>\n",
       "      <th>7</th>\n",
       "      <td>      NaN</td>\n",
       "      <td>      NaN</td>\n",
       "      <td>      NaN</td>\n",
       "      <td>NaN</td>\n",
       "    </tr>\n",
       "    <tr>\n",
       "      <th>8</th>\n",
       "      <td>      NaN</td>\n",
       "      <td>      NaN</td>\n",
       "      <td>      NaN</td>\n",
       "      <td>NaN</td>\n",
       "    </tr>\n",
       "    <tr>\n",
       "      <th>9</th>\n",
       "      <td>      NaN</td>\n",
       "      <td>      NaN</td>\n",
       "      <td>      NaN</td>\n",
       "      <td>NaN</td>\n",
       "    </tr>\n",
       "  </tbody>\n",
       "</table>\n",
       "</div>"
      ],
      "text/plain": [
       "          A         B         C   D\n",
       "0 -0.837710  1.362020  2.190839 NaN\n",
       "1 -0.561747 -0.205782 -3.197528 NaN\n",
       "2  0.290202 -0.389255 -1.146254 NaN\n",
       "3 -0.099179  0.221975 -1.525860 NaN\n",
       "4 -1.216379 -0.186940  0.258686 NaN\n",
       "5 -0.754142 -1.810639  0.508232 NaN\n",
       "6  0.515946 -0.239984  0.747752 NaN\n",
       "7       NaN       NaN       NaN NaN\n",
       "8       NaN       NaN       NaN NaN\n",
       "9       NaN       NaN       NaN NaN"
      ]
     },
     "execution_count": 50,
     "metadata": {},
     "output_type": "execute_result"
    }
   ],
   "source": [
    "df = pd.DataFrame(randn(10, 4), columns=['A', 'B', 'C', 'D'])\n",
    "df2 = pd.DataFrame(randn(7, 3), columns=['A', 'B', 'C'])\n",
    "df + df2\n"
   ]
  },
  {
   "cell_type": "markdown",
   "metadata": {},
   "source": [
    "- [NumPy Broadcasting](http://docs.scipy.org/doc/numpy/user/basics.broadcasting.html)"
   ]
  },
  {
   "cell_type": "code",
   "execution_count": 51,
   "metadata": {},
   "outputs": [
    {
     "data": {
      "text/html": [
       "<div style=\"max-height:1000px;max-width:1500px;overflow:auto;\">\n",
       "<table border=\"1\" class=\"dataframe\">\n",
       "  <thead>\n",
       "    <tr style=\"text-align: right;\">\n",
       "      <th></th>\n",
       "      <th>0</th>\n",
       "      <th>1</th>\n",
       "      <th>2</th>\n",
       "      <th>3</th>\n",
       "      <th>4</th>\n",
       "    </tr>\n",
       "  </thead>\n",
       "  <tbody>\n",
       "    <tr>\n",
       "      <th>A</th>\n",
       "      <td>-0.701839</td>\n",
       "      <td>-0.352239</td>\n",
       "      <td> 0.168684</td>\n",
       "      <td> 0.323164</td>\n",
       "      <td>-0.276530</td>\n",
       "    </tr>\n",
       "    <tr>\n",
       "      <th>B</th>\n",
       "      <td> 0.424179</td>\n",
       "      <td>-0.090045</td>\n",
       "      <td>-2.012156</td>\n",
       "      <td> 0.333679</td>\n",
       "      <td>-0.993900</td>\n",
       "    </tr>\n",
       "    <tr>\n",
       "      <th>C</th>\n",
       "      <td> 0.969552</td>\n",
       "      <td>-2.123662</td>\n",
       "      <td>-0.482454</td>\n",
       "      <td>-1.524441</td>\n",
       "      <td> 0.436182</td>\n",
       "    </tr>\n",
       "    <tr>\n",
       "      <th>D</th>\n",
       "      <td> 0.193336</td>\n",
       "      <td> 0.039856</td>\n",
       "      <td>-0.448875</td>\n",
       "      <td>-0.530219</td>\n",
       "      <td> 0.346277</td>\n",
       "    </tr>\n",
       "  </tbody>\n",
       "</table>\n",
       "</div>"
      ],
      "text/plain": [
       "          0         1         2         3         4\n",
       "A -0.701839 -0.352239  0.168684  0.323164 -0.276530\n",
       "B  0.424179 -0.090045 -2.012156  0.333679 -0.993900\n",
       "C  0.969552 -2.123662 -0.482454 -1.524441  0.436182\n",
       "D  0.193336  0.039856 -0.448875 -0.530219  0.346277"
      ]
     },
     "execution_count": 51,
     "metadata": {},
     "output_type": "execute_result"
    }
   ],
   "source": [
    "# transpose first 5 rows\n",
    "df[:5].T"
   ]
  },
  {
   "cell_type": "markdown",
   "metadata": {},
   "source": [
    "## Panel \n",
    "less-used, container for 3-dimensional data"
   ]
  },
  {
   "cell_type": "code",
   "execution_count": 53,
   "metadata": {},
   "outputs": [
    {
     "data": {
      "text/plain": [
       "<class 'pandas.core.panel.Panel'>\n",
       "Dimensions: 2 (items) x 5 (major_axis) x 4 (minor_axis)\n",
       "Items axis: Item1 to Item2\n",
       "Major_axis axis: 2000-01-01 00:00:00 to 2000-01-05 00:00:00\n",
       "Minor_axis axis: A to D"
      ]
     },
     "execution_count": 53,
     "metadata": {},
     "output_type": "execute_result"
    }
   ],
   "source": [
    "# items: axis 0, each item corresponds to a DataFrame contained inside\n",
    "# major_axis: axis 1, it is the index (rows) of each of the DataFrames\n",
    "# minor_axis: axis 2, it is the columns of each of the DataFrames\n",
    "wp = pd.Panel(randn(2, 5, 4), items=['Item1', 'Item2'],\n",
    "         major_axis=pd.date_range('1/1/2000', periods=5),\n",
    "         minor_axis=['A', 'B', 'C', 'D'])\n",
    "wp"
   ]
  },
  {
   "cell_type": "code",
   "execution_count": 54,
   "metadata": {},
   "outputs": [
    {
     "data": {
      "text/html": [
       "<div style=\"max-height:1000px;max-width:1500px;overflow:auto;\">\n",
       "<table border=\"1\" class=\"dataframe\">\n",
       "  <thead>\n",
       "    <tr style=\"text-align: right;\">\n",
       "      <th></th>\n",
       "      <th>A</th>\n",
       "      <th>B</th>\n",
       "      <th>C</th>\n",
       "      <th>D</th>\n",
       "    </tr>\n",
       "  </thead>\n",
       "  <tbody>\n",
       "    <tr>\n",
       "      <th>2000-01-01</th>\n",
       "      <td> 1.318086</td>\n",
       "      <td> 0.262673</td>\n",
       "      <td> 0.964613</td>\n",
       "      <td>-0.071859</td>\n",
       "    </tr>\n",
       "    <tr>\n",
       "      <th>2000-01-02</th>\n",
       "      <td>-0.221876</td>\n",
       "      <td>-0.839133</td>\n",
       "      <td>-1.162672</td>\n",
       "      <td>-0.176416</td>\n",
       "    </tr>\n",
       "    <tr>\n",
       "      <th>2000-01-03</th>\n",
       "      <td> 0.311523</td>\n",
       "      <td>-0.248981</td>\n",
       "      <td> 0.711103</td>\n",
       "      <td>-0.007247</td>\n",
       "    </tr>\n",
       "    <tr>\n",
       "      <th>2000-01-04</th>\n",
       "      <td> 0.465819</td>\n",
       "      <td>-1.435261</td>\n",
       "      <td>-1.071583</td>\n",
       "      <td>-2.272159</td>\n",
       "    </tr>\n",
       "    <tr>\n",
       "      <th>2000-01-05</th>\n",
       "      <td>-1.180359</td>\n",
       "      <td>-1.718676</td>\n",
       "      <td> 2.485351</td>\n",
       "      <td> 0.945967</td>\n",
       "    </tr>\n",
       "  </tbody>\n",
       "</table>\n",
       "</div>"
      ],
      "text/plain": [
       "                   A         B         C         D\n",
       "2000-01-01  1.318086  0.262673  0.964613 -0.071859\n",
       "2000-01-02 -0.221876 -0.839133 -1.162672 -0.176416\n",
       "2000-01-03  0.311523 -0.248981  0.711103 -0.007247\n",
       "2000-01-04  0.465819 -1.435261 -1.071583 -2.272159\n",
       "2000-01-05 -1.180359 -1.718676  2.485351  0.945967"
      ]
     },
     "execution_count": 54,
     "metadata": {},
     "output_type": "execute_result"
    }
   ],
   "source": [
    "wp['Item1']"
   ]
  },
  {
   "cell_type": "code",
   "execution_count": 55,
   "metadata": {},
   "outputs": [
    {
     "data": {
      "text/html": [
       "<div style=\"max-height:1000px;max-width:1500px;overflow:auto;\">\n",
       "<table border=\"1\" class=\"dataframe\">\n",
       "  <thead>\n",
       "    <tr style=\"text-align: right;\">\n",
       "      <th></th>\n",
       "      <th>A</th>\n",
       "      <th>B</th>\n",
       "      <th>C</th>\n",
       "      <th>D</th>\n",
       "    </tr>\n",
       "  </thead>\n",
       "  <tbody>\n",
       "    <tr>\n",
       "      <th>2000-01-01</th>\n",
       "      <td>-1.676086</td>\n",
       "      <td>-0.621843</td>\n",
       "      <td>-0.590170</td>\n",
       "      <td> 0.458871</td>\n",
       "    </tr>\n",
       "    <tr>\n",
       "      <th>2000-01-02</th>\n",
       "      <td>-0.186563</td>\n",
       "      <td>-0.784361</td>\n",
       "      <td> 0.612034</td>\n",
       "      <td>-0.751312</td>\n",
       "    </tr>\n",
       "    <tr>\n",
       "      <th>2000-01-03</th>\n",
       "      <td>-0.574059</td>\n",
       "      <td>-0.524901</td>\n",
       "      <td>-0.704731</td>\n",
       "      <td>-1.337540</td>\n",
       "    </tr>\n",
       "    <tr>\n",
       "      <th>2000-01-04</th>\n",
       "      <td>-0.190683</td>\n",
       "      <td>-0.359239</td>\n",
       "      <td> 1.270178</td>\n",
       "      <td> 1.277753</td>\n",
       "    </tr>\n",
       "    <tr>\n",
       "      <th>2000-01-05</th>\n",
       "      <td> 1.386356</td>\n",
       "      <td> 0.823776</td>\n",
       "      <td>-0.674059</td>\n",
       "      <td> 1.107486</td>\n",
       "    </tr>\n",
       "  </tbody>\n",
       "</table>\n",
       "</div>"
      ],
      "text/plain": [
       "                   A         B         C         D\n",
       "2000-01-01 -1.676086 -0.621843 -0.590170  0.458871\n",
       "2000-01-02 -0.186563 -0.784361  0.612034 -0.751312\n",
       "2000-01-03 -0.574059 -0.524901 -0.704731 -1.337540\n",
       "2000-01-04 -0.190683 -0.359239  1.270178  1.277753\n",
       "2000-01-05  1.386356  0.823776 -0.674059  1.107486"
      ]
     },
     "execution_count": 55,
     "metadata": {},
     "output_type": "execute_result"
    }
   ],
   "source": [
    "wp['Item2']"
   ]
  },
  {
   "cell_type": "markdown",
   "metadata": {},
   "source": [
    "### Pandas aligns labelled data"
   ]
  },
  {
   "cell_type": "code",
   "execution_count": 63,
   "metadata": {},
   "outputs": [
    {
     "name": "stdout",
     "output_type": "stream",
     "text": [
      "/Users/Babalu/Documents/data_analysis/meetup/data\n"
     ]
    }
   ],
   "source": [
    "cd data/"
   ]
  },
  {
   "cell_type": "code",
   "execution_count": 64,
   "metadata": {},
   "outputs": [],
   "source": [
    "import pandas as pd \n",
    "from pandas import Series, DataFrame, Panel\n",
    "from IPython.display import HTML"
   ]
  },
  {
   "cell_type": "code",
   "execution_count": 65,
   "metadata": {},
   "outputs": [],
   "source": [
    "dataset = 'Pandas'\n",
    "users = pd.read_csv('AUDUSD_Ticks.csv')"
   ]
  },
  {
   "cell_type": "code",
   "execution_count": 66,
   "metadata": {},
   "outputs": [
    {
     "data": {
      "text/html": [
       "<pre>\n",
       "&ltclass 'pandas.core.frame.DataFrame'&gt\n",
       "Int64Index: 58460 entries, 0 to 58459\n",
       "Data columns (total 5 columns):\n",
       "Time         58460  non-null values\n",
       "Ask          58460  non-null values\n",
       "Bid          58460  non-null values\n",
       "AskVolume    58460  non-null values\n",
       "BidVolume    58460  non-null values\n",
       "dtypes: float64(4), object(1)\n",
       "</pre>"
      ],
      "text/plain": [
       "<class 'pandas.core.frame.DataFrame'>\n",
       "Int64Index: 58460 entries, 0 to 58459\n",
       "Data columns (total 5 columns):\n",
       "Time         58460  non-null values\n",
       "Ask          58460  non-null values\n",
       "Bid          58460  non-null values\n",
       "AskVolume    58460  non-null values\n",
       "BidVolume    58460  non-null values\n",
       "dtypes: float64(4), object(1)"
      ]
     },
     "execution_count": 66,
     "metadata": {},
     "output_type": "execute_result"
    }
   ],
   "source": [
    "users"
   ]
  },
  {
   "cell_type": "markdown",
   "metadata": {},
   "source": [
    "### Series is a list with labelled items"
   ]
  },
  {
   "cell_type": "code",
   "execution_count": 69,
   "metadata": {},
   "outputs": [
    {
     "data": {
      "text/plain": [
       "0     1.02727\n",
       "1     1.02727\n",
       "2     1.02727\n",
       "3     1.02726\n",
       "4     1.02729\n",
       "5     1.02728\n",
       "6     1.02728\n",
       "7     1.02726\n",
       "8     1.02726\n",
       "9     1.02726\n",
       "10    1.02726\n",
       "11    1.02727\n",
       "12    1.02726\n",
       "13    1.02727\n",
       "14    1.02727\n",
       "...\n",
       "58445    1.02562\n",
       "58446    1.02562\n",
       "58447    1.02564\n",
       "58448    1.02567\n",
       "58449    1.02564\n",
       "58450    1.02562\n",
       "58451    1.02561\n",
       "58452    1.02561\n",
       "58453    1.02558\n",
       "58454    1.02559\n",
       "58455    1.02559\n",
       "58456    1.02557\n",
       "58457    1.02557\n",
       "58458    1.02556\n",
       "58459    1.02558\n",
       "Name: Bid, Length: 58460, dtype: float64"
      ]
     },
     "execution_count": 69,
     "metadata": {},
     "output_type": "execute_result"
    }
   ],
   "source": [
    "# Series({...})\n",
    "users.Bid"
   ]
  },
  {
   "cell_type": "code",
   "execution_count": 70,
   "metadata": {},
   "outputs": [
    {
     "data": {
      "text/plain": [
       "1.02729"
      ]
     },
     "execution_count": 70,
     "metadata": {},
     "output_type": "execute_result"
    }
   ],
   "source": [
    "users.Bid[4]"
   ]
  },
  {
   "cell_type": "markdown",
   "metadata": {},
   "source": [
    "### DataFrame is a table with labelled columns and rows"
   ]
  },
  {
   "cell_type": "code",
   "execution_count": 71,
   "metadata": {},
   "outputs": [
    {
     "data": {
      "text/html": [
       "<table border=\"1\" class=\"dataframe\">\n",
       "  <thead>\n",
       "    <tr style=\"text-align: right;\">\n",
       "      <th></th>\n",
       "      <th>ask</th>\n",
       "      <th>bid</th>\n",
       "    </tr>\n",
       "  </thead>\n",
       "  <tbody>\n",
       "    <tr>\n",
       "      <th>0</th>\n",
       "      <td> 1.02741</td>\n",
       "      <td> 1.02727</td>\n",
       "    </tr>\n",
       "    <tr>\n",
       "      <th>1</th>\n",
       "      <td> 1.02742</td>\n",
       "      <td> 1.02727</td>\n",
       "    </tr>\n",
       "    <tr>\n",
       "      <th>2</th>\n",
       "      <td> 1.02741</td>\n",
       "      <td> 1.02727</td>\n",
       "    </tr>\n",
       "    <tr>\n",
       "      <th>3</th>\n",
       "      <td> 1.02741</td>\n",
       "      <td> 1.02726</td>\n",
       "    </tr>\n",
       "    <tr>\n",
       "      <th>4</th>\n",
       "      <td> 1.02742</td>\n",
       "      <td> 1.02729</td>\n",
       "    </tr>\n",
       "    <tr>\n",
       "      <th>5</th>\n",
       "      <td> 1.02742</td>\n",
       "      <td> 1.02728</td>\n",
       "    </tr>\n",
       "    <tr>\n",
       "      <th>6</th>\n",
       "      <td> 1.02742</td>\n",
       "      <td> 1.02728</td>\n",
       "    </tr>\n",
       "    <tr>\n",
       "      <th>7</th>\n",
       "      <td> 1.02742</td>\n",
       "      <td> 1.02726</td>\n",
       "    </tr>\n",
       "    <tr>\n",
       "      <th>8</th>\n",
       "      <td> 1.02742</td>\n",
       "      <td> 1.02726</td>\n",
       "    </tr>\n",
       "    <tr>\n",
       "      <th>9</th>\n",
       "      <td> 1.02742</td>\n",
       "      <td> 1.02726</td>\n",
       "    </tr>\n",
       "  </tbody>\n",
       "</table>"
      ],
      "text/plain": [
       "<IPython.core.display.HTML at 0x1101c6390>"
      ]
     },
     "execution_count": 71,
     "metadata": {},
     "output_type": "execute_result"
    }
   ],
   "source": [
    "bid_ask_prices = DataFrame(dict(\n",
    "    bid=users.Bid,\n",
    "    ask=users.Ask))\n",
    "\n",
    "HTML(bid_ask_prices.head(10).to_html())"
   ]
  },
  {
   "cell_type": "code",
   "execution_count": 72,
   "metadata": {},
   "outputs": [
    {
     "data": {
      "text/html": [
       "<div style=\"max-height:1000px;max-width:1500px;overflow:auto;\">\n",
       "<table border=\"1\" class=\"dataframe\">\n",
       "  <thead>\n",
       "    <tr style=\"text-align: right;\">\n",
       "      <th></th>\n",
       "      <th>ask</th>\n",
       "      <th>bid</th>\n",
       "    </tr>\n",
       "  </thead>\n",
       "  <tbody>\n",
       "    <tr>\n",
       "      <th>0</th>\n",
       "      <td> 1.02741</td>\n",
       "      <td> 1.02727</td>\n",
       "    </tr>\n",
       "    <tr>\n",
       "      <th>1</th>\n",
       "      <td> 1.02742</td>\n",
       "      <td> 1.02727</td>\n",
       "    </tr>\n",
       "    <tr>\n",
       "      <th>2</th>\n",
       "      <td> 1.02741</td>\n",
       "      <td> 1.02727</td>\n",
       "    </tr>\n",
       "  </tbody>\n",
       "</table>\n",
       "</div>"
      ],
      "text/plain": [
       "       ask      bid\n",
       "0  1.02741  1.02727\n",
       "1  1.02742  1.02727\n",
       "2  1.02741  1.02727"
      ]
     },
     "execution_count": 72,
     "metadata": {},
     "output_type": "execute_result"
    }
   ],
   "source": [
    "bid_ask_prices[:3]"
   ]
  },
  {
   "cell_type": "code",
   "execution_count": 100,
   "metadata": {},
   "outputs": [
    {
     "data": {
      "text/html": [
       "<table border=\"1\" class=\"dataframe\">\n",
       "  <thead>\n",
       "    <tr style=\"text-align: right;\">\n",
       "      <th></th>\n",
       "      <th>ask</th>\n",
       "      <th>bid</th>\n",
       "    </tr>\n",
       "  </thead>\n",
       "  <tbody>\n",
       "    <tr>\n",
       "      <th>0</th>\n",
       "      <td> 1.50</td>\n",
       "      <td> 3.00</td>\n",
       "    </tr>\n",
       "    <tr>\n",
       "      <th>1</th>\n",
       "      <td> 1.50</td>\n",
       "      <td> 1.50</td>\n",
       "    </tr>\n",
       "    <tr>\n",
       "      <th>2</th>\n",
       "      <td> 1.50</td>\n",
       "      <td> 1.50</td>\n",
       "    </tr>\n",
       "    <tr>\n",
       "      <th>3</th>\n",
       "      <td> 1.50</td>\n",
       "      <td> 2.63</td>\n",
       "    </tr>\n",
       "    <tr>\n",
       "      <th>4</th>\n",
       "      <td> 1.50</td>\n",
       "      <td> 1.50</td>\n",
       "    </tr>\n",
       "    <tr>\n",
       "      <th>5</th>\n",
       "      <td> 2.25</td>\n",
       "      <td> 1.50</td>\n",
       "    </tr>\n",
       "    <tr>\n",
       "      <th>6</th>\n",
       "      <td> 3.00</td>\n",
       "      <td> 1.50</td>\n",
       "    </tr>\n",
       "    <tr>\n",
       "      <th>7</th>\n",
       "      <td> 3.00</td>\n",
       "      <td> 5.25</td>\n",
       "    </tr>\n",
       "    <tr>\n",
       "      <th>8</th>\n",
       "      <td> 3.00</td>\n",
       "      <td> 5.25</td>\n",
       "    </tr>\n",
       "    <tr>\n",
       "      <th>9</th>\n",
       "      <td> 2.25</td>\n",
       "      <td> 3.75</td>\n",
       "    </tr>\n",
       "  </tbody>\n",
       "</table>"
      ],
      "text/plain": [
       "<IPython.core.display.HTML at 0x10eb8b850>"
      ]
     },
     "execution_count": 100,
     "metadata": {},
     "output_type": "execute_result"
    }
   ],
   "source": [
    "bid_ask_volume = DataFrame(dict(\n",
    "    bid=users.BidVolume,\n",
    "    ask=users.AskVolume))\n",
    "\n",
    "HTML(bid_ask_volume.head(10).to_html())"
   ]
  },
  {
   "cell_type": "markdown",
   "metadata": {},
   "source": [
    "### Panel is a collection of labelled tables"
   ]
  },
  {
   "cell_type": "code",
   "execution_count": 101,
   "metadata": {},
   "outputs": [
    {
     "data": {
      "text/html": [
       "<pre>\n",
       "&ltclass 'pandas.core.frame.DataFrame'&gt\n",
       "Int64Index: 58460 entries, 0 to 58459\n",
       "Data columns (total 2 columns):\n",
       "ask    58460  non-null values\n",
       "bid    58460  non-null values\n",
       "dtypes: float64(2)\n",
       "</pre>"
      ],
      "text/plain": [
       "<class 'pandas.core.frame.DataFrame'>\n",
       "Int64Index: 58460 entries, 0 to 58459\n",
       "Data columns (total 2 columns):\n",
       "ask    58460  non-null values\n",
       "bid    58460  non-null values\n",
       "dtypes: float64(2)"
      ]
     },
     "execution_count": 101,
     "metadata": {},
     "output_type": "execute_result"
    }
   ],
   "source": [
    "bid_ask_panel = Panel(dict(\n",
    "    prices=bid_ask_prices,\n",
    "    volume=bid_ask_volume))\n",
    "\n",
    "bid_ask_panel['volume'] "
   ]
  },
  {
   "cell_type": "markdown",
   "metadata": {},
   "source": [
    "Becareful of using `len()` to find the number of rows in a `DataFrame` inside a `Panel`.  \n",
    "\n",
    "`Panel` will pad non-matching rows and columns across `DataFrames` with `NaN` and `len()` will include padded rows.  Instead, use `DataFrame.count()`."
   ]
  },
  {
   "cell_type": "markdown",
   "metadata": {},
   "source": [
    "### Reindexing"
   ]
  },
  {
   "cell_type": "code",
   "execution_count": 84,
   "metadata": {},
   "outputs": [
    {
     "name": "stdout",
     "output_type": "stream",
     "text": [
      "    a   b   c\n",
      "x   1   2   3\n",
      "y   5   7   9\n",
      "z  12  15  18\n"
     ]
    }
   ],
   "source": [
    "df = DataFrame(np.array(xrange(1,10)).reshape(3,3), index='x y z'.split(), columns='a b c'.split())\n",
    "print df.cumsum()"
   ]
  },
  {
   "cell_type": "code",
   "execution_count": 86,
   "metadata": {},
   "outputs": [
    {
     "data": {
      "text/html": [
       "<div style=\"max-height:1000px;max-width:1500px;overflow:auto;\">\n",
       "<table border=\"1\" class=\"dataframe\">\n",
       "  <thead>\n",
       "    <tr style=\"text-align: right;\">\n",
       "      <th></th>\n",
       "      <th>c</th>\n",
       "      <th>a</th>\n",
       "      <th>b</th>\n",
       "    </tr>\n",
       "  </thead>\n",
       "  <tbody>\n",
       "    <tr>\n",
       "      <th>z</th>\n",
       "      <td> 9</td>\n",
       "      <td> 7</td>\n",
       "      <td> 8</td>\n",
       "    </tr>\n",
       "    <tr>\n",
       "      <th>y</th>\n",
       "      <td> 6</td>\n",
       "      <td> 4</td>\n",
       "      <td> 5</td>\n",
       "    </tr>\n",
       "    <tr>\n",
       "      <th>x</th>\n",
       "      <td> 3</td>\n",
       "      <td> 1</td>\n",
       "      <td> 2</td>\n",
       "    </tr>\n",
       "  </tbody>\n",
       "</table>\n",
       "</div>"
      ],
      "text/plain": [
       "   c  a  b\n",
       "z  9  7  8\n",
       "y  6  4  5\n",
       "x  3  1  2"
      ]
     },
     "execution_count": 86,
     "metadata": {},
     "output_type": "execute_result"
    }
   ],
   "source": [
    "df1 = df.reindex(index=list('zyx'), columns=list('cab'))\n",
    "df1"
   ]
  },
  {
   "cell_type": "code",
   "execution_count": 87,
   "metadata": {},
   "outputs": [
    {
     "data": {
      "text/html": [
       "<div style=\"max-height:1000px;max-width:1500px;overflow:auto;\">\n",
       "<table border=\"1\" class=\"dataframe\">\n",
       "  <thead>\n",
       "    <tr style=\"text-align: right;\">\n",
       "      <th></th>\n",
       "      <th>c</th>\n",
       "      <th>b</th>\n",
       "      <th>a</th>\n",
       "    </tr>\n",
       "  </thead>\n",
       "  <tbody>\n",
       "    <tr>\n",
       "      <th>z</th>\n",
       "      <td> 1</td>\n",
       "      <td> 2</td>\n",
       "      <td> 3</td>\n",
       "    </tr>\n",
       "    <tr>\n",
       "      <th>y</th>\n",
       "      <td> 4</td>\n",
       "      <td> 5</td>\n",
       "      <td> 6</td>\n",
       "    </tr>\n",
       "    <tr>\n",
       "      <th>x</th>\n",
       "      <td> 7</td>\n",
       "      <td> 8</td>\n",
       "      <td> 9</td>\n",
       "    </tr>\n",
       "  </tbody>\n",
       "</table>\n",
       "</div>"
      ],
      "text/plain": [
       "   c  b  a\n",
       "z  1  2  3\n",
       "y  4  5  6\n",
       "x  7  8  9"
      ]
     },
     "execution_count": 87,
     "metadata": {},
     "output_type": "execute_result"
    }
   ],
   "source": [
    "df2 = DataFrame(np.array(range(1, 10)).reshape(3,3), index=list('zyx'), columns=list('cba'))\n",
    "df2"
   ]
  },
  {
   "cell_type": "code",
   "execution_count": 88,
   "metadata": {},
   "outputs": [
    {
     "data": {
      "text/html": [
       "<div style=\"max-height:1000px;max-width:1500px;overflow:auto;\">\n",
       "<table border=\"1\" class=\"dataframe\">\n",
       "  <thead>\n",
       "    <tr style=\"text-align: right;\">\n",
       "      <th></th>\n",
       "      <th>c</th>\n",
       "      <th>a</th>\n",
       "      <th>b</th>\n",
       "    </tr>\n",
       "  </thead>\n",
       "  <tbody>\n",
       "    <tr>\n",
       "      <th>z</th>\n",
       "      <td> 1</td>\n",
       "      <td> 3</td>\n",
       "      <td> 2</td>\n",
       "    </tr>\n",
       "    <tr>\n",
       "      <th>y</th>\n",
       "      <td> 4</td>\n",
       "      <td> 6</td>\n",
       "      <td> 5</td>\n",
       "    </tr>\n",
       "    <tr>\n",
       "      <th>x</th>\n",
       "      <td> 7</td>\n",
       "      <td> 9</td>\n",
       "      <td> 8</td>\n",
       "    </tr>\n",
       "  </tbody>\n",
       "</table>\n",
       "</div>"
      ],
      "text/plain": [
       "   c  a  b\n",
       "z  1  3  2\n",
       "y  4  6  5\n",
       "x  7  9  8"
      ]
     },
     "execution_count": 88,
     "metadata": {},
     "output_type": "execute_result"
    }
   ],
   "source": [
    "df2.reindex_like(df1)"
   ]
  },
  {
   "cell_type": "markdown",
   "metadata": {},
   "source": [
    "### Aggregation"
   ]
  },
  {
   "cell_type": "code",
   "execution_count": 90,
   "metadata": {},
   "outputs": [
    {
     "data": {
      "text/html": [
       "<div style=\"max-height:1000px;max-width:1500px;overflow:auto;\">\n",
       "<table border=\"1\" class=\"dataframe\">\n",
       "  <thead>\n",
       "    <tr style=\"text-align: right;\">\n",
       "      <th></th>\n",
       "      <th>Position</th>\n",
       "      <th>YrsOfExperience</th>\n",
       "      <th>score</th>\n",
       "    </tr>\n",
       "  </thead>\n",
       "  <tbody>\n",
       "    <tr>\n",
       "      <th>0</th>\n",
       "      <td>    Point Guard</td>\n",
       "      <td>  8</td>\n",
       "      <td> 18</td>\n",
       "    </tr>\n",
       "    <tr>\n",
       "      <th>1</th>\n",
       "      <td>        Forward</td>\n",
       "      <td>  9</td>\n",
       "      <td> 13</td>\n",
       "    </tr>\n",
       "    <tr>\n",
       "      <th>2</th>\n",
       "      <td> Shooting Guard</td>\n",
       "      <td> 10</td>\n",
       "      <td> 20</td>\n",
       "    </tr>\n",
       "    <tr>\n",
       "      <th>3</th>\n",
       "      <td>         Center</td>\n",
       "      <td>  7</td>\n",
       "      <td> 15</td>\n",
       "    </tr>\n",
       "  </tbody>\n",
       "</table>\n",
       "</div>"
      ],
      "text/plain": [
       "         Position  YrsOfExperience  score\n",
       "0     Point Guard                8     18\n",
       "1         Forward                9     13\n",
       "2  Shooting Guard               10     20\n",
       "3          Center                7     15"
      ]
     },
     "execution_count": 90,
     "metadata": {},
     "output_type": "execute_result"
    }
   ],
   "source": [
    "df = DataFrame(dict(\n",
    "    Position=['Point Guard', 'Forward', 'Shooting Guard', 'Center'],\n",
    "    YrsOfExperience=[8, 9, 10, 7], \n",
    "    score=[18, 13, 20, 15]))\n",
    "df"
   ]
  },
  {
   "cell_type": "code",
   "execution_count": 91,
   "metadata": {},
   "outputs": [
    {
     "data": {
      "text/html": [
       "<div style=\"max-height:1000px;max-width:1500px;overflow:auto;\">\n",
       "<table border=\"1\" class=\"dataframe\">\n",
       "  <thead>\n",
       "    <tr style=\"text-align: right;\">\n",
       "      <th></th>\n",
       "      <th>YrsOfExperience</th>\n",
       "      <th>score</th>\n",
       "    </tr>\n",
       "    <tr>\n",
       "      <th>Position</th>\n",
       "      <th></th>\n",
       "      <th></th>\n",
       "    </tr>\n",
       "  </thead>\n",
       "  <tbody>\n",
       "    <tr>\n",
       "      <th>Center</th>\n",
       "      <td>  7</td>\n",
       "      <td> 15</td>\n",
       "    </tr>\n",
       "    <tr>\n",
       "      <th>Forward</th>\n",
       "      <td>  9</td>\n",
       "      <td> 13</td>\n",
       "    </tr>\n",
       "    <tr>\n",
       "      <th>Point Guard</th>\n",
       "      <td>  8</td>\n",
       "      <td> 18</td>\n",
       "    </tr>\n",
       "    <tr>\n",
       "      <th>Shooting Guard</th>\n",
       "      <td> 10</td>\n",
       "      <td> 20</td>\n",
       "    </tr>\n",
       "  </tbody>\n",
       "</table>\n",
       "</div>"
      ],
      "text/plain": [
       "                YrsOfExperience  score\n",
       "Position                              \n",
       "Center                        7     15\n",
       "Forward                       9     13\n",
       "Point Guard                   8     18\n",
       "Shooting Guard               10     20"
      ]
     },
     "execution_count": 91,
     "metadata": {},
     "output_type": "execute_result"
    }
   ],
   "source": [
    "df.groupby('Position').mean()"
   ]
  },
  {
   "cell_type": "code",
   "execution_count": 92,
   "metadata": {},
   "outputs": [
    {
     "data": {
      "text/html": [
       "<div style=\"max-height:1000px;max-width:1500px;overflow:auto;\">\n",
       "<table border=\"1\" class=\"dataframe\">\n",
       "  <thead>\n",
       "    <tr style=\"text-align: right;\">\n",
       "      <th></th>\n",
       "      <th>score</th>\n",
       "    </tr>\n",
       "    <tr>\n",
       "      <th>YrsOfExperience</th>\n",
       "      <th></th>\n",
       "    </tr>\n",
       "  </thead>\n",
       "  <tbody>\n",
       "    <tr>\n",
       "      <th>7 </th>\n",
       "      <td> 15</td>\n",
       "    </tr>\n",
       "    <tr>\n",
       "      <th>8 </th>\n",
       "      <td> 18</td>\n",
       "    </tr>\n",
       "    <tr>\n",
       "      <th>9 </th>\n",
       "      <td> 13</td>\n",
       "    </tr>\n",
       "    <tr>\n",
       "      <th>10</th>\n",
       "      <td> 20</td>\n",
       "    </tr>\n",
       "  </tbody>\n",
       "</table>\n",
       "</div>"
      ],
      "text/plain": [
       "                 score\n",
       "YrsOfExperience       \n",
       "7                   15\n",
       "8                   18\n",
       "9                   13\n",
       "10                  20"
      ]
     },
     "execution_count": 92,
     "metadata": {},
     "output_type": "execute_result"
    }
   ],
   "source": [
    "df.groupby('YrsOfExperience').mean()"
   ]
  },
  {
   "cell_type": "code",
   "execution_count": 98,
   "metadata": {},
   "outputs": [
    {
     "name": "stdout",
     "output_type": "stream",
     "text": [
      "                 score                  \n",
      "                   sum  mean  amax  amin\n",
      "YrsOfExperience                         \n",
      "7                   15    15    15    15\n",
      "8                   18    18    18    18\n",
      "9                   13    13    13    13\n",
      "10                  20    20    20    20\n"
     ]
    }
   ],
   "source": [
    "print df.groupby('YrsOfExperience').aggregate([np.sum, np.mean, np.max, np.min])"
   ]
  },
  {
   "cell_type": "code",
   "execution_count": 99,
   "metadata": {},
   "outputs": [
    {
     "data": {
      "text/html": [
       "<div style=\"max-height:1000px;max-width:1500px;overflow:auto;\">\n",
       "<table border=\"1\" class=\"dataframe\">\n",
       "  <thead>\n",
       "    <tr style=\"text-align: right;\">\n",
       "      <th></th>\n",
       "      <th></th>\n",
       "      <th>YrsOfExperience</th>\n",
       "      <th>score</th>\n",
       "    </tr>\n",
       "    <tr>\n",
       "      <th>Position</th>\n",
       "      <th></th>\n",
       "      <th></th>\n",
       "      <th></th>\n",
       "    </tr>\n",
       "  </thead>\n",
       "  <tbody>\n",
       "    <tr>\n",
       "      <th rowspan=\"8\" valign=\"top\">Center</th>\n",
       "      <th>count</th>\n",
       "      <td>  1</td>\n",
       "      <td>  1</td>\n",
       "    </tr>\n",
       "    <tr>\n",
       "      <th>mean</th>\n",
       "      <td>  7</td>\n",
       "      <td> 15</td>\n",
       "    </tr>\n",
       "    <tr>\n",
       "      <th>std</th>\n",
       "      <td>NaN</td>\n",
       "      <td>NaN</td>\n",
       "    </tr>\n",
       "    <tr>\n",
       "      <th>min</th>\n",
       "      <td>  7</td>\n",
       "      <td> 15</td>\n",
       "    </tr>\n",
       "    <tr>\n",
       "      <th>25%</th>\n",
       "      <td>  7</td>\n",
       "      <td> 15</td>\n",
       "    </tr>\n",
       "    <tr>\n",
       "      <th>50%</th>\n",
       "      <td>  7</td>\n",
       "      <td> 15</td>\n",
       "    </tr>\n",
       "    <tr>\n",
       "      <th>75%</th>\n",
       "      <td>  7</td>\n",
       "      <td> 15</td>\n",
       "    </tr>\n",
       "    <tr>\n",
       "      <th>max</th>\n",
       "      <td>  7</td>\n",
       "      <td> 15</td>\n",
       "    </tr>\n",
       "    <tr>\n",
       "      <th rowspan=\"8\" valign=\"top\">Forward</th>\n",
       "      <th>count</th>\n",
       "      <td>  1</td>\n",
       "      <td>  1</td>\n",
       "    </tr>\n",
       "    <tr>\n",
       "      <th>mean</th>\n",
       "      <td>  9</td>\n",
       "      <td> 13</td>\n",
       "    </tr>\n",
       "    <tr>\n",
       "      <th>std</th>\n",
       "      <td>NaN</td>\n",
       "      <td>NaN</td>\n",
       "    </tr>\n",
       "    <tr>\n",
       "      <th>min</th>\n",
       "      <td>  9</td>\n",
       "      <td> 13</td>\n",
       "    </tr>\n",
       "    <tr>\n",
       "      <th>25%</th>\n",
       "      <td>  9</td>\n",
       "      <td> 13</td>\n",
       "    </tr>\n",
       "    <tr>\n",
       "      <th>50%</th>\n",
       "      <td>  9</td>\n",
       "      <td> 13</td>\n",
       "    </tr>\n",
       "    <tr>\n",
       "      <th>75%</th>\n",
       "      <td>  9</td>\n",
       "      <td> 13</td>\n",
       "    </tr>\n",
       "    <tr>\n",
       "      <th>max</th>\n",
       "      <td>  9</td>\n",
       "      <td> 13</td>\n",
       "    </tr>\n",
       "    <tr>\n",
       "      <th rowspan=\"8\" valign=\"top\">Point Guard</th>\n",
       "      <th>count</th>\n",
       "      <td>  1</td>\n",
       "      <td>  1</td>\n",
       "    </tr>\n",
       "    <tr>\n",
       "      <th>mean</th>\n",
       "      <td>  8</td>\n",
       "      <td> 18</td>\n",
       "    </tr>\n",
       "    <tr>\n",
       "      <th>std</th>\n",
       "      <td>NaN</td>\n",
       "      <td>NaN</td>\n",
       "    </tr>\n",
       "    <tr>\n",
       "      <th>min</th>\n",
       "      <td>  8</td>\n",
       "      <td> 18</td>\n",
       "    </tr>\n",
       "    <tr>\n",
       "      <th>25%</th>\n",
       "      <td>  8</td>\n",
       "      <td> 18</td>\n",
       "    </tr>\n",
       "    <tr>\n",
       "      <th>50%</th>\n",
       "      <td>  8</td>\n",
       "      <td> 18</td>\n",
       "    </tr>\n",
       "    <tr>\n",
       "      <th>75%</th>\n",
       "      <td>  8</td>\n",
       "      <td> 18</td>\n",
       "    </tr>\n",
       "    <tr>\n",
       "      <th>max</th>\n",
       "      <td>  8</td>\n",
       "      <td> 18</td>\n",
       "    </tr>\n",
       "    <tr>\n",
       "      <th rowspan=\"8\" valign=\"top\">Shooting Guard</th>\n",
       "      <th>count</th>\n",
       "      <td>  1</td>\n",
       "      <td>  1</td>\n",
       "    </tr>\n",
       "    <tr>\n",
       "      <th>mean</th>\n",
       "      <td> 10</td>\n",
       "      <td> 20</td>\n",
       "    </tr>\n",
       "    <tr>\n",
       "      <th>std</th>\n",
       "      <td>NaN</td>\n",
       "      <td>NaN</td>\n",
       "    </tr>\n",
       "    <tr>\n",
       "      <th>min</th>\n",
       "      <td> 10</td>\n",
       "      <td> 20</td>\n",
       "    </tr>\n",
       "    <tr>\n",
       "      <th>25%</th>\n",
       "      <td> 10</td>\n",
       "      <td> 20</td>\n",
       "    </tr>\n",
       "    <tr>\n",
       "      <th>50%</th>\n",
       "      <td> 10</td>\n",
       "      <td> 20</td>\n",
       "    </tr>\n",
       "    <tr>\n",
       "      <th>75%</th>\n",
       "      <td> 10</td>\n",
       "      <td> 20</td>\n",
       "    </tr>\n",
       "    <tr>\n",
       "      <th>max</th>\n",
       "      <td> 10</td>\n",
       "      <td> 20</td>\n",
       "    </tr>\n",
       "  </tbody>\n",
       "</table>\n",
       "</div>"
      ],
      "text/plain": [
       "                      YrsOfExperience  score\n",
       "Position                                    \n",
       "Center         count                1      1\n",
       "               mean                 7     15\n",
       "               std                NaN    NaN\n",
       "               min                  7     15\n",
       "               25%                  7     15\n",
       "               50%                  7     15\n",
       "               75%                  7     15\n",
       "               max                  7     15\n",
       "Forward        count                1      1\n",
       "               mean                 9     13\n",
       "               std                NaN    NaN\n",
       "               min                  9     13\n",
       "               25%                  9     13\n",
       "               50%                  9     13\n",
       "               75%                  9     13\n",
       "               max                  9     13\n",
       "Point Guard    count                1      1\n",
       "               mean                 8     18\n",
       "               std                NaN    NaN\n",
       "               min                  8     18\n",
       "               25%                  8     18\n",
       "               50%                  8     18\n",
       "               75%                  8     18\n",
       "               max                  8     18\n",
       "Shooting Guard count                1      1\n",
       "               mean                10     20\n",
       "               std                NaN    NaN\n",
       "               min                 10     20\n",
       "               25%                 10     20\n",
       "               50%                 10     20\n",
       "               75%                 10     20\n",
       "               max                 10     20"
      ]
     },
     "execution_count": 99,
     "metadata": {},
     "output_type": "execute_result"
    }
   ],
   "source": [
    "df.groupby('Position').describe()"
   ]
  },
  {
   "cell_type": "code",
   "execution_count": 16,
   "metadata": {},
   "outputs": [
    {
     "data": {
      "text/plain": [
       "0    1.0\n",
       "1    3.0\n",
       "2    5.0\n",
       "3    NaN\n",
       "4    6.0\n",
       "5    8.0\n",
       "dtype: float64"
      ]
     },
     "execution_count": 16,
     "metadata": {},
     "output_type": "execute_result"
    }
   ],
   "source": [
    "import pandas as pd\n",
    "import numpy as np\n",
    "import matplotlib.pyplot as plt\n",
    "\n",
    "### Creating a Series by passing a list of values, \n",
    "### letting pandas create a default integer index\n",
    "s = pd.Series([1,3,5,np.nan,6,8])\n",
    "s"
   ]
  },
  {
   "cell_type": "code",
   "execution_count": 17,
   "metadata": {},
   "outputs": [
    {
     "data": {
      "text/plain": [
       "DatetimeIndex(['2017-04-05', '2017-04-06', '2017-04-07', '2017-04-08',\n",
       "               '2017-04-09', '2017-04-10'],\n",
       "              dtype='datetime64[ns]', freq='D')"
      ]
     },
     "execution_count": 17,
     "metadata": {},
     "output_type": "execute_result"
    }
   ],
   "source": [
    "### Creating a DataFrame by passing a numpy array, with a datetime index and labeled columns\n",
    "\n",
    "dates = pd.date_range('20170405', periods=6)\n",
    "dates\n"
   ]
  },
  {
   "cell_type": "code",
   "execution_count": 18,
   "metadata": {},
   "outputs": [
    {
     "data": {
      "text/html": [
       "<div>\n",
       "<table border=\"1\" class=\"dataframe\">\n",
       "  <thead>\n",
       "    <tr style=\"text-align: right;\">\n",
       "      <th></th>\n",
       "      <th>A</th>\n",
       "      <th>B</th>\n",
       "      <th>C</th>\n",
       "      <th>D</th>\n",
       "    </tr>\n",
       "  </thead>\n",
       "  <tbody>\n",
       "    <tr>\n",
       "      <th>2017-04-05</th>\n",
       "      <td>0.564865</td>\n",
       "      <td>-0.600833</td>\n",
       "      <td>-1.426646</td>\n",
       "      <td>-0.383612</td>\n",
       "    </tr>\n",
       "    <tr>\n",
       "      <th>2017-04-06</th>\n",
       "      <td>-1.633046</td>\n",
       "      <td>-1.087281</td>\n",
       "      <td>2.790217</td>\n",
       "      <td>-1.612393</td>\n",
       "    </tr>\n",
       "    <tr>\n",
       "      <th>2017-04-07</th>\n",
       "      <td>0.347668</td>\n",
       "      <td>2.290625</td>\n",
       "      <td>0.362571</td>\n",
       "      <td>0.698967</td>\n",
       "    </tr>\n",
       "    <tr>\n",
       "      <th>2017-04-08</th>\n",
       "      <td>-0.546568</td>\n",
       "      <td>-0.624001</td>\n",
       "      <td>1.068344</td>\n",
       "      <td>0.238717</td>\n",
       "    </tr>\n",
       "    <tr>\n",
       "      <th>2017-04-09</th>\n",
       "      <td>-0.037939</td>\n",
       "      <td>-0.240916</td>\n",
       "      <td>-0.158730</td>\n",
       "      <td>-1.035765</td>\n",
       "    </tr>\n",
       "    <tr>\n",
       "      <th>2017-04-10</th>\n",
       "      <td>1.061027</td>\n",
       "      <td>0.938958</td>\n",
       "      <td>-0.243247</td>\n",
       "      <td>2.356058</td>\n",
       "    </tr>\n",
       "  </tbody>\n",
       "</table>\n",
       "</div>"
      ],
      "text/plain": [
       "                   A         B         C         D\n",
       "2017-04-05  0.564865 -0.600833 -1.426646 -0.383612\n",
       "2017-04-06 -1.633046 -1.087281  2.790217 -1.612393\n",
       "2017-04-07  0.347668  2.290625  0.362571  0.698967\n",
       "2017-04-08 -0.546568 -0.624001  1.068344  0.238717\n",
       "2017-04-09 -0.037939 -0.240916 -0.158730 -1.035765\n",
       "2017-04-10  1.061027  0.938958 -0.243247  2.356058"
      ]
     },
     "execution_count": 18,
     "metadata": {},
     "output_type": "execute_result"
    }
   ],
   "source": [
    "df = pd.DataFrame(np.random.randn(6,4), index=dates, columns=list('ABCD'))\n",
    "df"
   ]
  },
  {
   "cell_type": "code",
   "execution_count": 19,
   "metadata": {},
   "outputs": [
    {
     "data": {
      "text/html": [
       "<div>\n",
       "<table border=\"1\" class=\"dataframe\">\n",
       "  <thead>\n",
       "    <tr style=\"text-align: right;\">\n",
       "      <th></th>\n",
       "      <th>A</th>\n",
       "      <th>B</th>\n",
       "      <th>C</th>\n",
       "      <th>D</th>\n",
       "      <th>E</th>\n",
       "      <th>F</th>\n",
       "    </tr>\n",
       "  </thead>\n",
       "  <tbody>\n",
       "    <tr>\n",
       "      <th>0</th>\n",
       "      <td>1.0</td>\n",
       "      <td>2013-01-02</td>\n",
       "      <td>1.0</td>\n",
       "      <td>3</td>\n",
       "      <td>test</td>\n",
       "      <td>foo</td>\n",
       "    </tr>\n",
       "    <tr>\n",
       "      <th>1</th>\n",
       "      <td>1.0</td>\n",
       "      <td>2013-01-02</td>\n",
       "      <td>1.0</td>\n",
       "      <td>3</td>\n",
       "      <td>train</td>\n",
       "      <td>foo</td>\n",
       "    </tr>\n",
       "    <tr>\n",
       "      <th>2</th>\n",
       "      <td>1.0</td>\n",
       "      <td>2013-01-02</td>\n",
       "      <td>1.0</td>\n",
       "      <td>3</td>\n",
       "      <td>test</td>\n",
       "      <td>foo</td>\n",
       "    </tr>\n",
       "    <tr>\n",
       "      <th>3</th>\n",
       "      <td>1.0</td>\n",
       "      <td>2013-01-02</td>\n",
       "      <td>1.0</td>\n",
       "      <td>3</td>\n",
       "      <td>train</td>\n",
       "      <td>foo</td>\n",
       "    </tr>\n",
       "  </tbody>\n",
       "</table>\n",
       "</div>"
      ],
      "text/plain": [
       "     A          B    C  D      E    F\n",
       "0  1.0 2013-01-02  1.0  3   test  foo\n",
       "1  1.0 2013-01-02  1.0  3  train  foo\n",
       "2  1.0 2013-01-02  1.0  3   test  foo\n",
       "3  1.0 2013-01-02  1.0  3  train  foo"
      ]
     },
     "execution_count": 19,
     "metadata": {},
     "output_type": "execute_result"
    }
   ],
   "source": [
    "### Creating a DataFrame by passing a dict of objects that can be converted to series-like.\n",
    "\n",
    "df2 = pd.DataFrame({ 'A' : 1.,\n",
    "                      'B' : pd.Timestamp('20130102'),\n",
    "                      'C' : pd.Series(1,index=list(range(4)),dtype='float32'),\n",
    "                      'D' : np.array([3] * 4,dtype='int32'),\n",
    "                      'E' : pd.Categorical([\"test\",\"train\",\"test\",\"train\"]),\n",
    "                      'F' : 'foo' })\n",
    " \n",
    "df2"
   ]
  },
  {
   "cell_type": "code",
   "execution_count": null,
   "metadata": {
    "collapsed": true
   },
   "outputs": [],
   "source": []
  }
 ],
 "metadata": {
  "kernelspec": {
   "display_name": "Python 3",
   "language": "python",
   "name": "python3"
  },
  "language_info": {
   "codemirror_mode": {
    "name": "ipython",
    "version": 3
   },
   "file_extension": ".py",
   "mimetype": "text/x-python",
   "name": "python",
   "nbconvert_exporter": "python",
   "pygments_lexer": "ipython3",
   "version": "3.6.3"
  }
 },
 "nbformat": 4,
 "nbformat_minor": 1
}
