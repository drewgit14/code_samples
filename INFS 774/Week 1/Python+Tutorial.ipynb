{
 "cells": [
  {
   "cell_type": "markdown",
   "metadata": {},
   "source": [
    "# Python\n",
    "* http://python.org/ - documentation, tutorials, beginners guide, core distribution, ...\n",
    "* Books include:\n",
    "  * Learning Python by Mark Lutz\n",
    "  * Python Essential Reference by David Beazley\n",
    "  * Python Cookbook, ed. by Martelli, Ravenscroft and Ascher"
   ]
  },
  {
   "cell_type": "markdown",
   "metadata": {},
   "source": [
    "## Python versions:\n",
    "   * Version 2.7 came out in mid-2010. The end of life date of python 2 is 2020\n",
    "   * Version 3.0 came out in 2008. Current version is 3.7.\n",
    "   * Major difference:\n",
    "      * In python 3 print is a function (e.g., print(x)), while in python 2, print x\n",
    "   * I am using python 3 in this course. "
   ]
  },
  {
   "cell_type": "markdown",
   "metadata": {},
   "source": [
    "## Python Data Types:\n",
    "    numbers, strings, sequences including lists, tuples, sets, dictionaries, etc."
   ]
  },
  {
   "cell_type": "markdown",
   "metadata": {},
   "source": [
    "## Numbers"
   ]
  },
  {
   "cell_type": "markdown",
   "metadata": {},
   "source": [
    "### Basic algebraic operations\n",
    "* Four arithmetic operations: a+b, a-b, a*b, a/b\n",
    "* Modulo : a%b\n",
    "* Exponentiation: a**b\n",
    "* Other elementary functions are not part of standard Python, but included in packages like math, NumPy and SciPy\n",
    "* Comparison operators\n",
    "  * Greater than, less than, etc.: a < b, a > b, a <= b, a >= b\n",
    "  * Identity tests: a == b (we use for strings, lists, etc.), a != b"
   ]
  },
  {
   "cell_type": "code",
   "execution_count": 1,
   "metadata": {},
   "outputs": [
    {
     "data": {
      "text/plain": [
       "8"
      ]
     },
     "execution_count": 1,
     "metadata": {},
     "output_type": "execute_result"
    }
   ],
   "source": [
    "2**3"
   ]
  },
  {
   "cell_type": "code",
   "execution_count": 2,
   "metadata": {},
   "outputs": [
    {
     "name": "stdout",
     "output_type": "stream",
     "text": [
      "2.302585092994046\n",
      "1.0\n"
     ]
    }
   ],
   "source": [
    "import math\n",
    "print(math.log(10))\n",
    "print(math.log10(10))"
   ]
  },
  {
   "cell_type": "code",
   "execution_count": 3,
   "metadata": {},
   "outputs": [
    {
     "name": "stdout",
     "output_type": "stream",
     "text": [
      "True\n",
      "False\n"
     ]
    }
   ],
   "source": [
    "a = 5\n",
    "b = 4\n",
    "c = 6\n",
    "print(c > a and a > b)\n",
    "print(c == a)"
   ]
  },
  {
   "cell_type": "markdown",
   "metadata": {},
   "source": [
    "## Strings"
   ]
  },
  {
   "cell_type": "markdown",
   "metadata": {},
   "source": [
    "* Python does not support a character type; these are treated as strings of length one, thus also considered a substring.\n",
    "* Strings are immutable.\n",
    "* Strings are enclosed in single or double quotation marks"
   ]
  },
  {
   "cell_type": "code",
   "execution_count": 4,
   "metadata": {},
   "outputs": [
    {
     "name": "stdout",
     "output_type": "stream",
     "text": [
      "True\n"
     ]
    },
    {
     "ename": "TypeError",
     "evalue": "'str' object does not support item assignment",
     "output_type": "error",
     "traceback": [
      "\u001b[1;31m---------------------------------------------------------------------------\u001b[0m",
      "\u001b[1;31mTypeError\u001b[0m                                 Traceback (most recent call last)",
      "\u001b[1;32m<ipython-input-4-94a4f93de712>\u001b[0m in \u001b[0;36m<module>\u001b[1;34m\u001b[0m\n\u001b[0;32m      2\u001b[0m \u001b[0mb\u001b[0m \u001b[1;33m=\u001b[0m \u001b[1;34m\"INFS772\"\u001b[0m\u001b[1;33m\u001b[0m\u001b[1;33m\u001b[0m\u001b[0m\n\u001b[0;32m      3\u001b[0m \u001b[0mprint\u001b[0m\u001b[1;33m(\u001b[0m\u001b[0ma\u001b[0m\u001b[1;33m==\u001b[0m\u001b[0mb\u001b[0m\u001b[1;33m)\u001b[0m\u001b[1;33m\u001b[0m\u001b[1;33m\u001b[0m\u001b[0m\n\u001b[1;32m----> 4\u001b[1;33m \u001b[0ma\u001b[0m\u001b[1;33m[\u001b[0m\u001b[1;36m0\u001b[0m\u001b[1;33m]\u001b[0m \u001b[1;33m=\u001b[0m \u001b[1;34m's'\u001b[0m\u001b[1;33m\u001b[0m\u001b[1;33m\u001b[0m\u001b[0m\n\u001b[0m",
      "\u001b[1;31mTypeError\u001b[0m: 'str' object does not support item assignment"
     ]
    }
   ],
   "source": [
    "a = 'INFS772'\n",
    "b = \"INFS772\"\n",
    "print(a==b)\n",
    "a[0] = 's'"
   ]
  },
  {
   "cell_type": "code",
   "execution_count": null,
   "metadata": {},
   "outputs": [],
   "source": [
    "a = \"he's a good student\"\n",
    "b = 'he is a \"good\" student'\n",
    "c = '''he's a \"good\" student'''\n",
    "print(a)\n",
    "print(b)\n",
    "print(c)"
   ]
  },
  {
   "cell_type": "markdown",
   "metadata": {},
   "source": [
    "### String Operations"
   ]
  },
  {
   "cell_type": "markdown",
   "metadata": {},
   "source": [
    "#### 1. Concatenation and repetition\n",
    "   * Strings are concatenated with the + sign: 'abc'+'def‘ 'abcdef'\n",
    "   * Strings are repeated with the * sign:'abc'*3  'abcabcabc’"
   ]
  },
  {
   "cell_type": "markdown",
   "metadata": {},
   "source": [
    "#### 2. Indexing\n",
    "  * Python starts indexing at 0. \n",
    "  * A string will have indexes running from 0 to len(s)-1 (where len(s) is the length of s) in integer quantities.\n",
    "  * s[i] fetches the ith element in s. \n",
    "  * e.g.:\n",
    "  \n",
    "    H    E   L   L   O\n",
    "  \n",
    "    0    1   2   3   4\n",
    "    \n",
    "    -5  -4  -3  -2  -1"
   ]
  },
  {
   "cell_type": "code",
   "execution_count": null,
   "metadata": {},
   "outputs": [],
   "source": [
    "a = \"Hello\"\n",
    "print(a[1])\n",
    "print(a[-1])\n",
    "print(a[len(a)-1])"
   ]
  },
  {
   "cell_type": "markdown",
   "metadata": {},
   "source": [
    "#### 3. Slicing\n",
    "\n",
    "e.g., s = \"Hello\"\n",
    "  * s[1:4] is 'ell' -- chars starting at index 1 and extending up to but not including index 4\n",
    "  * s[1:] is 'ello' -- omitting either index defaults to the start or end of the string\n",
    "  * s[:] is 'Hello' -- omitting both always gives us a copy of the whole thing (this is the pythonic way to copy a sequence like a string or list)\n",
    "  * s[1:100] is 'ello' -- an index that is too big is truncated down to the string length"
   ]
  },
  {
   "cell_type": "markdown",
   "metadata": {},
   "source": [
    "#### 4. String Methods: find, split"
   ]
  },
  {
   "cell_type": "code",
   "execution_count": 11,
   "metadata": {},
   "outputs": [
    {
     "name": "stdout",
     "output_type": "stream",
     "text": [
      "15\n",
      "9\n",
      "-1\n",
      "['C(=N)(N)N', 'C(=O)(O)O']\n"
     ]
    }
   ],
   "source": [
    "smiles = \"C(=N)(N)N.C(=O)(O)O\"\n",
    "print(smiles.find(\"(O)\")) # Use “find” to find the start of a substring\n",
    "print(smiles.find(\".\")) \n",
    "print(smiles.find(\".\", 10)) #Start looking at position 10.\n",
    "print(smiles.split(\".\")) #Split the string into a list of strings with “.” as the delimiter"
   ]
  },
  {
   "cell_type": "markdown",
   "metadata": {},
   "source": [
    "#### 5. String operators: in, not in"
   ]
  },
  {
   "cell_type": "code",
   "execution_count": 12,
   "metadata": {},
   "outputs": [
    {
     "name": "stdout",
     "output_type": "stream",
     "text": [
      "contains brother\n"
     ]
    }
   ],
   "source": [
    "if \"Br\" in \"Brother\":\n",
    "    print(\"contains brother\")"
   ]
  },
  {
   "cell_type": "code",
   "execution_count": 13,
   "metadata": {},
   "outputs": [
    {
     "name": "stdout",
     "output_type": "stream",
     "text": [
      "jun.liu@dsu.edu\n"
     ]
    }
   ],
   "source": [
    "email_address = \"jun.liu\"\n",
    "if \"@\" not in email_address:\n",
    "    email_address  = email_address + \"@dsu.edu\"\n",
    "    print(email_address)"
   ]
  },
  {
   "cell_type": "markdown",
   "metadata": {},
   "source": [
    "#### 6.String Method: “strip”, “rstrip”, “lstrip” are ways to remove whitespace or selected characters"
   ]
  },
  {
   "cell_type": "code",
   "execution_count": 14,
   "metadata": {},
   "outputs": [
    {
     "name": "stdout",
     "output_type": "stream",
     "text": [
      "This is a comment line\n",
      " This is a comment line\n",
      "This is a comment line \n",
      "\n",
      " This is a comment line \n"
     ]
    }
   ],
   "source": [
    "line = \" This is a comment line \\n\"\n",
    "print(line.strip()) #output: 'This is a comment line'\n",
    "print(line.rstrip()) #ouput ' This is a comment line'\n",
    "print(line.lstrip())\n",
    "print(line.rstrip(\"\\n\")) # output' This is a comment line '"
   ]
  },
  {
   "cell_type": "markdown",
   "metadata": {},
   "source": [
    "#### 7. More string methods:\n",
    "* s.replace(old, new [, max]):Replaces all occurrences of old in string with new or at most max occurrences if max given.\n",
    "* s.upper():Converts lowercase letters in string to uppercase.\n",
    "* s.lower()\n",
    "* s.count(str, beg= 0,end=len(string)): Counts how many times str occurs in string or in a substring of string if starting index beg and ending index end are given.\n",
    "* s.isalpha()/s.isdigit()/s.isspace()... -- tests if all the string chars are in the various character classes\n",
    "* s.startswith('other'), s.endswith('other') -- tests if the string starts or ends with the given other string\n",
    "* s.join(list) -- opposite of split(), joins the elements in the given list together using the string as the delimiter. e.g. '--"
   ]
  },
  {
   "cell_type": "code",
   "execution_count": 15,
   "metadata": {},
   "outputs": [
    {
     "name": "stdout",
     "output_type": "stream",
     "text": [
      "jun.liu@dsu.edu\n",
      "Ben>Chen>Yaqin\n"
     ]
    }
   ],
   "source": [
    "\n",
    "print(\"%s@dsu.edu\" % \"jun.liu\") # replace %s with a string\n",
    "names = [\"Ben\", \"Chen\", \"Yaqin\"]\n",
    "print(\">\".join(names))"
   ]
  },
  {
   "cell_type": "markdown",
   "metadata": {},
   "source": [
    "#### 8. special characters\n",
    "* \\n -> newline\n",
    "* \\t -> tab\n",
    "* \\\\ -> backslash\n",
    "\n",
    "But Windows uses backslash for directories!\n",
    "* filename = \"M:\\nickel_project\\reactive.smi\" # DANGER!\n",
    "* filename = \"M:\\\\nickel_project\\\\reactive.smi\" # Better!\n",
    "* filename = \"M:/nickel_project/reactive.smi\" # Usually works"
   ]
  },
  {
   "cell_type": "markdown",
   "metadata": {},
   "source": [
    "## Lists\n",
    "* The list type is a container which holds a number of objects, in a given order. These object can be of different types\n",
    "* The list type mutable - it allows you to add and remove objects from the sequence"
   ]
  },
  {
   "cell_type": "code",
   "execution_count": 16,
   "metadata": {},
   "outputs": [
    {
     "name": "stdout",
     "output_type": "stream",
     "text": [
      "[1, 'a', 2, [1, 2, 3]]\n"
     ]
    }
   ],
   "source": [
    "# list initialization\n",
    "a = [] # create a new list\n",
    "a = list() # another way to create a new list\n",
    "a =[ 1, 'a', 2, [1,2,3]]\n",
    "print(a) \n",
    "a = list([1,2]) # does not work\n",
    "colors = ['red', 'blue', 'green']"
   ]
  },
  {
   "cell_type": "code",
   "execution_count": null,
   "metadata": {},
   "outputs": [],
   "source": [
    "\n",
    "print(colors)\n",
    "print(len(colors))  ## 3\n",
    "# list indexing is the same as string indexing\n",
    "print(colors[0])    ## red\n",
    "print(colors[2])   ## green\n",
    "print(colors[len(colors)-1])\n",
    "# list slicing is the same as string indexing\n",
    "few_colors = colors[1:] # create a new list\n",
    "print(few_colors)\n",
    "b = colors # b and colors are references that point to the same thing\n",
    "print(b)\n",
    "b[1] = 'brown'\n",
    "print(colors)"
   ]
  },
  {
   "cell_type": "markdown",
   "metadata": {},
   "source": [
    "### Mutable vs immutable\n",
    "  * Int, float, strings are immutable\n",
    "\n",
    "x = something # immutable type \n",
    "\n",
    "y = x \n",
    "\n",
    "print(x)\n",
    "\n",
    "if I have changed y:\n",
    "\n",
    "print(x) # prints the same thing \n",
    "\n",
    "x = something # mutable type \n",
    "\n",
    "y = x \n",
    "\n",
    "print(x)\n",
    "\n",
    "if I have changed y:\n",
    "\n",
    "Print(x) # x is also changed"
   ]
  },
  {
   "cell_type": "markdown",
   "metadata": {},
   "source": [
    "### Lists are mutable - some useful methods for changing a list"
   ]
  },
  {
   "cell_type": "code",
   "execution_count": 17,
   "metadata": {},
   "outputs": [
    {
     "name": "stdout",
     "output_type": "stream",
     "text": [
      "['9pti', '2plv', '1crn', '1alm']\n",
      "['10pti', '9pti', '2plv', '1crn', '1alm']\n",
      "['10pti', '9pti', '2plv', '1crn', '1alm', 'd', 'e']\n",
      "['9pti', '2plv', '1crn', '1alm', 'd', 'e']\n",
      "['1alm', '1crn', '2plv', '9pti', 'd', 'e']\n",
      "['e', 'd', '9pti', '2plv', '1crn', '1alm']\n"
     ]
    }
   ],
   "source": [
    "ids = [\"9pti\", \"2plv\", \"1crn\"]\n",
    "ids.append(\"1alm\") # add an item to the end\n",
    "print(ids)\n",
    "ids.insert(0, \"10pti\") # add an item to a positiond.\n",
    "print(ids)\n",
    "L = ['d', 'e']\n",
    "ids.extend(L) # Extend the list by appending all the items in the given list; equivalent to a[len(a):] = L\n",
    "print(ids)\n",
    "del ids[0] # delete an item\n",
    "print(ids)\n",
    "ids.sort() # sort a list\n",
    "print(ids)\n",
    "ids.reverse() # reserve a list\n",
    "print(ids)"
   ]
  },
  {
   "cell_type": "markdown",
   "metadata": {},
   "source": [
    "### range() gives you a list of numbers in Python 2 and an iteratable object in Python 3"
   ]
  },
  {
   "cell_type": "code",
   "execution_count": 18,
   "metadata": {},
   "outputs": [
    {
     "name": "stdout",
     "output_type": "stream",
     "text": [
      "range(0, 5)\n",
      "[1, 2, 3, 4]\n",
      "[0, 2, 4]\n",
      "0\n",
      "1\n",
      "2\n",
      "3\n",
      "4\n"
     ]
    }
   ],
   "source": [
    "print(range(5))\n",
    "print(list(range(1,5)))\n",
    "print(list(range(0,5,2)))\n",
    "for i in range(5):\n",
    "    print(i)"
   ]
  },
  {
   "cell_type": "markdown",
   "metadata": {},
   "source": [
    "## Tuples"
   ]
  },
  {
   "cell_type": "markdown",
   "metadata": {},
   "source": [
    "* A Tuple is an immutable list. A tuple can not be changed in any way once it is created\n",
    "* A Tuple is defined in the same way as a list except that the whole set of elements are enclosed in parentheses instead of square brackets"
   ]
  },
  {
   "cell_type": "code",
   "execution_count": 21,
   "metadata": {},
   "outputs": [
    {
     "name": "stdout",
     "output_type": "stream",
     "text": [
      "(1, 2, 3, 4, 5)\n",
      "2\n",
      "(1, 2, 3, 4, 5, 'a', 'b')\n"
     ]
    },
    {
     "ename": "TypeError",
     "evalue": "'tuple' object does not support item assignment",
     "output_type": "error",
     "traceback": [
      "\u001b[1;31m---------------------------------------------------------------------------\u001b[0m",
      "\u001b[1;31mTypeError\u001b[0m                                 Traceback (most recent call last)",
      "\u001b[1;32m<ipython-input-21-cf8a1bcd96bb>\u001b[0m in \u001b[0;36m<module>\u001b[1;34m\u001b[0m\n\u001b[0;32m      9\u001b[0m \u001b[0mtup3\u001b[0m \u001b[1;33m=\u001b[0m \u001b[0mtup1\u001b[0m\u001b[1;33m+\u001b[0m\u001b[0mtup2\u001b[0m \u001b[1;31m# you can create a new tuple by combining two tuples\u001b[0m\u001b[1;33m\u001b[0m\u001b[1;33m\u001b[0m\u001b[0m\n\u001b[0;32m     10\u001b[0m \u001b[0mprint\u001b[0m\u001b[1;33m(\u001b[0m\u001b[0mtup3\u001b[0m\u001b[1;33m)\u001b[0m\u001b[1;33m\u001b[0m\u001b[1;33m\u001b[0m\u001b[0m\n\u001b[1;32m---> 11\u001b[1;33m \u001b[0mtup1\u001b[0m\u001b[1;33m[\u001b[0m\u001b[1;36m1\u001b[0m\u001b[1;33m]\u001b[0m \u001b[1;33m=\u001b[0m \u001b[1;36m6\u001b[0m \u001b[1;31m# error: you cannot change a tuple, you also cannot append or delete an item or extend a tuple\u001b[0m\u001b[1;33m\u001b[0m\u001b[1;33m\u001b[0m\u001b[0m\n\u001b[0m",
      "\u001b[1;31mTypeError\u001b[0m: 'tuple' object does not support item assignment"
     ]
    }
   ],
   "source": [
    "# tuple operations\n",
    "tup1 = (1, 2, 3, 4, 5)\n",
    "# or you can create a tuple from a list\n",
    "li = [1,2,3,4,5]\n",
    "tup1 = tuple(li)\n",
    "print(tup1)\n",
    "print(tup1[1]) # you can also do index and slicing\n",
    "tup2 = ('a','b') \n",
    "tup3 = tup1+tup2 # you can create a new tuple by combining two tuples\n",
    "print(tup3)\n",
    "tup1[1] = 6 # error: you cannot change a tuple, you also cannot append or delete an item or extend a tuple"
   ]
  },
  {
   "cell_type": "markdown",
   "metadata": {},
   "source": [
    "### Zip lists together to create a list of tuples in Python 2 and an iteratable object in Python 3"
   ]
  },
  {
   "cell_type": "code",
   "execution_count": 23,
   "metadata": {},
   "outputs": [
    {
     "name": "stdout",
     "output_type": "stream",
     "text": [
      "<zip object at 0x0000022C9680AB88>\n",
      "[('ben', 0), ('chen', 0), ('yaqin', 1)]\n"
     ]
    }
   ],
   "source": [
    "names = ['ben', 'chen', 'yaqin']\n",
    "gender = [0, 0, 1]\n",
    "print(zip(names, gender))\n",
    "print(list(zip(names, gender)))"
   ]
  },
  {
   "cell_type": "markdown",
   "metadata": {},
   "source": [
    "## Dictionaries\n",
    "* Dictionaries are lookup tables.\n",
    "* They map from a “key” to a “value”.\n",
    "* E.g.,\n",
    "\n",
    "symbol_to_name = {\n",
    "\"H\": \"hydrogen\",\n",
    "\"He\": \"helium\",\n",
    "\"Li\": \"lithium\",\n",
    "\"C\": \"carbon\",\n",
    "\"O\": \"oxygen\",\n",
    "\"N\": \"nitrogen\"\n",
    "}\n",
    "* Duplicate keys are not allowed\n",
    "* Duplicate values are just fine"
   ]
  },
  {
   "cell_type": "markdown",
   "metadata": {},
   "source": [
    "#### A key can be any immutable value. Key values cannot be repeated.\n",
    "* numbers, strings, tuples, etc.\n",
    "* not list, dictionary, set, etc.\n",
    "#### A values can be any immutable or mutable value"
   ]
  },
  {
   "cell_type": "code",
   "execution_count": 24,
   "metadata": {},
   "outputs": [
    {
     "name": "stdout",
     "output_type": "stream",
     "text": [
      "carbon\n",
      "{'H': 'hydrogen', 'He': 'helium', 'Li': 'lithium', 'C': 'carbon', 'O': 'oxygen', 'N': 'nitrogen', 'A': 'aluminum'}\n"
     ]
    },
    {
     "ename": "KeyError",
     "evalue": "'B'",
     "output_type": "error",
     "traceback": [
      "\u001b[1;31m---------------------------------------------------------------------------\u001b[0m",
      "\u001b[1;31mKeyError\u001b[0m                                  Traceback (most recent call last)",
      "\u001b[1;32m<ipython-input-24-531ce0c7264a>\u001b[0m in \u001b[0;36m<module>\u001b[1;34m\u001b[0m\n\u001b[0;32m     13\u001b[0m \u001b[0msymbol_to_name\u001b[0m\u001b[1;33m[\u001b[0m\u001b[1;34m'A'\u001b[0m\u001b[1;33m]\u001b[0m \u001b[1;33m=\u001b[0m \u001b[1;34m\"aluminum\"\u001b[0m\u001b[1;33m\u001b[0m\u001b[1;33m\u001b[0m\u001b[0m\n\u001b[0;32m     14\u001b[0m \u001b[0mprint\u001b[0m\u001b[1;33m(\u001b[0m\u001b[0msymbol_to_name\u001b[0m\u001b[1;33m)\u001b[0m\u001b[1;33m\u001b[0m\u001b[1;33m\u001b[0m\u001b[0m\n\u001b[1;32m---> 15\u001b[1;33m \u001b[0mprint\u001b[0m\u001b[1;33m(\u001b[0m\u001b[0msymbol_to_name\u001b[0m\u001b[1;33m[\u001b[0m\u001b[1;34m'B'\u001b[0m\u001b[1;33m]\u001b[0m\u001b[1;33m)\u001b[0m \u001b[1;31m# error\u001b[0m\u001b[1;33m\u001b[0m\u001b[1;33m\u001b[0m\u001b[0m\n\u001b[0m",
      "\u001b[1;31mKeyError\u001b[0m: 'B'"
     ]
    }
   ],
   "source": [
    "# to initialize a dictionary\n",
    "symbol_to_name = {}\n",
    "symbol_to_name = {\n",
    "\"H\": \"hydrogen\",\n",
    "\"He\": \"helium\",\n",
    "\"Li\": \"lithium\",\n",
    "\"C\": \"carbon\",\n",
    "\"O\": \"oxygen\",\n",
    "\"N\": \"nitrogen\"\n",
    "}\n",
    "print(symbol_to_name[\"C\"]) # given a key, get its value\n",
    "# to add an item to a dictionary\n",
    "symbol_to_name['A'] = \"aluminum\"\n",
    "print(symbol_to_name)\n",
    "print(symbol_to_name['B']) # error"
   ]
  },
  {
   "cell_type": "code",
   "execution_count": 25,
   "metadata": {},
   "outputs": [
    {
     "name": "stdout",
     "output_type": "stream",
     "text": [
      "dict_items([('H', 'hydrogen'), ('He', 'helium'), ('Li', 'lithium'), ('C', 'carbon'), ('O', 'oxygen'), ('N', 'nitrogen'), ('A', 'aluminum')])\n",
      "dict_keys(['H', 'He', 'Li', 'C', 'O', 'N', 'A'])\n",
      "dict_values(['hydrogen', 'helium', 'lithium', 'carbon', 'oxygen', 'nitrogen', 'aluminum'])\n",
      "True\n",
      "False\n",
      "H\n",
      "He\n",
      "Li\n",
      "C\n",
      "O\n",
      "N\n",
      "A\n",
      "-------------------\n",
      "hydrogen\n",
      "helium\n",
      "lithium\n",
      "carbon\n",
      "oxygen\n",
      "nitrogen\n",
      "aluminum\n",
      "H>hydrogen\n",
      "He>helium\n",
      "Li>lithium\n",
      "C>carbon\n",
      "O>oxygen\n",
      "N>nitrogen\n",
      "A>aluminum\n"
     ]
    }
   ],
   "source": [
    "print(symbol_to_name.items())\n",
    "print(symbol_to_name.keys())\n",
    "print(symbol_to_name.values())\n",
    "print(\"O\" in symbol_to_name) # IN is used check if a key exists\n",
    "print(\"oxygen\" in symbol_to_name) # IN cannot be used to check if a value exists\n",
    "# to print keys one by one:\n",
    "for key in symbol_to_name: # equivalent to: for key in symbol_to_name\n",
    "    print(key)\n",
    "print(\"-------------------\")\n",
    "# to print values one by one:\n",
    "for value in symbol_to_name.values():\n",
    "    print(value)\n",
    "# to print key>value pairs one by one:\n",
    "for (k, v) in symbol_to_name.items():\n",
    "    print(k + \">\" + v)"
   ]
  },
  {
   "cell_type": "code",
   "execution_count": 26,
   "metadata": {},
   "outputs": [
    {
     "name": "stdout",
     "output_type": "stream",
     "text": [
      "{'H': 'hydrogen', 'He': 'helium', 'Li': 'lithium', 'C': 'carbon', 'O': 'oxygen', 'N': 'nitrogen', 'A': 'aluminum oxide'}\n",
      "{'H': 'hydrogen', 'He': 'helium', 'Li': 'lithium', 'C': 'carbon', 'O': 'oxygen', 'N': 'nitrogen', 'A': 'aluminum', 'P': 'phosphorous', 'S': 'sulfur'}\n",
      "{'H': 'hydrogen', 'He': 'helium', 'Li': 'lithium', 'C': 'carbon', 'N': 'nitrogen', 'A': 'aluminum', 'P': 'phosphorous', 'S': 'sulfur'}\n"
     ]
    }
   ],
   "source": [
    "# how to update a value in a dicitonary\n",
    "symbol_to_name['A'] = \"aluminum oxide\"\n",
    "print(symbol_to_name)\n",
    "# how to update a dicationary by adding some items and changing some values.\n",
    "symbol_to_name.update( {\"A\": \"aluminum\", \"P\": \"phosphorous\", \"S\": \"sulfur\"} )\n",
    "print(symbol_to_name)\n",
    "del(symbol_to_name['O'])\n",
    "print(symbol_to_name)"
   ]
  },
  {
   "cell_type": "markdown",
   "metadata": {},
   "source": [
    "## Sets\n",
    "* Sets are neither mappings nor sequences; rather, they are ordered collections of unique and immutable objects \n",
    "* Sets are created by calling the built-in set function\n",
    "* Items in a set must also be hashable (not necessary of the same type)\n",
    "* Set is useful for sorting and removing repeated items in a list."
   ]
  },
  {
   "cell_type": "code",
   "execution_count": 27,
   "metadata": {},
   "outputs": [
    {
     "name": "stdout",
     "output_type": "stream",
     "text": [
      "{1, 2, 3, 4}\n",
      "[1, 2, 3, 4]\n",
      "{3, 4, '5', 'a', '2'}\n"
     ]
    }
   ],
   "source": [
    "a = [1,2,4,4,3]\n",
    "b = set(a) # create a set from a list\n",
    "print(b)\n",
    "a = list(b) # convert the set back to a list\n",
    "print(a)\n",
    "a = ['5','2','a', 3,4,4]\n",
    "b = set(a)\n",
    "print(b)"
   ]
  },
  {
   "cell_type": "markdown",
   "metadata": {},
   "source": [
    "### Set methods\n",
    "* Union, Intersection, Difference\n",
    "* Set does not support indexing and slicing "
   ]
  },
  {
   "cell_type": "markdown",
   "metadata": {},
   "source": [
    "## Control flow"
   ]
  },
  {
   "cell_type": "markdown",
   "metadata": {},
   "source": [
    "### 1. If Statements"
   ]
  },
  {
   "cell_type": "code",
   "execution_count": 28,
   "metadata": {},
   "outputs": [
    {
     "name": "stdout",
     "output_type": "stream",
     "text": [
      "What is your speed? 90\n",
      "terrible, bad or good?good\n",
      "License and registration please\n",
      "I'm going to have to write you a ticket.\n"
     ]
    },
    {
     "ename": "NameError",
     "evalue": "name 'write_ticket' is not defined",
     "output_type": "error",
     "traceback": [
      "\u001b[1;31m---------------------------------------------------------------------------\u001b[0m",
      "\u001b[1;31mNameError\u001b[0m                                 Traceback (most recent call last)",
      "\u001b[1;32m<ipython-input-28-2bdbb3f4eb02>\u001b[0m in \u001b[0;36m<module>\u001b[1;34m\u001b[0m\n\u001b[0;32m      7\u001b[0m \u001b[1;32melif\u001b[0m \u001b[0mmood\u001b[0m \u001b[1;33m==\u001b[0m \u001b[1;34m'bad'\u001b[0m \u001b[1;32mor\u001b[0m \u001b[0mspeed\u001b[0m \u001b[1;33m>=\u001b[0m \u001b[1;36m90\u001b[0m\u001b[1;33m:\u001b[0m\u001b[1;33m\u001b[0m\u001b[1;33m\u001b[0m\u001b[0m\n\u001b[0;32m      8\u001b[0m     \u001b[0mprint\u001b[0m\u001b[1;33m(\u001b[0m\u001b[1;34m\"I'm going to have to write you a ticket.\"\u001b[0m\u001b[1;33m)\u001b[0m\u001b[1;33m\u001b[0m\u001b[1;33m\u001b[0m\u001b[0m\n\u001b[1;32m----> 9\u001b[1;33m     \u001b[0mwrite_ticket\u001b[0m\u001b[1;33m(\u001b[0m\u001b[1;33m)\u001b[0m\u001b[1;33m\u001b[0m\u001b[1;33m\u001b[0m\u001b[0m\n\u001b[0m\u001b[0;32m     10\u001b[0m \u001b[1;32melse\u001b[0m\u001b[1;33m:\u001b[0m\u001b[1;33m\u001b[0m\u001b[1;33m\u001b[0m\u001b[0m\n\u001b[0;32m     11\u001b[0m     \u001b[0mprint\u001b[0m\u001b[1;33m(\u001b[0m\u001b[1;34m\"Let's try to keep it under 80 ok?\"\u001b[0m\u001b[1;33m)\u001b[0m\u001b[1;33m\u001b[0m\u001b[1;33m\u001b[0m\u001b[0m\n",
      "\u001b[1;31mNameError\u001b[0m: name 'write_ticket' is not defined"
     ]
    }
   ],
   "source": [
    "speed = float(input(\"What is your speed? \")) # input to get user input in python 3 and you use raw_input in python 2\n",
    "mood = input(\"terrible, bad or good?\")\n",
    "if speed >= 80:\n",
    "    print('License and registration please')\n",
    "if mood == 'terrible' or speed >= 100:\n",
    "    print('You have the right to remain silent.')\n",
    "elif mood == 'bad' or speed >= 90:\n",
    "    print(\"I'm going to have to write you a ticket.\")\n",
    "    write_ticket()\n",
    "else:\n",
    "    print(\"Let's try to keep it under 80 ok?\")"
   ]
  },
  {
   "cell_type": "markdown",
   "metadata": {},
   "source": [
    "### 2. While loops"
   ]
  },
  {
   "cell_type": "code",
   "execution_count": 29,
   "metadata": {},
   "outputs": [
    {
     "name": "stdout",
     "output_type": "stream",
     "text": [
      "4 is an even number\n",
      "2 is an even number\n"
     ]
    }
   ],
   "source": [
    "n = 5\n",
    "while n != 0:\n",
    "    if n % 2 == 0:\n",
    "        print (n, \"is an even number\")\n",
    "        n-=1\n",
    "    else:\n",
    "        pass\n",
    "        n=n-1"
   ]
  },
  {
   "cell_type": "markdown",
   "metadata": {},
   "source": [
    "### 3. For loops\n",
    "* For loop is often used to traverse a sequence (such as a string, a list, and a dictionary)\n",
    "* The usage of for loop in python is quite different from that in other language. You must remember the code below."
   ]
  },
  {
   "cell_type": "code",
   "execution_count": 30,
   "metadata": {},
   "outputs": [
    {
     "name": "stdout",
     "output_type": "stream",
     "text": [
      "[2, 4, 6, 1, 5]\n",
      "[3, 5, 7, 2, 6]\n"
     ]
    }
   ],
   "source": [
    "# How to read items in a list one by one. You don't change the items.\n",
    "li = [2,4,6,1,5]\n",
    "#for item in li:\n",
    "#    print item\n",
    "for item in li:\n",
    "    item= item +1\n",
    "print(li)\n",
    "# You read items one by one, and you want to change the item:\n",
    "for i in range(len(li)):\n",
    "    li[i] +=1\n",
    "print(li)"
   ]
  },
  {
   "cell_type": "markdown",
   "metadata": {},
   "source": [
    "## Print "
   ]
  },
  {
   "cell_type": "code",
   "execution_count": 31,
   "metadata": {},
   "outputs": [
    {
     "name": "stdout",
     "output_type": "stream",
     "text": [
      "Hello SO!\n",
      "HelloSO!\n",
      "3 little pigs come out or I'll huff and puff and blow down\n"
     ]
    }
   ],
   "source": [
    "# “,” linking two strings – a space between them\n",
    "print(\"Hello\",\"SO!\")\n",
    "# “+” means we want to do a string concatenation\n",
    "print(\"Hello\" + \"SO!\")\n",
    "# We can also use % operator.\n",
    "print(\"%d little pigs come out or I'll %s and %s and %s\" % (3, 'huff', 'puff', 'blow down'))"
   ]
  },
  {
   "cell_type": "markdown",
   "metadata": {},
   "source": [
    "## How to read a file"
   ]
  },
  {
   "cell_type": "code",
   "execution_count": 32,
   "metadata": {},
   "outputs": [
    {
     "name": "stdout",
     "output_type": "stream",
     "text": [
      "What kind of people pursue MIS?\n",
      "\n",
      "There are a lot of different profiles, but there are some traits we've found make great MIS professionals. Do these describe you?  If so, then our  MIS programs are for you!\n",
      "\n",
      "Are good problem solvers\n",
      "\n",
      "Like to work with people \n",
      "\n",
      "Can think strategically about technology \n",
      "\n",
      "Like responsibility for developing and then implementing their ideas \n",
      "\n",
      "Can bridge both technology and business \n",
      "\n",
      "Can see both details and the big picture \n",
      "\n",
      "Are excellent communicators \n",
      "\n",
      "Can manage time and resources well\n",
      "\n",
      "['What kind of people pursue MIS?\\n', \"There are a lot of different profiles, but there are some traits we've found make great MIS professionals. Do these describe you?  If so, then our  MIS programs are for you!\\n\", 'Are good problem solvers\\n', 'Like to work with people \\n', 'Can think strategically about technology \\n', 'Like responsibility for developing and then implementing their ideas \\n', 'Can bridge both technology and business \\n', 'Can see both details and the big picture \\n', 'Are excellent communicators \\n', 'Can manage time and resources well\\n']\n",
      "['What kind of people pursue MIS?', \"There are a lot of different profiles, but there are some traits we've found make great MIS professionals. Do these describe you?  If so, then our  MIS programs are for you!\", 'Are good problem solvers', 'Like to work with people', 'Can think strategically about technology', 'Like responsibility for developing and then implementing their ideas', 'Can bridge both technology and business', 'Can see both details and the big picture', 'Are excellent communicators', 'Can manage time and resources well']\n"
     ]
    }
   ],
   "source": [
    "# Read file line by line \n",
    "f = open('C:/Users/jliu2188/readfiletest.txt', 'r')\n",
    "for line in f: # iterates over the lines of the file\n",
    "    print(line)\n",
    "#f.close()\n",
    "\n",
    "# Read file line by line into a list\n",
    "f.seek(0)\n",
    "content = f.readlines()\n",
    "print(content)\n",
    "content = list(map(str.rstrip, content))\n",
    "print(content)\n",
    "f.close()"
   ]
  },
  {
   "cell_type": "markdown",
   "metadata": {},
   "source": [
    "## How to write to a file"
   ]
  },
  {
   "cell_type": "code",
   "execution_count": 33,
   "metadata": {},
   "outputs": [],
   "source": [
    "f = open('C:\\\\Users\\\\jliu2188\\\\readfiletest2.txt', 'w')\n",
    "thelist = [1,2,'this is infs772',4]\n",
    "for item in thelist:\n",
    "    f.write(\"%s\\n\" % item)"
   ]
  },
  {
   "cell_type": "markdown",
   "metadata": {},
   "source": [
    "## Functions\n",
    "* A Function is a set of instructions that is used to perform a single related operation\n",
    "* Python has many built-in functions like print(), file(), input(), int(), len(), etc. but you can also create your own functions\n",
    "* User-defined Functions\n",
    "\n",
    "Syntax:\n",
    "\n",
    "def functionname(parameter1, parameter2,…,parameterN):\n",
    "\n",
    "    Statements…\n",
    "\n",
    "    return[expression]"
   ]
  },
  {
   "cell_type": "markdown",
   "metadata": {},
   "source": [
    "### default parameter values"
   ]
  },
  {
   "cell_type": "code",
   "execution_count": 34,
   "metadata": {},
   "outputs": [
    {
     "name": "stdout",
     "output_type": "stream",
     "text": [
      "[12]\n",
      "[12, 42]\n",
      "[12]\n",
      "[42]\n"
     ]
    }
   ],
   "source": [
    "def append_to(element, to=[]):    # wrong, why? you are doing pass-by-reference \n",
    "    to.append(element) \n",
    "    return to\n",
    "\n",
    "my_list = append_to(12) \n",
    "print(my_list)\n",
    "my_other_list = append_to(42)\n",
    "print(my_other_list)\n",
    "\n",
    "#Right code:\n",
    "def append_to(element, to=None): \n",
    "    if to is None: \n",
    "        to = [] \n",
    "    to.append(element)\n",
    "    return to\n",
    "my_list = append_to(12) \n",
    "print(my_list) \n",
    "my_other_list = append_to(42)\n",
    "print(my_other_list)"
   ]
  },
  {
   "cell_type": "code",
   "execution_count": 35,
   "metadata": {},
   "outputs": [
    {
     "ename": "SyntaxError",
     "evalue": "non-default argument follows default argument (<ipython-input-35-078ceac86073>, line 3)",
     "output_type": "error",
     "traceback": [
      "\u001b[1;36m  File \u001b[1;32m\"<ipython-input-35-078ceac86073>\"\u001b[1;36m, line \u001b[1;32m3\u001b[0m\n\u001b[1;33m    def a_rich_function(a, b, d=None, c, e=0): # error. Parameters with default values must be put to the end of the parameter list\u001b[0m\n\u001b[1;37m                       ^\u001b[0m\n\u001b[1;31mSyntaxError\u001b[0m\u001b[1;31m:\u001b[0m non-default argument follows default argument\n"
     ]
    }
   ],
   "source": [
    "def a_rich_function(a, b, c, d=None, e=0): # OK\n",
    "    pass\n",
    "def a_rich_function(a, b, d=None, c, e=0): # error. Parameters with default values must be put to the end of the parameter list\n",
    "    pass"
   ]
  },
  {
   "cell_type": "markdown",
   "metadata": {},
   "source": [
    "### How to use global variables "
   ]
  },
  {
   "cell_type": "code",
   "execution_count": 36,
   "metadata": {},
   "outputs": [
    {
     "name": "stdout",
     "output_type": "stream",
     "text": [
      "1\n",
      "1\n"
     ]
    }
   ],
   "source": [
    "globvar = 0  # global variable is a variable define outside a method\n",
    "def set_globvar_to_one(): \n",
    "    global globvar \n",
    "    globvar = 1 \n",
    "def set_globvar_to_zero(): \n",
    "    globvar = 0  # error\n",
    "\n",
    "set_globvar_to_one() \n",
    "print (globvar)\n",
    "set_globvar_to_zero() \n",
    "print (globvar)\n"
   ]
  },
  {
   "cell_type": "markdown",
   "metadata": {},
   "source": [
    "## lambda functions\n",
    "* The lambda operator or lambda function is a way to create small anonymous functions, i.e. functions without a name. \n",
    "* Lambda functions are mainly used in combination with the functions filter(), map() and reduce()."
   ]
  },
  {
   "cell_type": "code",
   "execution_count": 37,
   "metadata": {},
   "outputs": [
    {
     "name": "stdout",
     "output_type": "stream",
     "text": [
      "2\n",
      "6\n",
      "6\n",
      "6\n",
      "5\n"
     ]
    }
   ],
   "source": [
    "add1 = lambda x, y : x + y \n",
    "print (add1(1,1))\n",
    "def f(x): \n",
    "    return x*2 \n",
    "print (f(3))\n",
    "g = lambda x: x*2 \n",
    "print (g(3))\n",
    "# in the code above f and g are equivanlent\n",
    "print ((lambda x: x*2)(3))\n",
    "k = lambda a,b: a if (a > b) else b\n",
    "print (k(4,5))"
   ]
  },
  {
   "cell_type": "markdown",
   "metadata": {},
   "source": [
    "## map(func, seq) - Applies func to each element in seq. Returns a list in python 2 and an iteratable map object in python 3."
   ]
  },
  {
   "cell_type": "code",
   "execution_count": 38,
   "metadata": {},
   "outputs": [
    {
     "name": "stdout",
     "output_type": "stream",
     "text": [
      "[97.7, 98.60000000000001, 99.5, 102.2]\n",
      "[36.5, 37.00000000000001, 37.5, 39.0]\n",
      "(36.5, 37, 37.5, 39)\n",
      "[18, 14, 14, 14]\n"
     ]
    }
   ],
   "source": [
    "def fahrenheit(T): \n",
    "        return ((float(9)/5)*T + 32) \n",
    "def celsius(T): \n",
    "        return (float(5)/9)*(T-32) \n",
    "temp = (36.5, 37, 37.5, 39)\n",
    "F = list(map(fahrenheit, temp))\n",
    "print(F)\n",
    "C = list(map(celsius, F))\n",
    "print(C)\n",
    "print(temp)\n",
    "a = [1,2,3,4] \n",
    "b = [17,12,11,10] \n",
    "map(lambda x,y:x+y, a,b)\n",
    "print(list(map(lambda x,y:x+y, a,b)))"
   ]
  },
  {
   "cell_type": "markdown",
   "metadata": {},
   "source": [
    "## filter(function, seq) \n",
    "* offers an elegant way to filter out all the elements of a sequence, for which the function returns True. \n",
    "* returns an iteratable object in python 3 and a list in python 2"
   ]
  },
  {
   "cell_type": "code",
   "execution_count": 7,
   "metadata": {},
   "outputs": [
    {
     "name": "stdout",
     "output_type": "stream",
     "text": [
      "[0, 2, 8, 34]\n"
     ]
    }
   ],
   "source": [
    "fib = [0,1,1,2,3,5,8,13,21,34,55]\n",
    "result = filter(lambda x: x % 2==0, fib) \n",
    "print(list(result))"
   ]
  },
  {
   "cell_type": "markdown",
   "metadata": {},
   "source": [
    "## reduce(func, seq) \n",
    "* continually applies the function func() to the sequence seq. \n",
    "* returns a single value. "
   ]
  },
  {
   "cell_type": "code",
   "execution_count": 39,
   "metadata": {},
   "outputs": [
    {
     "name": "stdout",
     "output_type": "stream",
     "text": [
      "282282\n"
     ]
    }
   ],
   "source": [
    "from functools import reduce # not needed in python 2\n",
    "result = reduce(lambda x,y: x*y, [47,11,42,13])\n",
    "print(result)"
   ]
  },
  {
   "cell_type": "markdown",
   "metadata": {},
   "source": [
    "## Modules\n",
    "* When a Python program starts it only has access to a basic functions and classes. (“int”, “dict”, “len”, “sum”, “range”, ...)\n",
    "* “Modules” contain additional functionality.\n",
    "* Use “import” to tell Python to load a module.\n",
    "\n",
    "import math\n",
    "\n",
    "import nltk"
   ]
  },
  {
   "cell_type": "code",
   "execution_count": 40,
   "metadata": {},
   "outputs": [
    {
     "name": "stdout",
     "output_type": "stream",
     "text": [
      "1.3862943611198906\n",
      "1.3862943611198906\n",
      "1.3862943611198906\n"
     ]
    }
   ],
   "source": [
    "import math\n",
    "print(math.log(4))\n",
    "import math as m\n",
    "print(m.log(4))\n",
    "from math import log\n",
    "print(log(4))"
   ]
  },
  {
   "cell_type": "markdown",
   "metadata": {},
   "source": [
    "## os and sys modules"
   ]
  },
  {
   "cell_type": "code",
   "execution_count": 41,
   "metadata": {},
   "outputs": [
    {
     "name": "stdout",
     "output_type": "stream",
     "text": [
      "C:\\Users\\jliu2188\\INFS770_SP20\n",
      "['.ipynb_checkpoints', 'numpy_tutorial', 'numpy_tutorial.zip']\n"
     ]
    }
   ],
   "source": [
    "import os\n",
    "print(os.getcwd())\n",
    "print(os.listdir(os.getcwd())[0:3])"
   ]
  },
  {
   "cell_type": "markdown",
   "metadata": {},
   "source": [
    "* Other functions in os module : rename(), remove(), mkdir(), rmdir(), chdir()\n",
    "* in sys module, you often use sys.exit(0) to stop your program to debug"
   ]
  }
 ],
 "metadata": {
  "kernelspec": {
   "display_name": "Python 3",
   "language": "python",
   "name": "python3"
  },
  "language_info": {
   "codemirror_mode": {
    "name": "ipython",
    "version": 3
   },
   "file_extension": ".py",
   "mimetype": "text/x-python",
   "name": "python",
   "nbconvert_exporter": "python",
   "pygments_lexer": "ipython3",
   "version": "3.7.7"
  }
 },
 "nbformat": 4,
 "nbformat_minor": 2
}
