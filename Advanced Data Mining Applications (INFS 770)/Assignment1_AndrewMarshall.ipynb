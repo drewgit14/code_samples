{
 "cells": [
  {
   "cell_type": "markdown",
   "metadata": {},
   "source": [
    "Andrew Marshall\n",
    "INFS 770\n",
    "Assignment 1\n",
    "2/10/2019\n"
   ]
  },
  {
   "cell_type": "code",
   "execution_count": null,
   "metadata": {},
   "outputs": [],
   "source": [
    "# Built-in/Generic Imports\n",
    "import os\n",
    "import sys\n",
    "#\n",
    "\n",
    "# Libraries\n",
    "import pandas as pd\n",
    "import numpy as np\n",
    "#import matplotlib.pyplot as plt\n",
    "#import mglearn.plots\n",
    "#\n",
    "\n",
    "# Modules\n",
    "from sklearn import preprocessing\n",
    "from sklearn.linear_model import LogisticRegression\n",
    "from sklearn import metrics\n",
    "from sklearn.model_selection import train_test_split\n",
    "from sklearn.svm import LinearSVC\n",
    "from sklearn.svm import SVC\n",
    "from sklearn.metrics import classification_report,confusion_matrix\n",
    "from sklearn.metrics import accuracy_score\n",
    "#\n",
    "\n",
    "#Suppress scientific notation\n",
    "np.set_printoptions(suppress=True)"
   ]
  },
  {
   "cell_type": "code",
   "execution_count": null,
   "metadata": {},
   "outputs": [],
   "source": [
    "# define column names\n",
    "col_names = [\n",
    "      \"fLength\",  # major axis of ellipse [mm]\n",
    "      \"fWidth\",   # minor axis of ellipse [mm] \n",
    "      \"fSize\",   # 10-log of sum of content of all pixels [in #phot]\"\n",
    "      \"fConc\",    # ratio of sum of two highest pixels over fSize  [ratio]\n",
    "      \"fConc1\",   # ratio of highest pixel over fSize  [ratio]\n",
    "      \"fAsym\",    # distance from highest pixel to center, projected onto major axis [mm]\"\n",
    "      \"fM3Long\",  # 3rd root of third moment along major axis  [mm] \n",
    "      \"fM3Trans\", # 3rd root of third moment along minor axis  [mm]\n",
    "      \"fAlpha\",   # angle of major axis with vector to origin [deg]\n",
    "      \"fDist\",    # distance from origin to center of ellipse [mm]      \n",
    "      \"class\"    # g,h         # gamma (signal), hadron (background)\n",
    "]"
   ]
  },
  {
   "cell_type": "code",
   "execution_count": null,
   "metadata": {},
   "outputs": [],
   "source": [
    "#import file for dataset\n",
    "magic04file = 'magic04.data'\n",
    "magic04data = pd.read_csv(magic04file,sep=\",\",names=col_names)\n",
    "#magic04names = pd.read_csv('magic04.names')\n"
   ]
  },
  {
   "cell_type": "code",
   "execution_count": null,
   "metadata": {},
   "outputs": [],
   "source": [
    "magic04data2 = magic04data.copy()"
   ]
  },
  {
   "cell_type": "code",
   "execution_count": null,
   "metadata": {},
   "outputs": [],
   "source": [
    "for var in col_names:\n",
    "    if magic04data2[var].dtype == object:\n",
    "        magic04data2 = pd.get_dummies(magic04data2, prefix=var, columns=[var], drop_first=True)\n",
    "#print(magic04data2.dtypes)\n",
    "#print(magic04data2.head(5))"
   ]
  },
  {
   "cell_type": "markdown",
   "metadata": {},
   "source": [
    "1."
   ]
  },
  {
   "cell_type": "code",
   "execution_count": null,
   "metadata": {},
   "outputs": [],
   "source": [
    "# The relevant dataset is imported and split into its training and test sets in this cell.\n",
    "#from sklearn.model_selection import train_test_split\n",
    "attributes = [col for col in magic04data2.columns if col != \"class_h\"]\n",
    "train_x2, test_x2, train_y2, test_y2 = train_test_split(magic04data2[attributes], magic04data2[\"class_h\"], test_size=0.35, random_state=123)"
   ]
  },
  {
   "cell_type": "markdown",
   "metadata": {},
   "source": [
    "2."
   ]
  },
  {
   "cell_type": "code",
   "execution_count": null,
   "metadata": {},
   "outputs": [],
   "source": [
    "#Logistic Regression\n",
    "logreg = LogisticRegression(max_iter=1000,solver=\"lbfgs\")\n",
    "logreg.fit(train_x2, train_y2)"
   ]
  },
  {
   "cell_type": "code",
   "execution_count": null,
   "metadata": {},
   "outputs": [],
   "source": [
    "pred_y = logreg.predict(test_x2)\n",
    "print('Accuracy of logistic regression classifier: {:.2f}'.format(logreg.score(test_x2, test_y2)))"
   ]
  },
  {
   "cell_type": "markdown",
   "metadata": {},
   "source": [
    "3."
   ]
  },
  {
   "cell_type": "code",
   "execution_count": null,
   "metadata": {},
   "outputs": [],
   "source": [
    "#SVC\n",
    "algorithm = SVC(gamma='auto')\n",
    "print(algorithm)\n",
    "# train model\n",
    "model = algorithm.fit(train_x2, train_y2)\n",
    "# make prediction\n",
    "pred_y = model.predict(test_x2)\n",
    "# print evaluation measures\n",
    "for line in classification_report(test_y2, pred_y).split(\"\\n\"):\n",
    "    print(line)"
   ]
  },
  {
   "cell_type": "code",
   "execution_count": null,
   "metadata": {},
   "outputs": [],
   "source": [
    "# get the accuracy\n",
    "print('Accuracy of SVC: {:.2f}'.format(accuracy_score(test_y2, pred_y)))"
   ]
  },
  {
   "cell_type": "code",
   "execution_count": null,
   "metadata": {},
   "outputs": [],
   "source": []
  }
 ],
 "metadata": {
  "kernelspec": {
   "display_name": "Python 3",
   "language": "python",
   "name": "python3"
  },
  "language_info": {
   "codemirror_mode": {
    "name": "ipython",
    "version": 3
   },
   "file_extension": ".py",
   "mimetype": "text/x-python",
   "name": "python",
   "nbconvert_exporter": "python",
   "pygments_lexer": "ipython3",
   "version": "3.7.7"
  }
 },
 "nbformat": 4,
 "nbformat_minor": 2
}
