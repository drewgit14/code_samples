{
 "cells": [
  {
   "cell_type": "markdown",
   "metadata": {},
   "source": [
    "# INFS 774 Summer 2020 Assignment 1\n",
    "## Due 6/4/2020 + one-week grace period\n",
    "## In this assignment, you need to finish 3 different tasks. These tasks are not related. I provide code skeleton for these tasks. Wherever you see \"Your code here\", you need to add your code. \n",
    "## Please run your code and submit your notebook with the outputs to assignment 1 dropbox."
   ]
  },
  {
   "cell_type": "code",
   "execution_count": 1,
   "metadata": {},
   "outputs": [],
   "source": [
    "__author__ = 'Andrew Marshall' #please type your name"
   ]
  },
  {
   "cell_type": "markdown",
   "metadata": {},
   "source": [
    "## Task1: Implement the function list_ele_idx(li). \n",
    "The argument of the function is a list, li.The return value of the function should be a list of tuples. Each tuple includes an element in the list li and the index of the element. For example, if you have a list of two string [\"DSU\",\"MSA\"], this function should return a list of tuples [(\"DSU\",0), (\"MSA\",1)]."
   ]
  },
  {
   "cell_type": "code",
   "execution_count": 2,
   "metadata": {},
   "outputs": [],
   "source": [
    "def list_ele_idx(li):\n",
    "    index = 0 # index\n",
    "    lis = [] # initialze a list; you need to add a tuple that includes an element and its index to this list\n",
    "    # Your code here. You can use a \"for\" loop to read items in li and add (item,index)tuples to the list lis\n",
    "    lis = [(li[index],index) for index in range(len(li))] \n",
    "    return lis # return a list of tuples\n"
   ]
  },
  {
   "cell_type": "code",
   "execution_count": 3,
   "metadata": {},
   "outputs": [
    {
     "name": "stdout",
     "output_type": "stream",
     "text": [
      "---------------- task 1 test cases----------------\n",
      "[(5, 0), (3, 1), (2, 2), (6, 3)]\n"
     ]
    }
   ],
   "source": [
    "# I have written a test case for task 1\n",
    "print('---------------- task 1 test cases----------------')\n",
    "print(list_ele_idx([5,3,2,6])) # you code should output: [(5, 0), (3, 1), (2, 2), (6, 3)]"
   ]
  },
  {
   "cell_type": "markdown",
   "metadata": {},
   "source": [
    "## Task 2: Implement the function reverse_key_value(dict1)\n",
    "This function takes a dictionary as its argument. A example of such dictionary can be:\n",
    "\n",
    "{“John”: “A”, “Sarah”: “A”, “Karen”: “B”, “Ken”: “C”}\n",
    "\n",
    "This function needs to reverse each key/value pair in dict1 and returns a dictionary dict2 that includes the reversed key/value pairs:\n",
    "\n",
    "{“A”:[“John”, “Sarah”], “B”:[“Karen”], “C”:[“Ken”]}\n",
    "\n",
    "In Python, a dictionary includes key-value pairs. The keys must be unique, but we can can have duplicate values. In the example above, two students “John” and “Sarah” both got “A”. Hence, when you reverse the key/value pairs, the keys in the new dictinary dict2 include the grades (\"A\", \"B\", and \"C\"), and the values need to be lists. For example, the key “A” corresponds to a list that includes two students “John” and “Sarah” because both John and Sarah got an A, while the key \"B\" corrsponds to a list with one element \"Karen\". You can assume that the values in the dictionary are hashable, i.e., they can be used as keys in the reversed dictionary dict2. As we discussed in the python tutoral, numbers, strings and tuples are hashable, while lists, dictionaries, and objects are un-hashable since they are mutable.   "
   ]
  },
  {
   "cell_type": "code",
   "execution_count": 4,
   "metadata": {},
   "outputs": [],
   "source": [
    "def reverse_key_value(dict1):\n",
    "    dict2 = {} # initialize an empty list.\n",
    "    # Your code here - use for k,v in dict1.items() to read the key values pair and then reverse them and add to dict2\n",
    "    for k, v in dict1.items():\n",
    "        dict2.setdefault(v, list()).append(k)\n",
    "    return dict2"
   ]
  },
  {
   "cell_type": "code",
   "execution_count": 5,
   "metadata": {},
   "outputs": [
    {
     "name": "stdout",
     "output_type": "stream",
     "text": [
      "---------------- task 2 test cases----------------\n",
      "{'A': ['John', 'Sarah'], 'B': ['Karen'], 'C': ['Ken']}\n"
     ]
    }
   ],
   "source": [
    "# Test case for task 2\n",
    "print('---------------- task 2 test cases----------------')\n",
    "print(reverse_key_value({\"John\": \"A\", \"Sarah\": \"A\", \"Karen\": \"B\", \"Ken\": \"C\"}))# should print {'A': ['Sarah', 'John'], 'C': ['Ken'], 'B': ['Karen']}"
   ]
  },
  {
   "cell_type": "markdown",
   "metadata": {},
   "source": [
    "## Task 3 (Word Count). \n",
    "Please first download wordcount_data.zip from assignment 1 folder on D2L and unzip it to a folder called “wordcount_data” and add this folder to your ipython notebook working directory. In this folder, you should see three text files news1.txt, news2.txt and news3.txt. For each file, we want to find the words in the file and then count how many times each word appears in the file. Then we combine the results and count how many times each word appears in the folder/directory. For instance, the word “jpmorgan” appears 3 times in news1.txt and 3 times in news2.txt and does not appear in news3.txt; therefore, this word “jpmorgan” appear 3+3+0 =6 times in the folder. We will do this step by step."
   ]
  },
  {
   "cell_type": "markdown",
   "metadata": {},
   "source": [
    "### Task 3.1. Download NLTK, python's naturual language processing package "
   ]
  },
  {
   "cell_type": "code",
   "execution_count": 6,
   "metadata": {},
   "outputs": [
    {
     "name": "stderr",
     "output_type": "stream",
     "text": [
      "[nltk_data] Downloading package punkt to\n",
      "[nltk_data]     C:\\Users\\drewm\\AppData\\Roaming\\nltk_data...\n",
      "[nltk_data]   Package punkt is already up-to-date!\n"
     ]
    },
    {
     "data": {
      "text/plain": [
       "True"
      ]
     },
     "execution_count": 6,
     "metadata": {},
     "output_type": "execute_result"
    }
   ],
   "source": [
    "import nltk\n",
    "nltk.download('punkt') # when you run this line of code for the first time, the nltk package will be downloaded. You will see\n",
    "                       # a pop-up window and click download. "
   ]
  },
  {
   "cell_type": "code",
   "execution_count": 7,
   "metadata": {},
   "outputs": [],
   "source": [
    "# I have implemented this function tokensize. It takes a string as a input and splits this string into a list of words (i.e. tokens).\n",
    "# please run this function\n",
    "def tokenize(s):\n",
    "    tokens = [] # initialize the output list\n",
    "    tokens = nltk.word_tokenize(s)\n",
    "    import string  \n",
    "    tokens1 = []\n",
    "    for token in tokens:\n",
    "        if token not in string.punctuation: # remove tokens that are punctuations\n",
    "            tokens1.append(token)\n",
    "    return tokens1 # return a list of tokens"
   ]
  },
  {
   "cell_type": "markdown",
   "metadata": {},
   "source": [
    "### Task 3.2. Implement the function, count_list(li)\n",
    "\n",
    "This method counts how many times each element appears in the list. It outputs a dictionary. Each key-value pair show a list element and its number of occurrences."
   ]
  },
  {
   "cell_type": "code",
   "execution_count": 8,
   "metadata": {},
   "outputs": [],
   "source": [
    "def count_list(li):\n",
    "    dc = {}\n",
    "    # Your code here to do wordcount for each element in the list\n",
    "    dc = dict((x,li.count(x)) for x in set(li))\n",
    "    return dc"
   ]
  },
  {
   "cell_type": "code",
   "execution_count": 9,
   "metadata": {},
   "outputs": [
    {
     "name": "stdout",
     "output_type": "stream",
     "text": [
      "------ test cases for the method count_list() -------\n",
      "{1: 2, 2: 1, 3: 3}\n",
      "{'b': 3, ' ': 2, 'a': 1}\n"
     ]
    }
   ],
   "source": [
    "# test case for task 3.2\n",
    "print(\"------ test cases for the method count_list() -------\")\n",
    "print(count_list([1, 3, 2, 1, 3, 3])) #output: {1: 2, 2: 1, 3: 3}\n",
    "print(count_list(['a', 'b', ' ', ' ', 'b', 'b'])) #output: {'a': 1, 'b': 3, ' ': 2} - The order of the keys does not matter'''"
   ]
  },
  {
   "cell_type": "markdown",
   "metadata": {},
   "source": [
    "### Task 3.3. Implement the function wordcount_file(file_path)\n",
    "You need to implement the function wordcount_file. This function take a file with its path as the argument and outputs a dictitonary. Each key in the dictionary is a unique word, and its value is the count of the word in the file. Within this function, you need to write code to lowercase all words read from the file."
   ]
  },
  {
   "cell_type": "code",
   "execution_count": 10,
   "metadata": {},
   "outputs": [],
   "source": [
    "def wordcount_file(file_path):\n",
    "    s = \"\"\n",
    "    words = [] \n",
    "    dc = {}\n",
    "    f = open(file_path, 'r')\n",
    "    s = f.read() # this read function will read each file as a string\n",
    "    words = tokenize(s) # call the tokenize method defined previously and split the string into words\n",
    "    # Your code here. The list \"words\" may contain words in both uppercase and lowercase. Your code here to lowercase each word in the list. \n",
    "    for token in words:\n",
    "        token = token.lower()\n",
    "    # this plural check is dangerous, if trying to find a word that ends with an 's'\n",
    "    token = token[:-1] if token[-1] == 's' else token\n",
    "    if token == words:\n",
    "     c += 1\n",
    "      \n",
    "    dc = count_list(words) # Now, the variable words is a list that includes lowercase words. You call the count_list function you implemented previous to obtain a dictionary\n",
    "    return dc"
   ]
  },
  {
   "cell_type": "code",
   "execution_count": 11,
   "metadata": {},
   "outputs": [
    {
     "name": "stdout",
     "output_type": "stream",
     "text": [
      "{'pretax': 1, 'financial': 1, 'shares': 1, 'annual': 1, 'recent': 1, 'drop': 1, 'basis': 2, 'JPMorgan': 3, 'midmorning': 1, 'absorbed': 1, 'crisis': 1, 'For': 1, '1.1': 1, 'ever': 1, 'company': 2, 'the': 13, '22.5': 1, 'The': 4, 'by': 6, 'billion': 7, 'Reuters': 1, 'into': 1, 'surveyed': 1, 'was': 2, 'an': 2, '3': 1, 'big': 2, 'to': 3, 'hurt': 1, 'are': 1, 'On': 1, 'legal': 2, 'costs': 1, 'said': 1, '4': 1, 'a': 9, 'its': 1, 'quarterly': 1, 'so-called': 1, '2014': 1, 'million': 1, 'percent': 4, 'short': 1, 'from': 2, 'trading': 1, 'banks': 1, 'period': 1, 'dropped': 1, 'sluggish': 1, 'profit': 4, '1.19': 1, 'wake': 1, 'foreign': 1, 'quarter': 2, 'increase': 1, '7': 1, 'whole': 1, 'currency': 1, 'analysts': 2, '21.8': 1, 'prepared': 1, 'Chase': 1, 'fourth': 2, '900': 1, '1.31': 1, 'bank': 4, '4.9': 1, 'during': 1, 'earnings': 1, '23.55': 1, '2013': 1, 'highest': 1, 'Wednesday': 1, '23.6': 1, 's': 2, '21': 1, 'expenses': 1, 'or': 3, 'most': 1, 'year': 1, 'below': 1, 'earlier': 1, 'in': 5, 'expected': 1, '5.6': 1, 'These': 1, 'anticipated': 1, 'as': 2, 'at': 1, 'markets': 1, 'revenue': 2, 'on': 2, '’': 2, 'reported': 2, 'and': 1, 'results': 1, 'were': 1, 'fell': 2, 'settle': 1, 'slightly': 1, 'for': 1, 'being': 1, 'unexpected': 1, 'Thomson': 1, 'down': 1, 'latest': 1, 'share': 3, 'managed': 1, 'new': 1, 'manipulation': 1, '1.30': 1, 'investigation': 1, 'Net': 1, 'of': 5}\n"
     ]
    },
    {
     "data": {
      "text/plain": [
       "\"\\n{'jpmorgan': 3,\\n 'chase': 1,\\n 'on': 3,\\n 'wednesday': 1,\\n 'reported': 2,\\n 'an': 2,\\n 'unexpected': 1,\\n 'drop': 1,\\n 'in': 5,\\n 'profit': 4,\\n 'during': 1,\\n 'a': 9,\\n 'sluggish': 1,\\n 'fourth': 2,\\n 'quarter': 2,\\n 'the': 17,\\n 'bank': 4,\\n 'said': 1,\\n 'its': 1,\\n 'earnings': 1,\\n 'fell': 2,\\n '7': 1,\\n 'percent': 4,\\n 'to': 3,\\n '4.9': 1,\\n 'billion': 7,\\n 'or': 3,\\n '1.19': 1,\\n 'share': 3,\\n 'from': 2,\\n '5.6': 1,\\n '1.30': 1,\\n 'period': 1,\\n 'year': 1,\\n 'earlier': 1,\\n 'most': 1,\\n 'recent': 1,\\n 'results': 1,\\n 'short': 1,\\n 'of': 5,\\n '1.31': 1,\\n 'expected': 1,\\n 'by': 6,\\n 'analysts': 2,\\n 'surveyed': 1,\\n 'thomson': 1,\\n 'reuters': 1,\\n 'net': 1,\\n 'revenue': 2,\\n 'at': 1,\\n 'dropped': 1,\\n '3': 1,\\n '22.5': 1,\\n '2013': 1,\\n 'so-called': 1,\\n 'managed': 1,\\n 'basis': 2,\\n 'was': 2,\\n '23.55': 1,\\n 'slightly': 1,\\n 'below': 1,\\n '23.6': 1,\\n 'anticipated': 1,\\n '’': 2,\\n 's': 2,\\n 'shares': 1,\\n 'were': 1,\\n 'down': 1,\\n '4': 1,\\n 'midmorning': 1,\\n 'trading': 1,\\n 'for': 2,\\n '2014': 1,\\n 'as': 2,\\n 'whole': 1,\\n '21.8': 1,\\n '21': 1,\\n 'increase': 1,\\n 'and': 1,\\n 'highest': 1,\\n 'ever': 1,\\n 'annual': 1,\\n 'company': 2,\\n 'quarterly': 1,\\n 'hurt': 1,\\n '900': 1,\\n 'million': 1,\\n 'new': 1,\\n 'legal': 2,\\n 'expenses': 1,\\n '1.1': 1,\\n 'pretax': 1,\\n 'prepared': 1,\\n 'settle': 1,\\n 'investigation': 1,\\n 'into': 1,\\n 'manipulation': 1,\\n 'foreign': 1,\\n 'currency': 1,\\n 'markets': 1,\\n 'big': 2,\\n 'banks': 1,\\n 'these': 1,\\n 'are': 1,\\n 'latest': 1,\\n 'costs': 1,\\n 'being': 1,\\n 'absorbed': 1,\\n 'wake': 1,\\n 'financial': 1,\\n 'crisis': 1}\\n\""
      ]
     },
     "execution_count": 11,
     "metadata": {},
     "output_type": "execute_result"
    }
   ],
   "source": [
    "# test case for task 3.3.\n",
    "print(wordcount_file(\"wordcount_data/news1.txt\"))\n",
    "# your output should be - the order of the keys does not matter:\n",
    "\"\"\"\n",
    "{'jpmorgan': 3,\n",
    " 'chase': 1,\n",
    " 'on': 3,\n",
    " 'wednesday': 1,\n",
    " 'reported': 2,\n",
    " 'an': 2,\n",
    " 'unexpected': 1,\n",
    " 'drop': 1,\n",
    " 'in': 5,\n",
    " 'profit': 4,\n",
    " 'during': 1,\n",
    " 'a': 9,\n",
    " 'sluggish': 1,\n",
    " 'fourth': 2,\n",
    " 'quarter': 2,\n",
    " 'the': 17,\n",
    " 'bank': 4,\n",
    " 'said': 1,\n",
    " 'its': 1,\n",
    " 'earnings': 1,\n",
    " 'fell': 2,\n",
    " '7': 1,\n",
    " 'percent': 4,\n",
    " 'to': 3,\n",
    " '4.9': 1,\n",
    " 'billion': 7,\n",
    " 'or': 3,\n",
    " '1.19': 1,\n",
    " 'share': 3,\n",
    " 'from': 2,\n",
    " '5.6': 1,\n",
    " '1.30': 1,\n",
    " 'period': 1,\n",
    " 'year': 1,\n",
    " 'earlier': 1,\n",
    " 'most': 1,\n",
    " 'recent': 1,\n",
    " 'results': 1,\n",
    " 'short': 1,\n",
    " 'of': 5,\n",
    " '1.31': 1,\n",
    " 'expected': 1,\n",
    " 'by': 6,\n",
    " 'analysts': 2,\n",
    " 'surveyed': 1,\n",
    " 'thomson': 1,\n",
    " 'reuters': 1,\n",
    " 'net': 1,\n",
    " 'revenue': 2,\n",
    " 'at': 1,\n",
    " 'dropped': 1,\n",
    " '3': 1,\n",
    " '22.5': 1,\n",
    " '2013': 1,\n",
    " 'so-called': 1,\n",
    " 'managed': 1,\n",
    " 'basis': 2,\n",
    " 'was': 2,\n",
    " '23.55': 1,\n",
    " 'slightly': 1,\n",
    " 'below': 1,\n",
    " '23.6': 1,\n",
    " 'anticipated': 1,\n",
    " '’': 2,\n",
    " 's': 2,\n",
    " 'shares': 1,\n",
    " 'were': 1,\n",
    " 'down': 1,\n",
    " '4': 1,\n",
    " 'midmorning': 1,\n",
    " 'trading': 1,\n",
    " 'for': 2,\n",
    " '2014': 1,\n",
    " 'as': 2,\n",
    " 'whole': 1,\n",
    " '21.8': 1,\n",
    " '21': 1,\n",
    " 'increase': 1,\n",
    " 'and': 1,\n",
    " 'highest': 1,\n",
    " 'ever': 1,\n",
    " 'annual': 1,\n",
    " 'company': 2,\n",
    " 'quarterly': 1,\n",
    " 'hurt': 1,\n",
    " '900': 1,\n",
    " 'million': 1,\n",
    " 'new': 1,\n",
    " 'legal': 2,\n",
    " 'expenses': 1,\n",
    " '1.1': 1,\n",
    " 'pretax': 1,\n",
    " 'prepared': 1,\n",
    " 'settle': 1,\n",
    " 'investigation': 1,\n",
    " 'into': 1,\n",
    " 'manipulation': 1,\n",
    " 'foreign': 1,\n",
    " 'currency': 1,\n",
    " 'markets': 1,\n",
    " 'big': 2,\n",
    " 'banks': 1,\n",
    " 'these': 1,\n",
    " 'are': 1,\n",
    " 'latest': 1,\n",
    " 'costs': 1,\n",
    " 'being': 1,\n",
    " 'absorbed': 1,\n",
    " 'wake': 1,\n",
    " 'financial': 1,\n",
    " 'crisis': 1}\n",
    "\"\"\""
   ]
  },
  {
   "cell_type": "markdown",
   "metadata": {},
   "source": [
    "### Task 3.4. Implement the function wordcount_dictionary(dictionary) "
   ]
  },
  {
   "cell_type": "code",
   "execution_count": 12,
   "metadata": {},
   "outputs": [
    {
     "name": "stdout",
     "output_type": "stream",
     "text": [
      "{1: ['pretax', 'financial', 'shares', 'annual', 'drop', 'basis', 'midmorning', 'absorbed', 'crisis', '1.1', 'ever', 'company', '22.5', 'Reuters', 'into', 'surveyed', '3', 'hurt', 'are', 'On', 'costs', 'said', '4', 'its', 'quarterly', 'so-called', '2014', 'million', 'short', 'trading', 'banks', 'period', 'dropped', 'sluggish', 'profit', '1.19', 'wake', 'foreign', 'increase', '7', 'whole', 'currency', '21.8', 'prepared', '900', '1.31', 'bank', '4.9', 'during', '23.55', '2013', 'highest', 'Wednesday', '23.6', '21', 'expenses', 'most', 'earlier', 'expected', '5.6', 'These', 'anticipated', 'markets', 'fell', 'settle', 'slightly', 'being', 'unexpected', 'Thomson', 'down', 'latest', 'managed', 'new', 'manipulation', '1.30', 'investigation', 'Net', 'firms', 'along', 'hardly', 'And', 'those', 'been', 'scrutiny', 'requirements', 'saying', 'translated', 'weighed', 'Jamie', 'conference', 'details', 'struggling', 'around', 'rivals', 'manipulating', 'forecasts', 'far', 'more', 'his', 'that', 'largely', 'Profits', 'government', 'assault', 'Still', 'During', 'foreign-exchange', 'continues', 'profitable', 'much', 'throughout', 'golden', 'show', 'used', 'reporting', 'future', 'industry', 'sure', 'CEO', 'agencies', 'come', 'boost', 'Banking', 'ago', 'Revenue', 'When', 'charges', 'expecting', 'make', 'these', 'due', 'has', 'To', 'concerns', 'various', 'There', 'responded', 'accused', 'investors', 'call', 'less', 'Analysts', 'world', 'disappointed', 'resentment', 'profits', 'reporters', 'November', 'child', 'Street', 'But', 'Wall', 'giant', 'got', 'me', '--', 'settled', 'calls', 'asked', 'he', 'kidding', 'federal', '2', 'regulations', 'front', 'skip', 'adjusting', 'predominantly', 'finalized', 'consistently', 'performance', 'allocated', '50', 'final', 'back', 'however', '650', 'Thank', 'expect', 'large', 'presenting', 'refined', 'methodology', 'additionally', 'CIB', '5', 'now', 'part', 'they', 'Moving', 'remained', 'increases', 'adjustment', 'forward-looking', 'move', 'including', 'available', 'Starting', 'peer', 'changed', 'rules', 'included', 'guidance', 'stock', 'advanced', 'loan', 'portfolio', 'add', 'your', 'firm-wide', 'remains', 'risk', 'better', 'take', 'tax', 'other', '10.1', 'ratios', 'CET1', 'straight', 'corporate', 'Turning', 'strong', 'prior', '98', 'couple', 'before', 'Included', 'continuing', 'standardized', '11', 'LOBs', 'financials', 'growth', 'elevated', 'counterparty', 'slide', 'returns', 'improved', 'cleaner', 'reflect', 'Operator', 'after', 'issuance', 'FX', 'CFO', 'statements', 'notable', 'comparability', 'Marianne', 'over', 'continue', 'Similarly', 'affects', 'everyone', '8', '2015', 'morning', 'Please', 'A', 'business', 'reflecting', 'interest', 'Excluding', 'year-on-year', 'overhead', '14', 'last', 'improve', 'reference', '13', 'NII', 'particularly', 'solid', 'important', 'refer', '5.5', 'contributed', '1.33', 'assets', '10', 'lines', 'trends', 'offset', 'no', 'site', 'not', 'supplement', 'TLAC', 'best', 'out', 'FSB', 'Company', 'runoff', 'credit', 'Web', '15', 'order', '10.5', 'proposal', 'excluding', 'despite', '5.29', '0.12', 'While', 'amount', '24', 'estimate', 'added', 'have', 'Lake', 'control', '6', 'bottom', '58.4', 'full-year', 'outlook', 'driven', '22', 'risk-weighted', 'buffers', 'periods', 'numbers', 'disclaimer', 'invest', 'Good', '5.9', 'terms', 'nor', 'regarding', 'gives', 'corresponding', 'As', 'adjusted', 'historically', 'higher'], 2: ['recent', 'For', 'The', 'by', 'big', 'from', 'analysts', 'earnings', 's', 'below', '’', 'reported', 'results', 'were', 'share', 'You', 'how', \"''\", '``', 'regulators', 'Dimon', 'capital', 'will', 'be', 'under', 'some', 'well', 'increased', 'about', 'phased', 'go', 'can', 'given', 'core', 'cost', 'each', 'also', 'contra', 'fully', 'flat', 'change', 'see', \"'re\", 'incremental', 'LOB', 'nearly', 'SLR', 'through', 'points', 'positive', '1', 'So', 'items', 'you', \"'m\", 'total', 'all', 'distributions'], 3: ['JPMorgan', 'an', 'legal', 'quarter', 'Chase', 'fourth', 'or', 'with', 'is', 'line', 'common', 'return', 'businesses', 'here', 'tangible', 'approximately', 'record', 'I', 'going'], 38: ['the'], 11: ['billion'], 6: ['was', 'a', 'as', 'our'], 16: ['to'], 4: ['percent', 'year', \"'ve\", 'ratio', 'this', \"'s\", 'equity', 'In', 'dividends'], 13: ['in'], 5: ['at', 'revenue', 'income', 'impact', 'presentation', 'which', 'EPS', 'expense', 'preferred', 'firm'], 17: ['on'], 18: ['and'], 7: ['for'], 23: ['of'], 9: ['we', 'page'], 8: ['net']}\n"
     ]
    }
   ],
   "source": [
    "import os\n",
    "def wordcount_dictionary(dictionary):\n",
    "    dc= {}\n",
    "    ### Your code here\n",
    "    # 1. you need to first look at how to find the filenames of all files in the directory: hint: look at the OS module see tutorual\n",
    "    # 2. read files in the directory one by one. You use dictionary + \"/\" + filename to get the path for reading a file \n",
    "    # 3. After you read a file, call the \"wordcount_file\" method to do wordcount for the file. You are going to get\n",
    "    #    a dictionary for each file\n",
    "    # 4. you need to combine the wordcount results for all files in the directory.\n",
    "    #    the idea is that after reading the first file, you will get a dictionary that shows wordcounts for the file,\n",
    "    #    You need to add results stored in the dictionary to \"dc\", the output dictionary. Then you read the second file, and you again get a dictionary.\n",
    "    #    You need to add the results stored in the dictionary again to \"dict\", and so on.\n",
    "    #    How to add the contents in a dictionary to another dictionary? you need to take out a key-value pair from the former and check to see if\n",
    "    #    the latter already has the key, if yes, you need to modify the value associated with the key,\n",
    "    #    if no, you just add the key-value pair to the latter.\n",
    "    #\n",
    "    rootdir = 'wordcount_data/'\n",
    "        \n",
    "    files = []\n",
    "    # r=root, d=directories, f = files\n",
    "    for r, d, f in os.walk(rootdir):\n",
    "        for file in f:\n",
    "            if '.txt' in file:\n",
    "                files.append(os.path.join(r, file))\n",
    "    #print(files)\n",
    "    \n",
    "    i = 0\n",
    "    for i in range(len(files)):\n",
    "         dc.update(wordcount_file(files[i]))\n",
    "    \n",
    "    dc = reverse_key_value(dc)\n",
    "    return dc\n",
    "\n",
    "# The function call below will show you the wordcounts in the dictionary \"word_data\"\n",
    "print(wordcount_dictionary(\"wordcount_data\"))"
   ]
  },
  {
   "cell_type": "code",
   "execution_count": null,
   "metadata": {},
   "outputs": [],
   "source": []
  }
 ],
 "metadata": {
  "kernelspec": {
   "display_name": "Python 3",
   "language": "python",
   "name": "python3"
  },
  "language_info": {
   "codemirror_mode": {
    "name": "ipython",
    "version": 3
   },
   "file_extension": ".py",
   "mimetype": "text/x-python",
   "name": "python",
   "nbconvert_exporter": "python",
   "pygments_lexer": "ipython3",
   "version": "3.7.7"
  }
 },
 "nbformat": 4,
 "nbformat_minor": 2
}
