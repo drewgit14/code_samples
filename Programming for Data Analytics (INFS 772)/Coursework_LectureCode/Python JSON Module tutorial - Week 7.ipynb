{
 "cells": [
  {
   "cell_type": "markdown",
   "metadata": {},
   "source": [
    "# Python JSON Module tutorial\n",
    "## Week 7\n",
    "**In Python, the json module provides an API similar to convert in-memory Python objects to a serialized representation known as JavaScript Object Notation (JSON) and vice-a-versa.**\n",
    "## MongoDB\n",
    "<img src='https://www.kdnuggets.com/wp-content/uploads/db-engines-ranking.jpg' width=50%>\n",
    "<center>Top NoSQL database engines</center><br><br>\n",
    "MongoDB is a document store, and the current top NoSQL database engine in use today. As is the requirement for NoSQL engines, MongoDB does not use a relational schema, instead using JSON-like \"documents\" to store data. The document is akin to a record, housing fields and values. MongoDB supports dynamic schemas, and is free and open source software.\n",
    "<img src='https://www.kdnuggets.com/wp-content/uploads/mongodb-json-record.png' width=50%>\n",
    "<center>Structure of JSON document</center><br><br>\n",
    "https://db-engines.com/en/ranking_trend\n",
    "<br><br>\n",
    "Drivers in MongoDB are used for connectivity between client applications and the database. For example, if we have a Python program and we want to connect to MongoDB, then we need to download and integrate the Python driver so that the program can work with the MongoDB database. PyMongo is the driver for Python. \n",
    "<img src='http://www.bogotobogo.com/python/images/MongoDB/Install/App_Architecture.png' width=50%>"
   ]
  },
  {
   "cell_type": "markdown",
   "metadata": {},
   "source": [
    "## JSON\n",
    "JavaScript Object Notation (JSON) is an open, human and machine-readable standard that facilitates data interchange, and along with XML is the main format for data interchange used on the modern web. JSON supports all the basic data types you’d expect: numbers, strings, and boolean values, as well as arrays.\n",
    "\n",
    "Document databases such as MongoDB use JSON documents in order to store records, just as tables and rows store records in a relational database. \n",
    "\n",
    "- SON is a lightweight text-based open standard data-interchange format. \n",
    "- It is human readable. \n",
    "- It is entirely language independent and can be used with most of the modern programming languages.\n",
    "\n",
    "JSON is often used to serialize and transfer data over a network connection, for example between the web server and a web application. \n",
    "\n",
    "In computer science, serialization is a process to transforming data structures and objects in a format suitable to be stored in a file or memory buffer or transmitted over a network connection. Later on, this data can be retrieved. Because of the very nature of the JSON, it is useful for storing or representing semi structured data.\n",
    "\n",
    "We will now look how a typical JSON looks like. The following code snippet is a valid JSON representing information about a book."
   ]
  },
  {
   "cell_type": "code",
   "execution_count": null,
   "metadata": {},
   "outputs": [],
   "source": [
    "{\n",
    "    \"Title\": \"The Cuckoo's Calling\",\n",
    "    \"Author\": \"Robert Galbraith\",\n",
    "    \"Genre\": \"classic crime novel\",\n",
    "    \"Detail\": {\n",
    "        \"Publisher\": \"Little Brown\",\n",
    "        \"Publication_Year\": 2013,\n",
    "        \"ISBN-13\": 9781408704004,\n",
    "        \"Language\": \"English\",\n",
    "        \"Pages\": 494\n",
    "    },\n",
    "    \"Price\": [\n",
    "        {\n",
    "            \"type\": \"Hardcover\",\n",
    "            \"price\": 16.65\n",
    "        },\n",
    "        {\n",
    "            \"type\": \"Kidle Edition\",\n",
    "            \"price\": 7.03\n",
    "        }\n",
    "    ]\n",
    "}"
   ]
  },
  {
   "cell_type": "markdown",
   "metadata": {},
   "source": [
    "### There four basic and built-in data types in JSON. \n",
    "- They are strings, numbers, booleans (i.e true and false) and null. Besides, there are two data types which are structured - objects and arrays.\n",
    "- Objects are wrapped within '{' and '}'. Arrays are enclosed by '[' and ']'. Objects are a list of label-value pairs. Arrays are list of values.\n",
    "- Both objects and arrays can be nested.\n",
    "- strings, numbers, booleans (i.e true and false) and null can be used as values.\n",
    "<img src='https://www.w3resource.com/w3r_images/json-introduction.png'>"
   ]
  },
  {
   "cell_type": "markdown",
   "metadata": {},
   "source": [
    "### Encode Python objects as JSON strings"
   ]
  },
  {
   "cell_type": "code",
   "execution_count": null,
   "metadata": {},
   "outputs": [],
   "source": [
    "json.dump(obj, fp,\n",
    "                  skipkeys=False,\n",
    "                  ensure_ascii=True,\n",
    "  \t\t  check_circular=True,\n",
    "\t\t  allow_nan=True,\n",
    "\t\t  cls=None,\n",
    "\t\t  indent=None,\n",
    "\t\t  separators=None,\n",
    "\t\t  default=None,\n",
    "\t\t  sort_keys=False, **kw)"
   ]
  },
  {
   "cell_type": "markdown",
   "metadata": {},
   "source": [
    "**The above method serialize obj as a JSON formatted stream to fp (a .write()-supporting file-like object) using the following conversion table.**\n",
    "\n",
    "        Python\t                                JSON\n",
    "        dict\t                                object\n",
    "        list,tuple\t                            array\n",
    "        str\t                                    string\n",
    "        int, float, int- & float-derived Enums\tnumber\n",
    "        True\t                                true\n",
    "        False\t                                false\n",
    "        None\t                                null"
   ]
  },
  {
   "cell_type": "markdown",
   "metadata": {},
   "source": [
    "Python Dictionaries to JSON strings"
   ]
  },
  {
   "cell_type": "code",
   "execution_count": 8,
   "metadata": {},
   "outputs": [
    {
     "name": "stdout",
     "output_type": "stream",
     "text": [
      "{\"101\": {\"class\": \"V\", \"Name\": \"Rohit\", \"Roll_no\": 7}, \"102\": {\"class\": \"V\", \"Name\": \"David\", \"Roll_no\": 8}, \"103\": {\"class\": \"V\", \"Name\": \"Samiya\", \"Roll_no\": 12}}\n"
     ]
    }
   ],
   "source": [
    "import json\n",
    "student = {\"101\":{\"class\":'V', \"Name\":'Rohit',  \"Roll_no\":7},\n",
    "           \"102\":{\"class\":'V', \"Name\":'David',  \"Roll_no\":8},\n",
    "           \"103\":{\"class\":'V', \"Name\":'Samiya', \"Roll_no\":12}}\n",
    "\n",
    "fp=json.dumps(student)\n",
    "print(fp)"
   ]
  },
  {
   "cell_type": "code",
   "execution_count": 6,
   "metadata": {},
   "outputs": [
    {
     "data": {
      "text/plain": [
       "(dict, str)"
      ]
     },
     "execution_count": 6,
     "metadata": {},
     "output_type": "execute_result"
    }
   ],
   "source": [
    "type(student),type(fp)"
   ]
  },
  {
   "cell_type": "markdown",
   "metadata": {},
   "source": [
    "Python Dictionaries to JSON strings (sorted by key)"
   ]
  },
  {
   "cell_type": "code",
   "execution_count": 10,
   "metadata": {},
   "outputs": [
    {
     "name": "stdout",
     "output_type": "stream",
     "text": [
      "{\"101\": {\"Name\": \"Rohit\", \"Roll_no\": 7, \"class\": \"V\"}, \"102\": {\"Name\": \"David\", \"Roll_no\": 8, \"class\": \"V\"}, \"103\": {\"Name\": \"Samiya\", \"Roll_no\": 12, \"class\": \"V\"}}\n"
     ]
    }
   ],
   "source": [
    "student = {\"101\":{\"class\":'V', \"Name\":'Rohit',  \"Roll_no\":7},\n",
    "           \"102\":{\"class\":'V', \"Name\":'David',  \"Roll_no\":8},\n",
    "           \"103\":{\"class\":'V', \"Name\":'Samiya', \"Roll_no\":12}}\n",
    "print(json.dumps(student, sort_keys=True))"
   ]
  },
  {
   "cell_type": "markdown",
   "metadata": {},
   "source": [
    "Python tuple to JSON array"
   ]
  },
  {
   "cell_type": "code",
   "execution_count": 11,
   "metadata": {},
   "outputs": [
    {
     "name": "stdout",
     "output_type": "stream",
     "text": [
      "[\"Red\", \"Black\", \"White\"]\n"
     ]
    }
   ],
   "source": [
    "tup1 = 'Red', 'Black', 'White';\n",
    "print(json.dumps(tup1))"
   ]
  },
  {
   "cell_type": "markdown",
   "metadata": {},
   "source": [
    "Python list to JSON array"
   ]
  },
  {
   "cell_type": "code",
   "execution_count": 13,
   "metadata": {},
   "outputs": [
    {
     "name": "stdout",
     "output_type": "stream",
     "text": [
      "[5, 12, 13, 14]\n"
     ]
    }
   ],
   "source": [
    "list1 = [5, 12, 13, 14]\n",
    "print(json.dumps(list1))"
   ]
  },
  {
   "cell_type": "markdown",
   "metadata": {},
   "source": [
    "Python string to JSON string"
   ]
  },
  {
   "cell_type": "code",
   "execution_count": 14,
   "metadata": {},
   "outputs": [
    {
     "name": "stdout",
     "output_type": "stream",
     "text": [
      "\"Python and JSON\"\n"
     ]
    }
   ],
   "source": [
    "string1 = 'Python and JSON'\n",
    "print(json.dumps(string1))"
   ]
  },
  {
   "cell_type": "markdown",
   "metadata": {},
   "source": [
    "### Decode JSON strings into Python objects"
   ]
  },
  {
   "cell_type": "code",
   "execution_count": null,
   "metadata": {},
   "outputs": [],
   "source": [
    "json.load(fp, \n",
    "          cls=None, \n",
    "\t\t  object_hook=None, \n",
    "\t\t  parse_float=None, \n",
    "\t\t  parse_int=None, \n",
    "\t\t  parse_constant=None, \n",
    "\t\t  object_pairs_hook=None, **kw)"
   ]
  },
  {
   "cell_type": "markdown",
   "metadata": {},
   "source": [
    "The above method deserialize fp (a .read()-supporting file-like object containing a JSON document) to a Python object using the conversion table."
   ]
  },
  {
   "cell_type": "markdown",
   "metadata": {},
   "source": [
    "JSON strings to Python Dictionaries"
   ]
  },
  {
   "cell_type": "code",
   "execution_count": 19,
   "metadata": {},
   "outputs": [
    {
     "name": "stdout",
     "output_type": "stream",
     "text": [
      "{'103': {'class': 'V', 'Name': 'Samiya', 'Roll_n': 12}, '102': {'class': 'V', 'Name': 'David', 'Roll_no': 8}, '101': {'class': 'V', 'Name': 'Rohit', 'Roll_no': 7}}\n"
     ]
    }
   ],
   "source": [
    "json_data = '{\"103\": {\"class\": \"V\", \"Name\": \"Samiya\", \"Roll_n\": 12}, \"102\": {\"class\": \"V\", \"Name\": \"David\", \"Roll_no\": 8}, \"101\": {\"class\": \"V\", \"Name\": \"Rohit\", \"Roll_no\": 7}}';\n",
    "mydict = json.loads(json_data)\n",
    "print(mydict)"
   ]
  },
  {
   "cell_type": "code",
   "execution_count": 20,
   "metadata": {},
   "outputs": [
    {
     "data": {
      "text/plain": [
       "(str, dict)"
      ]
     },
     "execution_count": 20,
     "metadata": {},
     "output_type": "execute_result"
    }
   ],
   "source": [
    "type(json_data),type(mydict)"
   ]
  },
  {
   "cell_type": "markdown",
   "metadata": {},
   "source": [
    "## Summary\n",
    "- MongoDB is a document store, and the current top NoSQL database engine in use today.\n",
    "- MongoDB does not use a relational schema, instead using JSON-like \"documents\" to store data.\n",
    "- JavaScript Object Notation (JSON) is an open, human and machine-readable standard that facilitates data interchange, and along with XML is the main format for data interchange used on the modern web. \n",
    "- JSON supports all the basic data types you’d expect.\n",
    "- Document databases such as MongoDB use JSON documents in order to store records, just as tables and rows store records in a relational database. \n",
    "- The json library can parse JSON from strings or files. The library parses JSON into a Python dictionary or list. It can also convert Python dictionaries or lists into JSON strings.\n",
    "- It is useful for storing or representing semi-structured data."
   ]
  }
 ],
 "metadata": {
  "kernelspec": {
   "display_name": "Python 3",
   "language": "python",
   "name": "python3"
  },
  "language_info": {
   "codemirror_mode": {
    "name": "ipython",
    "version": 3
   },
   "file_extension": ".py",
   "mimetype": "text/x-python",
   "name": "python",
   "nbconvert_exporter": "python",
   "pygments_lexer": "ipython3",
   "version": "3.6.3"
  }
 },
 "nbformat": 4,
 "nbformat_minor": 2
}
